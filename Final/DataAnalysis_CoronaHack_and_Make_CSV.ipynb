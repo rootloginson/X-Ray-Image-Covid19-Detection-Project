{
  "nbformat": 4,
  "nbformat_minor": 0,
  "metadata": {
    "colab": {
      "name": "DataAnalysis_CoronaHack_and_Make_CSV.ipynb",
      "provenance": [],
      "collapsed_sections": [
        "8eDIdx2HhVG4",
        "A9wh9MMzjRy2",
        "K5zpackfljc3",
        "n31ZVMFthAHa"
      ],
      "toc_visible": true,
      "include_colab_link": true
    },
    "kernelspec": {
      "display_name": "Python 3",
      "name": "python3"
    },
    "accelerator": "GPU"
  },
  "cells": [
    {
      "cell_type": "markdown",
      "metadata": {
        "id": "view-in-github",
        "colab_type": "text"
      },
      "source": [
        "<a href=\"https://colab.research.google.com/github/rootloginson/X-Ray-Image-Covid19-Detection-Project/blob/master/Final/DataAnalysis_CoronaHack_and_Make_CSV.ipynb\" target=\"_parent\"><img src=\"https://colab.research.google.com/assets/colab-badge.svg\" alt=\"Open In Colab\"/></a>"
      ]
    },
    {
      "cell_type": "markdown",
      "metadata": {
        "id": "d78N9Sxd9Qiq"
      },
      "source": [
        "---\n",
        "## It'll look better and intuitive on Google Colab Environment (◕‿◕✿)\n",
        "\n",
        "---"
      ]
    },
    {
      "cell_type": "code",
      "metadata": {
        "colab": {
          "base_uri": "https://localhost:8080/"
        },
        "id": "ncMFTjTc78Fz",
        "outputId": "16b3204a-fd04-4b60-bc85-35dbcf111b23"
      },
      "source": [
        "# This part probably will be enough for utilizing Drive in Colab\n",
        "# but examine links above if you encounter with problems.\n",
        "from google.colab import drive\n",
        "drive.mount('/content/drive/', force_remount=True)"
      ],
      "execution_count": null,
      "outputs": [
        {
          "output_type": "stream",
          "text": [
            "Mounted at /content/drive/\n"
          ],
          "name": "stdout"
        }
      ]
    },
    {
      "cell_type": "code",
      "metadata": {
        "colab": {
          "base_uri": "https://localhost:8080/"
        },
        "id": "VWxIq34Y8A9u",
        "outputId": "88ecea63-512b-4236-8143-e53b4f6e0d6e"
      },
      "source": [
        "!nvidia-smi"
      ],
      "execution_count": null,
      "outputs": [
        {
          "output_type": "stream",
          "text": [
            "Mon Jan 18 22:23:33 2021       \n",
            "+-----------------------------------------------------------------------------+\n",
            "| NVIDIA-SMI 460.27.04    Driver Version: 418.67       CUDA Version: 10.1     |\n",
            "|-------------------------------+----------------------+----------------------+\n",
            "| GPU  Name        Persistence-M| Bus-Id        Disp.A | Volatile Uncorr. ECC |\n",
            "| Fan  Temp  Perf  Pwr:Usage/Cap|         Memory-Usage | GPU-Util  Compute M. |\n",
            "|                               |                      |               MIG M. |\n",
            "|===============================+======================+======================|\n",
            "|   0  Tesla T4            Off  | 00000000:00:04.0 Off |                    0 |\n",
            "| N/A   45C    P8     9W /  70W |      0MiB / 15079MiB |      0%      Default |\n",
            "|                               |                      |                 ERR! |\n",
            "+-------------------------------+----------------------+----------------------+\n",
            "                                                                               \n",
            "+-----------------------------------------------------------------------------+\n",
            "| Processes:                                                                  |\n",
            "|  GPU   GI   CI        PID   Type   Process name                  GPU Memory |\n",
            "|        ID   ID                                                   Usage      |\n",
            "|=============================================================================|\n",
            "|  No running processes found                                                 |\n",
            "+-----------------------------------------------------------------------------+\n"
          ],
          "name": "stdout"
        }
      ]
    },
    {
      "cell_type": "markdown",
      "metadata": {
        "id": "p_cOE3k-ZCba"
      },
      "source": [
        "# *Import Libraries and path"
      ]
    },
    {
      "cell_type": "code",
      "metadata": {
        "id": "MpyQnqNL8Bbk"
      },
      "source": [
        "import torch\n",
        "import torch.nn as nn\n",
        "import torch.optim as optim\n",
        "from torch.utils.data import DataLoader\n",
        "from torchvision.datasets import ImageFolder\n",
        "import torchvision.transforms as transforms\n",
        "from PIL import Image\n",
        "import os\n",
        "import numpy as np\n",
        "import matplotlib.pyplot as plt\n",
        "%matplotlib inline\n",
        "\n",
        "import pandas as pd\n",
        "from sklearn.model_selection import train_test_split\n",
        "from torchvision import models\n",
        "import os "
      ],
      "execution_count": null,
      "outputs": []
    },
    {
      "cell_type": "code",
      "metadata": {
        "id": "4L_sXp9l8T4j"
      },
      "source": [
        "# Working Directory path\n",
        "wd = '/content/drive/MyDrive/Colab Notebooks'"
      ],
      "execution_count": null,
      "outputs": []
    },
    {
      "cell_type": "markdown",
      "metadata": {
        "id": "-qHItCEhPysq"
      },
      "source": [
        "# Creating DataFrame for CustomDataset"
      ]
    },
    {
      "cell_type": "markdown",
      "metadata": {
        "id": "8eDIdx2HhVG4"
      },
      "source": [
        "### Reading .csv, \n",
        "- *Class*(*Labels*) column added (nf: dataframe name )\n",
        "- Image name setted as index name\n",
        "- Image dimension list created (gray, rgb, rgba.)\n",
        "- label_dict (object), for class(label) explanations\n"
      ]
    },
    {
      "cell_type": "code",
      "metadata": {
        "id": "nt6vGBCt8CpK"
      },
      "source": [
        "path1 = wd + '/KaggleCovid/Coronahack_csv/Chest_xray_Corona_Metadata.csv'\n",
        "path2 = wd + '/KaggleCovid/Coronahack_csv/Chest_xray_Corona_dataset_Summary.csv'\n",
        "\n",
        "# read csv files from Coronahack_csv file\n",
        "df1 = pd.read_csv(path1, index_col=0)\n",
        "df2 = pd.read_csv(path2, index_col=0)"
      ],
      "execution_count": null,
      "outputs": []
    },
    {
      "cell_type": "code",
      "metadata": {
        "colab": {
          "base_uri": "https://localhost:8080/",
          "height": 424
        },
        "id": "RXJeKJnx9ISR",
        "outputId": "a217b7fe-13c8-4812-831f-f0aba47e9d12"
      },
      "source": [
        "df1"
      ],
      "execution_count": null,
      "outputs": [
        {
          "output_type": "execute_result",
          "data": {
            "text/html": [
              "<div>\n",
              "<style scoped>\n",
              "    .dataframe tbody tr th:only-of-type {\n",
              "        vertical-align: middle;\n",
              "    }\n",
              "\n",
              "    .dataframe tbody tr th {\n",
              "        vertical-align: top;\n",
              "    }\n",
              "\n",
              "    .dataframe thead th {\n",
              "        text-align: right;\n",
              "    }\n",
              "</style>\n",
              "<table border=\"1\" class=\"dataframe\">\n",
              "  <thead>\n",
              "    <tr style=\"text-align: right;\">\n",
              "      <th></th>\n",
              "      <th>X_ray_image_name</th>\n",
              "      <th>Label</th>\n",
              "      <th>Dataset_type</th>\n",
              "      <th>Label_2_Virus_category</th>\n",
              "      <th>Label_1_Virus_category</th>\n",
              "    </tr>\n",
              "  </thead>\n",
              "  <tbody>\n",
              "    <tr>\n",
              "      <th>0</th>\n",
              "      <td>IM-0128-0001.jpeg</td>\n",
              "      <td>Normal</td>\n",
              "      <td>TRAIN</td>\n",
              "      <td>NaN</td>\n",
              "      <td>NaN</td>\n",
              "    </tr>\n",
              "    <tr>\n",
              "      <th>1</th>\n",
              "      <td>IM-0127-0001.jpeg</td>\n",
              "      <td>Normal</td>\n",
              "      <td>TRAIN</td>\n",
              "      <td>NaN</td>\n",
              "      <td>NaN</td>\n",
              "    </tr>\n",
              "    <tr>\n",
              "      <th>2</th>\n",
              "      <td>IM-0125-0001.jpeg</td>\n",
              "      <td>Normal</td>\n",
              "      <td>TRAIN</td>\n",
              "      <td>NaN</td>\n",
              "      <td>NaN</td>\n",
              "    </tr>\n",
              "    <tr>\n",
              "      <th>3</th>\n",
              "      <td>IM-0122-0001.jpeg</td>\n",
              "      <td>Normal</td>\n",
              "      <td>TRAIN</td>\n",
              "      <td>NaN</td>\n",
              "      <td>NaN</td>\n",
              "    </tr>\n",
              "    <tr>\n",
              "      <th>4</th>\n",
              "      <td>IM-0119-0001.jpeg</td>\n",
              "      <td>Normal</td>\n",
              "      <td>TRAIN</td>\n",
              "      <td>NaN</td>\n",
              "      <td>NaN</td>\n",
              "    </tr>\n",
              "    <tr>\n",
              "      <th>...</th>\n",
              "      <td>...</td>\n",
              "      <td>...</td>\n",
              "      <td>...</td>\n",
              "      <td>...</td>\n",
              "      <td>...</td>\n",
              "    </tr>\n",
              "    <tr>\n",
              "      <th>5928</th>\n",
              "      <td>person1637_virus_2834.jpeg</td>\n",
              "      <td>Pnemonia</td>\n",
              "      <td>TEST</td>\n",
              "      <td>NaN</td>\n",
              "      <td>Virus</td>\n",
              "    </tr>\n",
              "    <tr>\n",
              "      <th>5929</th>\n",
              "      <td>person1635_virus_2831.jpeg</td>\n",
              "      <td>Pnemonia</td>\n",
              "      <td>TEST</td>\n",
              "      <td>NaN</td>\n",
              "      <td>Virus</td>\n",
              "    </tr>\n",
              "    <tr>\n",
              "      <th>5930</th>\n",
              "      <td>person1634_virus_2830.jpeg</td>\n",
              "      <td>Pnemonia</td>\n",
              "      <td>TEST</td>\n",
              "      <td>NaN</td>\n",
              "      <td>Virus</td>\n",
              "    </tr>\n",
              "    <tr>\n",
              "      <th>5931</th>\n",
              "      <td>person1633_virus_2829.jpeg</td>\n",
              "      <td>Pnemonia</td>\n",
              "      <td>TEST</td>\n",
              "      <td>NaN</td>\n",
              "      <td>Virus</td>\n",
              "    </tr>\n",
              "    <tr>\n",
              "      <th>5932</th>\n",
              "      <td>person1632_virus_2827.jpeg</td>\n",
              "      <td>Pnemonia</td>\n",
              "      <td>TEST</td>\n",
              "      <td>NaN</td>\n",
              "      <td>Virus</td>\n",
              "    </tr>\n",
              "  </tbody>\n",
              "</table>\n",
              "<p>5910 rows × 5 columns</p>\n",
              "</div>"
            ],
            "text/plain": [
              "                X_ray_image_name  ... Label_1_Virus_category\n",
              "0              IM-0128-0001.jpeg  ...                    NaN\n",
              "1              IM-0127-0001.jpeg  ...                    NaN\n",
              "2              IM-0125-0001.jpeg  ...                    NaN\n",
              "3              IM-0122-0001.jpeg  ...                    NaN\n",
              "4              IM-0119-0001.jpeg  ...                    NaN\n",
              "...                          ...  ...                    ...\n",
              "5928  person1637_virus_2834.jpeg  ...                  Virus\n",
              "5929  person1635_virus_2831.jpeg  ...                  Virus\n",
              "5930  person1634_virus_2830.jpeg  ...                  Virus\n",
              "5931  person1633_virus_2829.jpeg  ...                  Virus\n",
              "5932  person1632_virus_2827.jpeg  ...                  Virus\n",
              "\n",
              "[5910 rows x 5 columns]"
            ]
          },
          "metadata": {
            "tags": []
          },
          "execution_count": 6
        }
      ]
    },
    {
      "cell_type": "code",
      "metadata": {
        "colab": {
          "base_uri": "https://localhost:8080/",
          "height": 269
        },
        "id": "ZYmEpFMD9Sl1",
        "outputId": "02e969af-98f9-45ea-ac3a-ea6edb3c010f"
      },
      "source": [
        "df2"
      ],
      "execution_count": null,
      "outputs": [
        {
          "output_type": "execute_result",
          "data": {
            "text/html": [
              "<div>\n",
              "<style scoped>\n",
              "    .dataframe tbody tr th:only-of-type {\n",
              "        vertical-align: middle;\n",
              "    }\n",
              "\n",
              "    .dataframe tbody tr th {\n",
              "        vertical-align: top;\n",
              "    }\n",
              "\n",
              "    .dataframe thead th {\n",
              "        text-align: right;\n",
              "    }\n",
              "</style>\n",
              "<table border=\"1\" class=\"dataframe\">\n",
              "  <thead>\n",
              "    <tr style=\"text-align: right;\">\n",
              "      <th></th>\n",
              "      <th>Label</th>\n",
              "      <th>Label_1_Virus_category</th>\n",
              "      <th>Label_2_Virus_category</th>\n",
              "      <th>Image_Count</th>\n",
              "    </tr>\n",
              "  </thead>\n",
              "  <tbody>\n",
              "    <tr>\n",
              "      <th>0</th>\n",
              "      <td>Normal</td>\n",
              "      <td>NaN</td>\n",
              "      <td>NaN</td>\n",
              "      <td>1576</td>\n",
              "    </tr>\n",
              "    <tr>\n",
              "      <th>1</th>\n",
              "      <td>Pnemonia</td>\n",
              "      <td>Stress-Smoking</td>\n",
              "      <td>ARDS</td>\n",
              "      <td>2</td>\n",
              "    </tr>\n",
              "    <tr>\n",
              "      <th>2</th>\n",
              "      <td>Pnemonia</td>\n",
              "      <td>Virus</td>\n",
              "      <td>NaN</td>\n",
              "      <td>1493</td>\n",
              "    </tr>\n",
              "    <tr>\n",
              "      <th>3</th>\n",
              "      <td>Pnemonia</td>\n",
              "      <td>Virus</td>\n",
              "      <td>COVID-19</td>\n",
              "      <td>58</td>\n",
              "    </tr>\n",
              "    <tr>\n",
              "      <th>4</th>\n",
              "      <td>Pnemonia</td>\n",
              "      <td>Virus</td>\n",
              "      <td>SARS</td>\n",
              "      <td>4</td>\n",
              "    </tr>\n",
              "    <tr>\n",
              "      <th>5</th>\n",
              "      <td>Pnemonia</td>\n",
              "      <td>bacteria</td>\n",
              "      <td>NaN</td>\n",
              "      <td>2772</td>\n",
              "    </tr>\n",
              "    <tr>\n",
              "      <th>6</th>\n",
              "      <td>Pnemonia</td>\n",
              "      <td>bacteria</td>\n",
              "      <td>Streptococcus</td>\n",
              "      <td>5</td>\n",
              "    </tr>\n",
              "  </tbody>\n",
              "</table>\n",
              "</div>"
            ],
            "text/plain": [
              "      Label Label_1_Virus_category Label_2_Virus_category  Image_Count\n",
              "0    Normal                    NaN                    NaN         1576\n",
              "1  Pnemonia         Stress-Smoking                   ARDS            2\n",
              "2  Pnemonia                  Virus                    NaN         1493\n",
              "3  Pnemonia                  Virus               COVID-19           58\n",
              "4  Pnemonia                  Virus                   SARS            4\n",
              "5  Pnemonia               bacteria                    NaN         2772\n",
              "6  Pnemonia               bacteria          Streptococcus            5"
            ]
          },
          "metadata": {
            "tags": []
          },
          "execution_count": 7
        }
      ]
    },
    {
      "cell_type": "code",
      "metadata": {
        "colab": {
          "base_uri": "https://localhost:8080/"
        },
        "id": "yiG67A3M9a07",
        "outputId": "b5411af8-523c-4470-fa32-f2d465912a08"
      },
      "source": [
        "# check if there is a null \"Label\"\n",
        "df1['Label'].isnull().sum()"
      ],
      "execution_count": null,
      "outputs": [
        {
          "output_type": "execute_result",
          "data": {
            "text/plain": [
              "0"
            ]
          },
          "metadata": {
            "tags": []
          },
          "execution_count": 8
        }
      ]
    },
    {
      "cell_type": "code",
      "metadata": {
        "id": "0to8zitu9euY"
      },
      "source": [
        "# create new frame (nf) with 'class' column\n",
        "try:\n",
        "  del nf\n",
        "except:\n",
        "  pass\n",
        "\n",
        "# create copy of the metadata.csv\n",
        "# nf = Abbr. for 'new frame'\n",
        "nf = df1.copy()\n",
        "# add a Class column for classification\n",
        "nf['Class'] = 'create'\n",
        "\n",
        "nf.loc[nf['Label']=='Normal', 'Class'] = 0   # Normal\n",
        "nf.loc[(df1['Label_1_Virus_category']=='bacteria') & (df1['Label_2_Virus_category'].isnull()), 'Class'] = 1            # Bacteria, some\n",
        "nf.loc[(df1['Label_1_Virus_category']=='Virus') & (df1['Label_2_Virus_category'].isnull()), 'Class'] = 2               # Virus, some\n",
        "nf.loc[(df1['Label_1_Virus_category']=='Virus') & (df1['Label_2_Virus_category']=='COVID-19'), 'Class'] = 3            # COVID19\n",
        "nf.loc[(df1['Label_1_Virus_category']=='Virus') & (df1['Label_2_Virus_category']=='SARS'), 'Class'] = 4                # SARS, Virus\n",
        "nf.loc[(df1['Label_1_Virus_category']=='bacteria') & (df1['Label_2_Virus_category']=='Streptococcus'), 'Class'] = 5    # Streptococcus, Bacteria\n",
        "nf.loc[(df1['Label_1_Virus_category']=='Stress-Smoking') & (df1['Label_2_Virus_category']=='ARDS'), 'Class'] = 6       # Stress-Smoking\n",
        "\n",
        "label_dict = {0:'Normal', 1:'Bacteria', 2:'Virus', 3:'Covid19', 4:'Sars, Virus', 5:'Strept., Bacteria', 6:'Stress Smoking'}"
      ],
      "execution_count": null,
      "outputs": []
    },
    {
      "cell_type": "code",
      "metadata": {
        "colab": {
          "base_uri": "https://localhost:8080/"
        },
        "id": "YZhKrY_69pH8",
        "outputId": "344cbad0-43a4-48b8-e6fc-b2a457cf4c97"
      },
      "source": [
        "# compare the data summary \n",
        "print(df2.info)\n",
        "print(\"\")\n",
        "# with created dataframe with class labels\n",
        "print(nf['Class'].value_counts())"
      ],
      "execution_count": null,
      "outputs": [
        {
          "output_type": "stream",
          "text": [
            "<bound method DataFrame.info of       Label Label_1_Virus_category Label_2_Virus_category  Image_Count\n",
            "0    Normal                    NaN                    NaN         1576\n",
            "1  Pnemonia         Stress-Smoking                   ARDS            2\n",
            "2  Pnemonia                  Virus                    NaN         1493\n",
            "3  Pnemonia                  Virus               COVID-19           58\n",
            "4  Pnemonia                  Virus                   SARS            4\n",
            "5  Pnemonia               bacteria                    NaN         2772\n",
            "6  Pnemonia               bacteria          Streptococcus            5>\n",
            "\n",
            "1    2772\n",
            "0    1576\n",
            "2    1493\n",
            "3      58\n",
            "5       5\n",
            "4       4\n",
            "6       2\n",
            "Name: Class, dtype: int64\n"
          ],
          "name": "stdout"
        }
      ]
    },
    {
      "cell_type": "markdown",
      "metadata": {
        "id": "2ugSq0K5eU3E"
      },
      "source": [
        "```python\n",
        "# pick 3 random Covid19 image, axis=0 means use row for random pick.\n",
        "randCovid=list(nf[nf['Class']==3].sample(3, axis=0).X_ray_image_name)\n",
        "\n",
        "# 3 random covid sample\n",
        "randCovid = ['F2DE909F-E19C-4900-92F5-8F435B031AC6.jpeg', '1-s2.0-S0929664620300449-gr2_lrg-c.jpg',  'F63AB6CE-1968-4154-A70F-913AF154F53D.jpeg']\n",
        "\n",
        "for name in randCovid: \n",
        "  _here = wd + '/KaggleCovid/Coronahack-Chest-XRay-Dataset/train/' + name\n",
        "  _there = wd + '/KaggleCovid/Coronahack-Chest-XRay-Dataset/test/' + name   \n",
        "  os.rename(_here, _there)\n",
        "```"
      ]
    },
    {
      "cell_type": "markdown",
      "metadata": {
        "id": "A9wh9MMzjRy2"
      },
      "source": [
        "### Split train and test dataframe\n",
        "```python\n",
        "def split_df_train_test(dataframe):\n",
        "  returns train_df, test_df\n",
        "```"
      ]
    },
    {
      "cell_type": "code",
      "metadata": {
        "id": "UcYDq1vC9sA9"
      },
      "source": [
        "def split_df_train_test(dataframe):\n",
        "  \"\"\"\n",
        "  Arguments: pandas dataframe\n",
        "\n",
        "  Returns  : train_dataframe, test_dataframe \n",
        "           : train_dataframe > columns are: 'X_ray_image_name', 'Class'\n",
        "\n",
        "  \"\"\"\n",
        "  nf = dataframe.copy()\n",
        "  # split dataframe between,(Dataset_type) train and test\n",
        "  nf_train = nf[nf['Dataset_type']=='TRAIN'].reset_index(drop=True, inplace=False)\n",
        "  nf_test = nf[nf['Dataset_type']=='TEST'].reset_index(drop=True, inplace=False)\n",
        "  # create a dataframe with below columns. \n",
        "  train_dataframe = nf_train[['X_ray_image_name', 'Class']]\n",
        "  test_dataframe = nf_test[['X_ray_image_name', 'Class']]\n",
        "\n",
        "  #check total numbers of datasets are equal \n",
        "  a = len(nf.Dataset_type.index)\n",
        "  b = len(train_dataframe.Class.index)\n",
        "  c = len(test_dataframe.Class.index)\n",
        "\n",
        "  # check if splitting true\n",
        "  print(nf['Dataset_type'].value_counts())\n",
        "  print(\"\")\n",
        "  print(\"train length\", len(train_dataframe.index))\n",
        "  print(\"test length\", len(test_dataframe.index))\n",
        "\n",
        "  if a == b+c:\n",
        "    return train_dataframe, test_dataframe\n",
        "  else:\n",
        "    return print(\"Train/Test split failed. Why ? \")"
      ],
      "execution_count": null,
      "outputs": []
    },
    {
      "cell_type": "markdown",
      "metadata": {
        "id": "K5zpackfljc3"
      },
      "source": [
        "### Image channel dimension list \n",
        "list of (gray, rgb, rgba etc.)\n"
      ]
    },
    {
      "cell_type": "code",
      "metadata": {
        "colab": {
          "base_uri": "https://localhost:8080/"
        },
        "id": "CnU3H6SwmN15",
        "outputId": "957810f8-9eb0-44c0-d7a0-6c0bf3fdbfb2"
      },
      "source": [
        "# create copy of nf dataframe to work with\n",
        "chdim_df = nf.copy()\n",
        "train_chdim, test_chdim = split_df_train_test(chdim_df)"
      ],
      "execution_count": null,
      "outputs": [
        {
          "output_type": "stream",
          "text": [
            "TRAIN    5286\n",
            "TEST      624\n",
            "Name: Dataset_type, dtype: int64\n",
            "\n",
            "train length 5286\n",
            "test length 624\n"
          ],
          "name": "stdout"
        }
      ]
    },
    {
      "cell_type": "code",
      "metadata": {
        "colab": {
          "base_uri": "https://localhost:8080/"
        },
        "id": "0nANaQxSzgcp",
        "outputId": "c89341e5-8e66-451c-971f-7aebc329dbb9"
      },
      "source": [
        "channel_dimensions_dict = {}\n",
        "\n",
        "# for train file\n",
        "for i in range(len(train_chdim.index)):\n",
        "  # corresponding image name\n",
        "  img_name = train_chdim.iloc[i]['X_ray_image_name'] \n",
        "  # open image\n",
        "  img = Image.open(wd + '/KaggleCovid/Coronahack-Chest-XRay-Dataset/train'+ '/' + img_name)\n",
        "  # number of channel an image has\n",
        "  dim = img.getbands()\n",
        "\n",
        "  if dim not in channel_dimensions_dict:\n",
        "    channel_dimensions_dict[dim] = []\n",
        "\n",
        "  # add image name and channel dim to a list. \n",
        "  channel_dimensions_dict[dim].append(img_name)\n",
        "  # I deleted the set after using dictionary\n",
        "\n",
        "# for test file\n",
        "for i in range(len(test_chdim.index)):\n",
        "  # corresponding image name\n",
        "  img_name = test_chdim.iloc[i]['X_ray_image_name'] \n",
        "  # open image\n",
        "  img = Image.open(wd + '/KaggleCovid/Coronahack-Chest-XRay-Dataset/test'+ '/' + img_name)\n",
        "  # number of channel an image has\n",
        "  dim = img.getbands()\n",
        "\n",
        "  if dim not in channel_dimensions_dict:\n",
        "    channel_dimensions_dict[dim] = []\n",
        "\n",
        "  # add image name and channel dim to a list. \n",
        "  channel_dimensions_dict[dim].append(img_name)\n",
        "  # I deleted the set after using dictionary\n",
        "\n",
        "\n",
        "# {dim:[img_name, ...], dim:[img_name] ...}\n",
        "print(\"There are >>\", channel_dimensions_dict.keys() , \"<< channel Images\\n\")\n",
        "\n",
        "# img quantity in channels\n",
        "dict_info = [(k, len(v)) for k, v in channel_dimensions_dict.items()]\n",
        "print(\"image quantity of channels\")\n",
        "print(dict_info)\n",
        "print(\"\\ntotal\")\n",
        "print(sum(i[1] for i in dict_info))"
      ],
      "execution_count": null,
      "outputs": [
        {
          "output_type": "stream",
          "text": [
            "There are >> dict_keys([('L',), ('R', 'G', 'B'), ('R', 'G', 'B', 'A')]) << channel Images\n",
            "\n",
            "image quantity of channels\n",
            "[(('L',), 5565), (('R', 'G', 'B'), 337), (('R', 'G', 'B', 'A'), 8)]\n",
            "\n",
            "total\n",
            "5910\n"
          ],
          "name": "stdout"
        }
      ]
    },
    {
      "cell_type": "code",
      "metadata": {
        "colab": {
          "base_uri": "https://localhost:8080/"
        },
        "id": "tNEq8_EFZ6cA",
        "outputId": "926e13ec-ed6c-4622-88fe-26fe2d6683ca"
      },
      "source": [
        "# create a dict of{img_name:img_dim}\n",
        "reversed_channel_dict = {v_in:len(k) for (k,v) in channel_dimensions_dict.items() for v_in in v}\n",
        "# create data set of channel dimensions. row: ImageName, column: Channel_dim\n",
        "dataset_channel_dim_df = pd.DataFrame.from_dict(reversed_channel_dict, orient='index', columns=['Channel_dim'])\n",
        "\n",
        "print(dataset_channel_dim_df.value_counts())\n",
        "print(\"\\n size:\",dataset_channel_dim_df.size)"
      ],
      "execution_count": null,
      "outputs": [
        {
          "output_type": "stream",
          "text": [
            "Channel_dim\n",
            "1              5565\n",
            "3               337\n",
            "4                 8\n",
            "dtype: int64\n",
            "\n",
            " size: 5910\n"
          ],
          "name": "stdout"
        }
      ]
    },
    {
      "cell_type": "code",
      "metadata": {
        "id": "bwmixNSHf16L"
      },
      "source": [
        "save_path_of_channel_dim = wd+'/KaggleCovid/Updated_Data_Frames/dataset_channel_dim.csv'\n",
        "dataset_channel_dim_df.to_csv(save_path_of_channel_dim, index_label='X_ray_image_name')"
      ],
      "execution_count": null,
      "outputs": []
    },
    {
      "cell_type": "markdown",
      "metadata": {
        "id": "n31ZVMFthAHa"
      },
      "source": [
        "### Adding channel dim"
      ]
    },
    {
      "cell_type": "code",
      "metadata": {
        "id": "SfMGDFTL8z-Q"
      },
      "source": [
        "# sorted channel dim, index is image name\n",
        "channel_dim_list = pd.read_csv(wd+'/KaggleCovid/Updated_Data_Frames/dataset_channel_dim.csv', index_col=0).sort_index()"
      ],
      "execution_count": null,
      "outputs": []
    },
    {
      "cell_type": "code",
      "metadata": {
        "id": "-u-WR_ccjfBZ"
      },
      "source": [
        "# kaggle_dataset, index=X_ray_image_name, column=Class\n",
        "nf_temp = nf[['X_ray_image_name', 'Dataset_type', 'Class']].set_index('X_ray_image_name').sort_index()"
      ],
      "execution_count": null,
      "outputs": []
    },
    {
      "cell_type": "code",
      "metadata": {
        "colab": {
          "base_uri": "https://localhost:8080/"
        },
        "id": "xPg2KPtZonRM",
        "outputId": "71ca380d-5ced-471f-aaa2-59faf0ef4f33"
      },
      "source": [
        "channel_dim_list.info()"
      ],
      "execution_count": null,
      "outputs": [
        {
          "output_type": "stream",
          "text": [
            "<class 'pandas.core.frame.DataFrame'>\n",
            "Index: 5910 entries, 01E392EE-69F9-4E33-BFCE-E5C968654078.jpeg to streptococcus-pneumoniae-pneumonia-temporal-evolution-1-day3.jpg\n",
            "Data columns (total 1 columns):\n",
            " #   Column       Non-Null Count  Dtype\n",
            "---  ------       --------------  -----\n",
            " 0   Channel_dim  5910 non-null   int64\n",
            "dtypes: int64(1)\n",
            "memory usage: 92.3+ KB\n"
          ],
          "name": "stdout"
        }
      ]
    },
    {
      "cell_type": "code",
      "metadata": {
        "colab": {
          "base_uri": "https://localhost:8080/"
        },
        "id": "rJKuB5z4ophE",
        "outputId": "09e08002-d276-46f8-d76f-714df891f1dc"
      },
      "source": [
        "nf_temp.info()"
      ],
      "execution_count": null,
      "outputs": [
        {
          "output_type": "stream",
          "text": [
            "<class 'pandas.core.frame.DataFrame'>\n",
            "Index: 5910 entries, 01E392EE-69F9-4E33-BFCE-E5C968654078.jpeg to streptococcus-pneumoniae-pneumonia-temporal-evolution-1-day3.jpg\n",
            "Data columns (total 2 columns):\n",
            " #   Column        Non-Null Count  Dtype \n",
            "---  ------        --------------  ----- \n",
            " 0   Dataset_type  5910 non-null   object\n",
            " 1   Class         5910 non-null   object\n",
            "dtypes: object(2)\n",
            "memory usage: 138.5+ KB\n"
          ],
          "name": "stdout"
        }
      ]
    },
    {
      "cell_type": "markdown",
      "metadata": {
        "id": "XdGfZg3JqxIi"
      },
      "source": [
        "---\n",
        "*Adding Channel dims to X_ray_image_name, Class(Label) dataset*\n"
      ]
    },
    {
      "cell_type": "code",
      "metadata": {
        "id": "HVmyIHewqvx1"
      },
      "source": [
        "nf_temp['Channel_dim'] = channel_dim_list['Channel_dim']\n",
        "\n",
        "# Save Processed csv. \n",
        "save_path_of_processed_dataset = wd+'/KaggleCovid/Updated_Data_Frames/processed_dataset.csv'\n",
        "nf_temp.to_csv(save_path_of_processed_dataset, index_label='X_ray_image_name')"
      ],
      "execution_count": null,
      "outputs": []
    },
    {
      "cell_type": "markdown",
      "metadata": {
        "id": "8j4xKcvSsjW6"
      },
      "source": [
        "# *Processed Dataframe (--check point)\n",
        "for processsed dataframe call ***get_processedDataframe()*** function\n",
        "\n",
        "for kaggle dataframe ***get_kaggleDataframe()*** function\n"
      ]
    }
  ]
}
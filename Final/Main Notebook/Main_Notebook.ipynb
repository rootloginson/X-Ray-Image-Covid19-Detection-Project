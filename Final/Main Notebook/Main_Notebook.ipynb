{
  "nbformat": 4,
  "nbformat_minor": 0,
  "metadata": {
    "colab": {
      "name": "Main_Notebook.ipynb",
      "provenance": [],
      "collapsed_sections": [],
      "toc_visible": true,
      "include_colab_link": true
    },
    "kernelspec": {
      "display_name": "Python 3",
      "name": "python3"
    },
    "widgets": {
      "application/vnd.jupyter.widget-state+json": {
        "3a718389a85545f89a7b8dbd98cf954a": {
          "model_module": "@jupyter-widgets/controls",
          "model_name": "HBoxModel",
          "state": {
            "_dom_classes": [],
            "_model_module": "@jupyter-widgets/controls",
            "_model_module_version": "1.5.0",
            "_model_name": "HBoxModel",
            "_view_count": null,
            "_view_module": "@jupyter-widgets/controls",
            "_view_module_version": "1.5.0",
            "_view_name": "HBoxView",
            "box_style": "",
            "children": [
              "IPY_MODEL_1a4a67d77b47481c9e7650b7278e5d87",
              "IPY_MODEL_2036b15339cd4389b23922df4286d792"
            ],
            "layout": "IPY_MODEL_11aacb08eb1e4293a49e778e655ea229"
          }
        },
        "1a4a67d77b47481c9e7650b7278e5d87": {
          "model_module": "@jupyter-widgets/controls",
          "model_name": "FloatProgressModel",
          "state": {
            "_dom_classes": [],
            "_model_module": "@jupyter-widgets/controls",
            "_model_module_version": "1.5.0",
            "_model_name": "FloatProgressModel",
            "_view_count": null,
            "_view_module": "@jupyter-widgets/controls",
            "_view_module_version": "1.5.0",
            "_view_name": "ProgressView",
            "bar_style": "success",
            "description": "100%",
            "description_tooltip": null,
            "layout": "IPY_MODEL_d02362bc8c7e4364b779fd54425a78f6",
            "max": 46827520,
            "min": 0,
            "orientation": "horizontal",
            "style": "IPY_MODEL_97ecc0a9aa3341ff86ceae03b9a54af4",
            "value": 46827520
          }
        },
        "2036b15339cd4389b23922df4286d792": {
          "model_module": "@jupyter-widgets/controls",
          "model_name": "HTMLModel",
          "state": {
            "_dom_classes": [],
            "_model_module": "@jupyter-widgets/controls",
            "_model_module_version": "1.5.0",
            "_model_name": "HTMLModel",
            "_view_count": null,
            "_view_module": "@jupyter-widgets/controls",
            "_view_module_version": "1.5.0",
            "_view_name": "HTMLView",
            "description": "",
            "description_tooltip": null,
            "layout": "IPY_MODEL_cbd0462b7de74014ba81d52d1fcc1219",
            "placeholder": "​",
            "style": "IPY_MODEL_853eb76e4ef04395a9d40efca47d796c",
            "value": " 44.7M/44.7M [00:00&lt;00:00, 120MB/s]"
          }
        },
        "11aacb08eb1e4293a49e778e655ea229": {
          "model_module": "@jupyter-widgets/base",
          "model_name": "LayoutModel",
          "state": {
            "_model_module": "@jupyter-widgets/base",
            "_model_module_version": "1.2.0",
            "_model_name": "LayoutModel",
            "_view_count": null,
            "_view_module": "@jupyter-widgets/base",
            "_view_module_version": "1.2.0",
            "_view_name": "LayoutView",
            "align_content": null,
            "align_items": null,
            "align_self": null,
            "border": null,
            "bottom": null,
            "display": null,
            "flex": null,
            "flex_flow": null,
            "grid_area": null,
            "grid_auto_columns": null,
            "grid_auto_flow": null,
            "grid_auto_rows": null,
            "grid_column": null,
            "grid_gap": null,
            "grid_row": null,
            "grid_template_areas": null,
            "grid_template_columns": null,
            "grid_template_rows": null,
            "height": null,
            "justify_content": null,
            "justify_items": null,
            "left": null,
            "margin": null,
            "max_height": null,
            "max_width": null,
            "min_height": null,
            "min_width": null,
            "object_fit": null,
            "object_position": null,
            "order": null,
            "overflow": null,
            "overflow_x": null,
            "overflow_y": null,
            "padding": null,
            "right": null,
            "top": null,
            "visibility": null,
            "width": null
          }
        },
        "d02362bc8c7e4364b779fd54425a78f6": {
          "model_module": "@jupyter-widgets/base",
          "model_name": "LayoutModel",
          "state": {
            "_model_module": "@jupyter-widgets/base",
            "_model_module_version": "1.2.0",
            "_model_name": "LayoutModel",
            "_view_count": null,
            "_view_module": "@jupyter-widgets/base",
            "_view_module_version": "1.2.0",
            "_view_name": "LayoutView",
            "align_content": null,
            "align_items": null,
            "align_self": null,
            "border": null,
            "bottom": null,
            "display": null,
            "flex": null,
            "flex_flow": null,
            "grid_area": null,
            "grid_auto_columns": null,
            "grid_auto_flow": null,
            "grid_auto_rows": null,
            "grid_column": null,
            "grid_gap": null,
            "grid_row": null,
            "grid_template_areas": null,
            "grid_template_columns": null,
            "grid_template_rows": null,
            "height": null,
            "justify_content": null,
            "justify_items": null,
            "left": null,
            "margin": null,
            "max_height": null,
            "max_width": null,
            "min_height": null,
            "min_width": null,
            "object_fit": null,
            "object_position": null,
            "order": null,
            "overflow": null,
            "overflow_x": null,
            "overflow_y": null,
            "padding": null,
            "right": null,
            "top": null,
            "visibility": null,
            "width": null
          }
        },
        "97ecc0a9aa3341ff86ceae03b9a54af4": {
          "model_module": "@jupyter-widgets/controls",
          "model_name": "ProgressStyleModel",
          "state": {
            "_model_module": "@jupyter-widgets/controls",
            "_model_module_version": "1.5.0",
            "_model_name": "ProgressStyleModel",
            "_view_count": null,
            "_view_module": "@jupyter-widgets/base",
            "_view_module_version": "1.2.0",
            "_view_name": "StyleView",
            "bar_color": null,
            "description_width": "initial"
          }
        },
        "cbd0462b7de74014ba81d52d1fcc1219": {
          "model_module": "@jupyter-widgets/base",
          "model_name": "LayoutModel",
          "state": {
            "_model_module": "@jupyter-widgets/base",
            "_model_module_version": "1.2.0",
            "_model_name": "LayoutModel",
            "_view_count": null,
            "_view_module": "@jupyter-widgets/base",
            "_view_module_version": "1.2.0",
            "_view_name": "LayoutView",
            "align_content": null,
            "align_items": null,
            "align_self": null,
            "border": null,
            "bottom": null,
            "display": null,
            "flex": null,
            "flex_flow": null,
            "grid_area": null,
            "grid_auto_columns": null,
            "grid_auto_flow": null,
            "grid_auto_rows": null,
            "grid_column": null,
            "grid_gap": null,
            "grid_row": null,
            "grid_template_areas": null,
            "grid_template_columns": null,
            "grid_template_rows": null,
            "height": null,
            "justify_content": null,
            "justify_items": null,
            "left": null,
            "margin": null,
            "max_height": null,
            "max_width": null,
            "min_height": null,
            "min_width": null,
            "object_fit": null,
            "object_position": null,
            "order": null,
            "overflow": null,
            "overflow_x": null,
            "overflow_y": null,
            "padding": null,
            "right": null,
            "top": null,
            "visibility": null,
            "width": null
          }
        },
        "853eb76e4ef04395a9d40efca47d796c": {
          "model_module": "@jupyter-widgets/controls",
          "model_name": "DescriptionStyleModel",
          "state": {
            "_model_module": "@jupyter-widgets/controls",
            "_model_module_version": "1.5.0",
            "_model_name": "DescriptionStyleModel",
            "_view_count": null,
            "_view_module": "@jupyter-widgets/base",
            "_view_module_version": "1.2.0",
            "_view_name": "StyleView",
            "description_width": ""
          }
        },
        "f72caa554f9447a58acfd3a70cb7fd60": {
          "model_module": "@jupyter-widgets/controls",
          "model_name": "HBoxModel",
          "state": {
            "_dom_classes": [],
            "_model_module": "@jupyter-widgets/controls",
            "_model_module_version": "1.5.0",
            "_model_name": "HBoxModel",
            "_view_count": null,
            "_view_module": "@jupyter-widgets/controls",
            "_view_module_version": "1.5.0",
            "_view_name": "HBoxView",
            "box_style": "",
            "children": [
              "IPY_MODEL_17406cb5d9b3437a89ac3a9dc52e0f28",
              "IPY_MODEL_a8a40d8b15814aeba937fd01060d2e80"
            ],
            "layout": "IPY_MODEL_4f45579b6b8c439cb632d1472faf449c"
          }
        },
        "17406cb5d9b3437a89ac3a9dc52e0f28": {
          "model_module": "@jupyter-widgets/controls",
          "model_name": "FloatProgressModel",
          "state": {
            "_dom_classes": [],
            "_model_module": "@jupyter-widgets/controls",
            "_model_module_version": "1.5.0",
            "_model_name": "FloatProgressModel",
            "_view_count": null,
            "_view_module": "@jupyter-widgets/controls",
            "_view_module_version": "1.5.0",
            "_view_name": "ProgressView",
            "bar_style": "success",
            "description": "100%",
            "description_tooltip": null,
            "layout": "IPY_MODEL_0b1e2aa6719b4ede98709d6058fae96f",
            "max": 46827520,
            "min": 0,
            "orientation": "horizontal",
            "style": "IPY_MODEL_63a4c4d651d74f69a41febd3d84b2271",
            "value": 46827520
          }
        },
        "a8a40d8b15814aeba937fd01060d2e80": {
          "model_module": "@jupyter-widgets/controls",
          "model_name": "HTMLModel",
          "state": {
            "_dom_classes": [],
            "_model_module": "@jupyter-widgets/controls",
            "_model_module_version": "1.5.0",
            "_model_name": "HTMLModel",
            "_view_count": null,
            "_view_module": "@jupyter-widgets/controls",
            "_view_module_version": "1.5.0",
            "_view_name": "HTMLView",
            "description": "",
            "description_tooltip": null,
            "layout": "IPY_MODEL_3541f054429c47b796de6f31f4a3b1ba",
            "placeholder": "​",
            "style": "IPY_MODEL_5c0c98da50824dfcb6b4bdebe7616723",
            "value": " 44.7M/44.7M [00:18&lt;00:00, 2.54MB/s]"
          }
        },
        "4f45579b6b8c439cb632d1472faf449c": {
          "model_module": "@jupyter-widgets/base",
          "model_name": "LayoutModel",
          "state": {
            "_model_module": "@jupyter-widgets/base",
            "_model_module_version": "1.2.0",
            "_model_name": "LayoutModel",
            "_view_count": null,
            "_view_module": "@jupyter-widgets/base",
            "_view_module_version": "1.2.0",
            "_view_name": "LayoutView",
            "align_content": null,
            "align_items": null,
            "align_self": null,
            "border": null,
            "bottom": null,
            "display": null,
            "flex": null,
            "flex_flow": null,
            "grid_area": null,
            "grid_auto_columns": null,
            "grid_auto_flow": null,
            "grid_auto_rows": null,
            "grid_column": null,
            "grid_gap": null,
            "grid_row": null,
            "grid_template_areas": null,
            "grid_template_columns": null,
            "grid_template_rows": null,
            "height": null,
            "justify_content": null,
            "justify_items": null,
            "left": null,
            "margin": null,
            "max_height": null,
            "max_width": null,
            "min_height": null,
            "min_width": null,
            "object_fit": null,
            "object_position": null,
            "order": null,
            "overflow": null,
            "overflow_x": null,
            "overflow_y": null,
            "padding": null,
            "right": null,
            "top": null,
            "visibility": null,
            "width": null
          }
        },
        "0b1e2aa6719b4ede98709d6058fae96f": {
          "model_module": "@jupyter-widgets/base",
          "model_name": "LayoutModel",
          "state": {
            "_model_module": "@jupyter-widgets/base",
            "_model_module_version": "1.2.0",
            "_model_name": "LayoutModel",
            "_view_count": null,
            "_view_module": "@jupyter-widgets/base",
            "_view_module_version": "1.2.0",
            "_view_name": "LayoutView",
            "align_content": null,
            "align_items": null,
            "align_self": null,
            "border": null,
            "bottom": null,
            "display": null,
            "flex": null,
            "flex_flow": null,
            "grid_area": null,
            "grid_auto_columns": null,
            "grid_auto_flow": null,
            "grid_auto_rows": null,
            "grid_column": null,
            "grid_gap": null,
            "grid_row": null,
            "grid_template_areas": null,
            "grid_template_columns": null,
            "grid_template_rows": null,
            "height": null,
            "justify_content": null,
            "justify_items": null,
            "left": null,
            "margin": null,
            "max_height": null,
            "max_width": null,
            "min_height": null,
            "min_width": null,
            "object_fit": null,
            "object_position": null,
            "order": null,
            "overflow": null,
            "overflow_x": null,
            "overflow_y": null,
            "padding": null,
            "right": null,
            "top": null,
            "visibility": null,
            "width": null
          }
        },
        "63a4c4d651d74f69a41febd3d84b2271": {
          "model_module": "@jupyter-widgets/controls",
          "model_name": "ProgressStyleModel",
          "state": {
            "_model_module": "@jupyter-widgets/controls",
            "_model_module_version": "1.5.0",
            "_model_name": "ProgressStyleModel",
            "_view_count": null,
            "_view_module": "@jupyter-widgets/base",
            "_view_module_version": "1.2.0",
            "_view_name": "StyleView",
            "bar_color": null,
            "description_width": "initial"
          }
        },
        "3541f054429c47b796de6f31f4a3b1ba": {
          "model_module": "@jupyter-widgets/base",
          "model_name": "LayoutModel",
          "state": {
            "_model_module": "@jupyter-widgets/base",
            "_model_module_version": "1.2.0",
            "_model_name": "LayoutModel",
            "_view_count": null,
            "_view_module": "@jupyter-widgets/base",
            "_view_module_version": "1.2.0",
            "_view_name": "LayoutView",
            "align_content": null,
            "align_items": null,
            "align_self": null,
            "border": null,
            "bottom": null,
            "display": null,
            "flex": null,
            "flex_flow": null,
            "grid_area": null,
            "grid_auto_columns": null,
            "grid_auto_flow": null,
            "grid_auto_rows": null,
            "grid_column": null,
            "grid_gap": null,
            "grid_row": null,
            "grid_template_areas": null,
            "grid_template_columns": null,
            "grid_template_rows": null,
            "height": null,
            "justify_content": null,
            "justify_items": null,
            "left": null,
            "margin": null,
            "max_height": null,
            "max_width": null,
            "min_height": null,
            "min_width": null,
            "object_fit": null,
            "object_position": null,
            "order": null,
            "overflow": null,
            "overflow_x": null,
            "overflow_y": null,
            "padding": null,
            "right": null,
            "top": null,
            "visibility": null,
            "width": null
          }
        },
        "5c0c98da50824dfcb6b4bdebe7616723": {
          "model_module": "@jupyter-widgets/controls",
          "model_name": "DescriptionStyleModel",
          "state": {
            "_model_module": "@jupyter-widgets/controls",
            "_model_module_version": "1.5.0",
            "_model_name": "DescriptionStyleModel",
            "_view_count": null,
            "_view_module": "@jupyter-widgets/base",
            "_view_module_version": "1.2.0",
            "_view_name": "StyleView",
            "description_width": ""
          }
        }
      }
    }
  },
  "cells": [
    {
      "cell_type": "markdown",
      "metadata": {
        "id": "view-in-github",
        "colab_type": "text"
      },
      "source": [
        "<a href=\"https://colab.research.google.com/github/rootloginson/X-Ray-Image-Covid19-Detection-Project/blob/master/Final/Main%20Notebook/Main_Notebook.ipynb\" target=\"_parent\"><img src=\"https://colab.research.google.com/assets/colab-badge.svg\" alt=\"Open In Colab\"/></a>"
      ]
    },
    {
      "cell_type": "markdown",
      "metadata": {
        "id": "3I35mVKa33hx"
      },
      "source": [
        "---\n",
        "## It'll look better and intuitive on Google Colab Environment (◕‿◕✿)\n",
        "\n",
        "---"
      ]
    },
    {
      "cell_type": "code",
      "metadata": {
        "colab": {
          "base_uri": "https://localhost:8080/"
        },
        "id": "ncMFTjTc78Fz",
        "outputId": "8d2485e7-5fa1-4849-d773-171edf93b998"
      },
      "source": [
        "# This part probably will be enough for utilizing Drive in Colab\n",
        "# but examine links above if you encounter with problems.\n",
        "from google.colab import drive\n",
        "drive.mount('/content/drive/', force_remount=True)"
      ],
      "execution_count": null,
      "outputs": [
        {
          "output_type": "stream",
          "text": [
            "Mounted at /content/drive/\n"
          ],
          "name": "stdout"
        }
      ]
    },
    {
      "cell_type": "code",
      "metadata": {
        "colab": {
          "base_uri": "https://localhost:8080/"
        },
        "id": "VWxIq34Y8A9u",
        "outputId": "24a18641-5dee-44f9-dafe-10ce42362cf1"
      },
      "source": [
        "!nvidia-smi"
      ],
      "execution_count": null,
      "outputs": [
        {
          "output_type": "stream",
          "text": [
            "NVIDIA-SMI has failed because it couldn't communicate with the NVIDIA driver. Make sure that the latest NVIDIA driver is installed and running.\n",
            "\n"
          ],
          "name": "stdout"
        }
      ]
    },
    {
      "cell_type": "markdown",
      "metadata": {
        "id": "p_cOE3k-ZCba"
      },
      "source": [
        "# *Import Libraries and path"
      ]
    },
    {
      "cell_type": "code",
      "metadata": {
        "id": "MpyQnqNL8Bbk"
      },
      "source": [
        "import torch\n",
        "import torch.nn as nn\n",
        "import torch.optim as optim\n",
        "from torch.utils.data import DataLoader\n",
        "from torchvision.datasets import ImageFolder\n",
        "import torchvision.transforms as transforms\n",
        "from PIL import Image\n",
        "import os\n",
        "import numpy as np\n",
        "import matplotlib.pyplot as plt\n",
        "%matplotlib inline\n",
        "\n",
        "import pandas as pd\n",
        "from sklearn.model_selection import train_test_split\n",
        "from sklearn.metrics import confusion_matrix\n",
        "from torchvision import models\n",
        "import os "
      ],
      "execution_count": null,
      "outputs": []
    },
    {
      "cell_type": "code",
      "metadata": {
        "id": "4L_sXp9l8T4j"
      },
      "source": [
        "# Working Directory path\n",
        "wd = '/content/drive/MyDrive/Colab Notebooks/Final'\n",
        "# All but key 0 have signs of inflammation.\n",
        "label_dict = {0:'Normal', 1:'Bacteria', 2:'Virus', 3:'Covid19', 4:'Sars, Virus', 5:'Strept., Bacteria', 6:'Stress Smoking'}"
      ],
      "execution_count": null,
      "outputs": []
    },
    {
      "cell_type": "markdown",
      "metadata": {
        "id": "8j4xKcvSsjW6"
      },
      "source": [
        "# *Processed Dataframe (--check point)\n",
        "for processsed dataframe call ***get_processedDataframe()*** function\n",
        "\n",
        "for processsed test2 file dataframe call ***get_test2Dataframe()*** function\n",
        "for processsed test2 file dataframe call ***get_test3Dataframe()*** function\n",
        "\n",
        "for kaggle dataframe ***get_kaggleDataframe()*** function\n"
      ]
    },
    {
      "cell_type": "code",
      "metadata": {
        "id": "ssN9N8WHMRi6"
      },
      "source": [
        "def get_processedDataframe():\n",
        "  #already sorted\n",
        "  checkpoint = pd.read_csv(wd+'/KaggleCovid/Updated_Data_Frames/processed_dataset.csv', index_col=0)\n",
        "  return checkpoint\n",
        "\n",
        "def get_test2Dataframe():\n",
        "  checkpoint = pd.read_csv(wd+'/KaggleCovid/Updated_Data_Frames/processed_dataset_test2.csv')\n",
        "  return checkpoint\n",
        "\n",
        "def get_test3Dataframe():\n",
        "  checkpoint = pd.read_csv(wd+'/KaggleCovid/Updated_Data_Frames/processed_dataset_test3.csv')\n",
        "  return checkpoint\n",
        "\n",
        "#Source: https://www.kaggle.com/praveengovi/coronahack-chest-xraydataset/metadata\n",
        "def get_kaggleDataframe():\n",
        "  kaggle_df = pd.read_csv(wd + '/KaggleCovid/Coronahack_csv/Chest_xray_Corona_Metadata.csv', index_col=0)\n",
        "  kagge_df = kaggle_df.set_index('X_ray_image_name').sort_index()\n",
        "  return kaggle_df"
      ],
      "execution_count": null,
      "outputs": []
    },
    {
      "cell_type": "code",
      "metadata": {
        "colab": {
          "base_uri": "https://localhost:8080/",
          "height": 238
        },
        "id": "tQZXDz5isofo",
        "outputId": "a999a8ea-a9bc-498f-e68e-95d46d4b7048"
      },
      "source": [
        "train_test_dataframe = get_processedDataframe()\n",
        "train_test_dataframe.head()"
      ],
      "execution_count": null,
      "outputs": [
        {
          "output_type": "execute_result",
          "data": {
            "text/html": [
              "<div>\n",
              "<style scoped>\n",
              "    .dataframe tbody tr th:only-of-type {\n",
              "        vertical-align: middle;\n",
              "    }\n",
              "\n",
              "    .dataframe tbody tr th {\n",
              "        vertical-align: top;\n",
              "    }\n",
              "\n",
              "    .dataframe thead th {\n",
              "        text-align: right;\n",
              "    }\n",
              "</style>\n",
              "<table border=\"1\" class=\"dataframe\">\n",
              "  <thead>\n",
              "    <tr style=\"text-align: right;\">\n",
              "      <th></th>\n",
              "      <th>Dataset_type</th>\n",
              "      <th>Class</th>\n",
              "      <th>Channel_dim</th>\n",
              "    </tr>\n",
              "    <tr>\n",
              "      <th>X_ray_image_name</th>\n",
              "      <th></th>\n",
              "      <th></th>\n",
              "      <th></th>\n",
              "    </tr>\n",
              "  </thead>\n",
              "  <tbody>\n",
              "    <tr>\n",
              "      <th>01E392EE-69F9-4E33-BFCE-E5C968654078.jpeg</th>\n",
              "      <td>TRAIN</td>\n",
              "      <td>3</td>\n",
              "      <td>3</td>\n",
              "    </tr>\n",
              "    <tr>\n",
              "      <th>1-s2.0-S0140673620303706-fx1_lrg.jpg</th>\n",
              "      <td>TRAIN</td>\n",
              "      <td>3</td>\n",
              "      <td>3</td>\n",
              "    </tr>\n",
              "    <tr>\n",
              "      <th>1-s2.0-S0929664620300449-gr2_lrg-a.jpg</th>\n",
              "      <td>TRAIN</td>\n",
              "      <td>3</td>\n",
              "      <td>3</td>\n",
              "    </tr>\n",
              "    <tr>\n",
              "      <th>1-s2.0-S0929664620300449-gr2_lrg-b.jpg</th>\n",
              "      <td>TRAIN</td>\n",
              "      <td>3</td>\n",
              "      <td>3</td>\n",
              "    </tr>\n",
              "    <tr>\n",
              "      <th>1-s2.0-S0929664620300449-gr2_lrg-c.jpg</th>\n",
              "      <td>TRAIN</td>\n",
              "      <td>3</td>\n",
              "      <td>3</td>\n",
              "    </tr>\n",
              "  </tbody>\n",
              "</table>\n",
              "</div>"
            ],
            "text/plain": [
              "                                          Dataset_type  Class  Channel_dim\n",
              "X_ray_image_name                                                          \n",
              "01E392EE-69F9-4E33-BFCE-E5C968654078.jpeg        TRAIN      3            3\n",
              "1-s2.0-S0140673620303706-fx1_lrg.jpg             TRAIN      3            3\n",
              "1-s2.0-S0929664620300449-gr2_lrg-a.jpg           TRAIN      3            3\n",
              "1-s2.0-S0929664620300449-gr2_lrg-b.jpg           TRAIN      3            3\n",
              "1-s2.0-S0929664620300449-gr2_lrg-c.jpg           TRAIN      3            3"
            ]
          },
          "metadata": {
            "tags": []
          },
          "execution_count": 6
        }
      ]
    },
    {
      "cell_type": "markdown",
      "metadata": {
        "id": "Au-aXzb1mBE4"
      },
      "source": [
        "---\n",
        "Covid19 Images \n",
        "\n",
        "><font color='gray'>**GRAY**</font>  = **4**\n",
        "\n",
        "><font color='PaleVioletRed'>**R**</font><font color='90EE90'>**G**</font><font color='00BFFF'>**B**</font> = **46**\n",
        "\n",
        "><font color='PaleVioletRed'>**R**</font><font color='90EE90'>**G**</font><font color='00BFFF'>**B**</font>\n",
        "<font color='Black'>- A</font> = **8**"
      ]
    },
    {
      "cell_type": "code",
      "metadata": {
        "colab": {
          "base_uri": "https://localhost:8080/"
        },
        "id": "MxPqRxo9qZ1n",
        "outputId": "d64543a1-4486-4424-ec12-e020e7d673d6"
      },
      "source": [
        "train_test_dataframe.loc[train_test_dataframe['Class']==3].value_counts('Channel_dim')"
      ],
      "execution_count": null,
      "outputs": [
        {
          "output_type": "execute_result",
          "data": {
            "text/plain": [
              "Channel_dim\n",
              "3    46\n",
              "4     8\n",
              "1     4\n",
              "dtype: int64"
            ]
          },
          "metadata": {
            "tags": []
          },
          "execution_count": 7
        }
      ]
    },
    {
      "cell_type": "markdown",
      "metadata": {
        "id": "ZvP2H2sCx3Jv"
      },
      "source": [
        "## Move files around"
      ]
    },
    {
      "cell_type": "markdown",
      "metadata": {
        "id": "4m0BhukCUGjx"
      },
      "source": [
        "### Find out which file the image is in.\n",
        "``` python\n",
        "def whereIsImage(img_name, dir1='train', dir2='test', path=wdt):\n",
        "  returns (train=boolean, test=boolean)\n",
        "\n",
        "# working directory of 'train' and 'test' file\n",
        "wdt = '/content/drive/MyDrive/Colab Notebooks/KaggleCovid/Coronahack-Chest-XRay-Dataset'\n",
        "```"
      ]
    },
    {
      "cell_type": "code",
      "metadata": {
        "id": "WtvgFRLiQlrC"
      },
      "source": [
        "# working directory of 'train' and 'test' file\n",
        "wdt = '/content/drive/MyDrive/Colab Notebooks/Final/KaggleCovid/Coronahack-Chest-XRay-Dataset'\n",
        "\n",
        "def whereIsImage(img_name, dir1='train', dir2='test', path=wdt):\n",
        "  \"\"\".../FileName\n",
        "\n",
        "    child parent of FileName should be \"train\" and \"test\"\n",
        "    dir1 = train\n",
        "    dir2 = test\n",
        "  \"\"\"\n",
        "\n",
        "  # image train path\n",
        "  p_dir1 = path + '/' + dir1 + '/' + img_name\n",
        "  # image test path\n",
        "  p_dir2 = path + '/'+ dir2 + '/' + img_name\n",
        "\n",
        "  flag_dir1 = False\n",
        "  flag_dir2 = False\n",
        "\n",
        "  if os.path.exists(p_dir1):\n",
        "    flag_dir1 = True\n",
        "  # check if file in test directory\n",
        "  if os.path.exists(p_dir2):\n",
        "    flag_dir2 = True\n",
        "\n",
        "  print(\"Image inside>\",dir1, flag_dir1)\n",
        "  print(\"Image inside>\", dir2, flag_dir2)\n",
        "  return (flag_dir1, flag_dir2)"
      ],
      "execution_count": null,
      "outputs": []
    },
    {
      "cell_type": "markdown",
      "metadata": {
        "id": "1FVfh-UYVHsb"
      },
      "source": [
        "### Move Images, Check file location, Reset\n",
        "```python\n",
        "def mvFileAround(img_name, current_dir, target_dir, path=wdt):\n",
        "\n",
        "def compareKaggleCustom(custom_dataframe, reset=False):\n",
        "\n",
        "def whereIsImage(img_name, dir1='train', dir2='test', path=wdt):\n",
        "\n",
        "```"
      ]
    },
    {
      "cell_type": "code",
      "metadata": {
        "id": "PeWsNMTv8oeq"
      },
      "source": [
        "def mvFileAround(img_name, current_dir, target_dir, dataframe, path=wdt):\n",
        "  \"\"\"\n",
        "  path contains train and test.\n",
        "  .../FilePath/current_dir\n",
        "  .../FilePath/target_dir\n",
        "  path = .../FilePath\n",
        "\n",
        "  current_dir(str), target_dir(str)\n",
        "\n",
        "  Initial state codes: \n",
        "  p11 - file was exist in both dir.\n",
        "  p10 - file was exist in current_dir.\n",
        "  p01 - file was already exist in target dir.\n",
        "  p00 - There was no file in current and target dir. \n",
        "  p-1 - Unknown error\n",
        "\n",
        "    returns img_name, (img_name, prev_statecodes, success(boolean))\n",
        "  \"\"\"\n",
        "  assert current_dir != target_dir,'current_dir and target_dir are same'\n",
        "\n",
        "  current_dir = current_dir.lower()\n",
        "  target_dir = target_dir.lower()\n",
        "\n",
        "  flag_current = False\n",
        "  flag_target = False\n",
        "\n",
        "  # image current path\n",
        "  cp = path + '/' + current_dir + '/' + img_name\n",
        "  # image target path\n",
        "  tp = path + '/'+ target_dir + '/' + img_name\n",
        "  # check if file in train directory \n",
        "\n",
        "  if os.path.exists(cp):\n",
        "    flag_current = True\n",
        "  # check if file in test directory\n",
        "  if os.path.exists(tp):\n",
        "    flag_target = True\n",
        "\n",
        "  #control after file operation\n",
        "  def returnCheck(cp, tp):\n",
        "    # if not exist in current and exist in target return True, else False\n",
        "    if not os.path.exists(cp):\n",
        "      if os.path.exists(tp):\n",
        "        return True\n",
        "      else:\n",
        "        return False\n",
        "     \n",
        "    return False\n",
        "\n",
        "  # UPDATE Dataframe\n",
        "  def updateDataFrame(img_name, df=dataframe, c_dir=current_dir, t_dir=target_dir):\n",
        "      # change Train to test or test to train\n",
        "    if (c_dir.upper() == 'TRAIN' and t_dir.upper() == 'TEST'):\n",
        "      df.loc[[img_name], 'Dataset_type'] = 'TEST'\n",
        "\n",
        "    # change Train to test or test to train\n",
        "    if (c_dir.upper() == 'TEST') and (t_dir.upper() == 'TRAIN'):\n",
        "      df.loc[[img_name], 'Dataset_type'] = 'TRAIN'\n",
        "\n",
        "    if (c_dir.upper() == 'Problem') and (t_dir.upper() == 'Problem'):\n",
        "          df.loc[[img_name], 'Dataset_type'] = 'Problem'\n",
        "\n",
        "    return None\n",
        "\n",
        "  if flag_current and flag_target: \n",
        "    # if both flags are true which means image exists in train and test dir\n",
        "    # delete from current_dir \n",
        "    os.remove(cp)\n",
        "    print(img_name, \"moved to\", target_dir, \". Initial state: 1-1\")\n",
        "    #update data frame, train to test\n",
        "    _ = updateDataFrame(img_name, df=dataframe, c_dir=current_dir, t_dir=target_dir)\n",
        "    return img_name, (img_name, 'p11', returnCheck(cp, tp))\n",
        "  \n",
        "  if (flag_current==True) and (flag_target==False):\n",
        "    os.rename(cp, tp)\n",
        "    print(img_name, \"moved to\", target_dir)\n",
        "    #update data frame, train to test\n",
        "    _ = updateDataFrame(img_name, df=dataframe, c_dir=current_dir, t_dir=target_dir)\n",
        "    return img_name, (img_name, 'p10', returnCheck(cp, tp))\n",
        "  \n",
        "  if (flag_current==False) and (flag_target==True):\n",
        "    print(img_name ,\"exist in\", target_dir)\n",
        "        #update data frame, train to test\n",
        "    _ = updateDataFrame(img_name, df=dataframe, c_dir=current_dir, t_dir=target_dir)\n",
        "    return img_name, (img_name, 'p01', returnCheck(cp, tp))\n",
        "  \n",
        "  if (flag_current==False) and (flag_target==False):\n",
        "    print(\"Ups... Image:\", img_name, \". Initial state: 0-0\", \"is not exist in both directory.\")\n",
        "    #update data frame, Problem\n",
        "    _ = updateDataFrame(img_name, df=dataframe, c_dir='Problem', t_dir='Problem')\n",
        "    return img_name, (img_name,'p00', returnCheck(cp, tp))\n",
        "  \n",
        "  print(\"something odd with mvFilesAround function\")\n",
        "  return img_name, (img_name, \"p-1\", returnCheck(cp, tp))"
      ],
      "execution_count": null,
      "outputs": []
    },
    {
      "cell_type": "code",
      "metadata": {
        "id": "WQ6QgueWYV0Q"
      },
      "source": [
        "def compareKaggleCustom(custom_dataframe, reset=False):\n",
        "  \"\"\"\n",
        "  Function that compares Kaggle dataset and Custom dataset image location differences\n",
        "  \n",
        "  Arguments:\n",
        "    cf   : (pandas dataframe) customDataframe\n",
        "    reset: (Boolean) reset image locations to kaggle dataset version\n",
        "  Returns  : compare result\n",
        "  \"\"\"\n",
        "  cf = custom_dataframe.copy()\n",
        "  df = get_kaggleDataframe().set_index('X_ray_image_name').sort_index()\n",
        "  \n",
        "  result=df.Dataset_type.compare(cf.Dataset_type, align_axis=1)\n",
        "  \n",
        "  if (reset==False) and (len(result.index) == 0):\n",
        "      return print(\"Covid set is brand new.\")\n",
        "\n",
        "  if reset==True:\n",
        "    if len(result.index) == 0:\n",
        "      return print(\"Covid set is brand new.\")\n",
        "    else:\n",
        "      # convert each row a tuple, stack'em up inside of a list\n",
        "      temp = result.to_records()\n",
        "      # list (img_name, self, other)\n",
        "      iter_result = list(temp) \n",
        "      for img_name, cf_self, cf_other in iter_result:\n",
        "        _,(o,_,o) = mvFileAround(img_name, current_dir=cf_other, target_dir=cf_self, dataframe=custom_dataframe)\n",
        "      print(\"Reset has finished. Checking again...\")\n",
        "    # control resetted dataset\n",
        "    result = compareKaggleCustom(custom_dataframe=custom_dataframe, reset=False)\n",
        "  return result  "
      ],
      "execution_count": null,
      "outputs": []
    },
    {
      "cell_type": "markdown",
      "metadata": {
        "id": "afdtEIKYhhvT"
      },
      "source": [
        "# *Move images to directory (--all in one function)\n",
        "```python\n",
        "def moveImages(L, dataframe, current_dir='train', targer_dir='test'):\n",
        "  # L is a list of image names\n",
        "  return log_dictionary\n",
        "```\n"
      ]
    },
    {
      "cell_type": "markdown",
      "metadata": {
        "id": "MT6eAw6iejhJ"
      },
      "source": [
        "```python\n",
        "# CHECK \"Move files around\"\n",
        "cdf = get_processedDataframe()\n",
        "cdf.loc[['IM-0128-0001.jpeg']]\n",
        "# *test*\n",
        "whereIsImage('IM-0128-0001.jpeg')\n",
        "_,(o,_,o) = mvFileAround('IM-0128-0001.jpeg', current_dir='train', target_dir='test', dataframe=cdf)\n",
        "# test\n",
        "whereIsImage('IM-0128-0001.jpeg')\n",
        "cdf.loc[['IM-0128-0001.jpeg']]\n",
        "```"
      ]
    },
    {
      "cell_type": "code",
      "metadata": {
        "id": "OrbCAglnRymr"
      },
      "source": [
        "def moveImages(L, dataframe, current_dir='train', targer_dir='test'):\n",
        "  \"\"\"\n",
        "  Arguments:\n",
        "\n",
        "    L           :(python list)  list of image names. [str, str, ...]\n",
        "    dataframe   :(pandas)  \n",
        "\n",
        "    current_dir :(str)          directory stores the image, \n",
        "                                default is 'train'\n",
        "\n",
        "    target_dir  :(str)          directory will store the image\n",
        "                                defult is 'test'\n",
        "\n",
        "  Returns: \n",
        "  \n",
        "    logMI       :(python dictionary)\n",
        "  \"\"\"\n",
        "  compareKaggleCustom(custom_dataframe=dataframe, reset=True)\n",
        "  print(\"\")\n",
        "\n",
        "  #log dictionary of moved images\n",
        "  logMI = {}\n",
        "\n",
        "  for img_name in randCovidDatas:\n",
        "    # move files\n",
        "    _,temp = mvFileAround(img_name, current_dir='train', target_dir='test',dataframe=dataframe)\n",
        "    #add temp to dictionary \n",
        "    if img_name not in logMI:\n",
        "      logMI[img_name] = []\n",
        "    # append return values\n",
        "    logMI[img_name].append(temp)\n",
        "\n",
        "  compareKaggleCustom(custom_dataframe=dataframe, reset=False)\n",
        "\n",
        "  return logMI"
      ],
      "execution_count": null,
      "outputs": []
    },
    {
      "cell_type": "markdown",
      "metadata": {
        "id": "fUhUY4FIbGn3"
      },
      "source": [
        "# *Van Damme Split\n",
        "Before start, split the last version of your dataframe with this function\n",
        "\n",
        "```python\n",
        "def vanDammeSplit(dataframe):\n",
        "  \"\"\"\n",
        "  ~ Splits Dataframe in two, with Style\n",
        "  \n",
        "  Bonus -> Integer indexing is included.\n",
        "  \"\"\"\n",
        "  return train_dataframe, test_dataframe\n",
        "```\n",
        "\n",
        "![](https://media.giphy.com/media/tE8EyO1MBgSxq/giphy.gif)\n"
      ]
    },
    {
      "cell_type": "code",
      "metadata": {
        "id": "24gGjVbR_7qX"
      },
      "source": [
        "# Return These for Custom Dataset\n",
        "def vanDammeSplit(dataframe):\n",
        "  \"\"\"\n",
        "  ~Splits Dataframe in two with Style~\n",
        "\n",
        "  Argument: pandas dataframe\n",
        "  \n",
        "  Returns : tuple of two pandas dataframe, \n",
        "            (train_dataframe, test_dataframe)\n",
        "  \"\"\"\n",
        "\n",
        "  le_df = dataframe.copy()\n",
        "  \n",
        "\n",
        "  # Don't forget to add integer index.(in other way convert X_ray_image_name into a column) \n",
        "  # train_dataframe columns are ImageName, Class, Gray,rgb or rgbA\n",
        "  temp_train_dataframe = le_df[le_df['Dataset_type']=='TRAIN'].reset_index()\n",
        "  train_dataframe = temp_train_dataframe.drop(columns=['Dataset_type'],axis=1)\n",
        "  # test_dataframe columns are ImageName, Class\n",
        "  temp_test_dataframe = le_df[le_df['Dataset_type']=='TEST'].reset_index()\n",
        "  test_dataframe = temp_test_dataframe.drop(columns=['Dataset_type'], axis=1)\n",
        "\n",
        "  return train_dataframe, test_dataframe"
      ],
      "execution_count": null,
      "outputs": []
    },
    {
      "cell_type": "markdown",
      "metadata": {
        "id": "MyYNbdnKe2nf"
      },
      "source": [
        "# *Move some covid19 images to test directory"
      ]
    },
    {
      "cell_type": "code",
      "metadata": {
        "colab": {
          "base_uri": "https://localhost:8080/",
          "height": 238
        },
        "id": "UG_PoUadS9Td",
        "outputId": "b641f518-258f-4d60-dd19-04ea0cda723f"
      },
      "source": [
        "le_df = get_processedDataframe()\n",
        "le_df.head()"
      ],
      "execution_count": null,
      "outputs": [
        {
          "output_type": "execute_result",
          "data": {
            "text/html": [
              "<div>\n",
              "<style scoped>\n",
              "    .dataframe tbody tr th:only-of-type {\n",
              "        vertical-align: middle;\n",
              "    }\n",
              "\n",
              "    .dataframe tbody tr th {\n",
              "        vertical-align: top;\n",
              "    }\n",
              "\n",
              "    .dataframe thead th {\n",
              "        text-align: right;\n",
              "    }\n",
              "</style>\n",
              "<table border=\"1\" class=\"dataframe\">\n",
              "  <thead>\n",
              "    <tr style=\"text-align: right;\">\n",
              "      <th></th>\n",
              "      <th>Dataset_type</th>\n",
              "      <th>Class</th>\n",
              "      <th>Channel_dim</th>\n",
              "    </tr>\n",
              "    <tr>\n",
              "      <th>X_ray_image_name</th>\n",
              "      <th></th>\n",
              "      <th></th>\n",
              "      <th></th>\n",
              "    </tr>\n",
              "  </thead>\n",
              "  <tbody>\n",
              "    <tr>\n",
              "      <th>01E392EE-69F9-4E33-BFCE-E5C968654078.jpeg</th>\n",
              "      <td>TRAIN</td>\n",
              "      <td>3</td>\n",
              "      <td>3</td>\n",
              "    </tr>\n",
              "    <tr>\n",
              "      <th>1-s2.0-S0140673620303706-fx1_lrg.jpg</th>\n",
              "      <td>TRAIN</td>\n",
              "      <td>3</td>\n",
              "      <td>3</td>\n",
              "    </tr>\n",
              "    <tr>\n",
              "      <th>1-s2.0-S0929664620300449-gr2_lrg-a.jpg</th>\n",
              "      <td>TRAIN</td>\n",
              "      <td>3</td>\n",
              "      <td>3</td>\n",
              "    </tr>\n",
              "    <tr>\n",
              "      <th>1-s2.0-S0929664620300449-gr2_lrg-b.jpg</th>\n",
              "      <td>TRAIN</td>\n",
              "      <td>3</td>\n",
              "      <td>3</td>\n",
              "    </tr>\n",
              "    <tr>\n",
              "      <th>1-s2.0-S0929664620300449-gr2_lrg-c.jpg</th>\n",
              "      <td>TRAIN</td>\n",
              "      <td>3</td>\n",
              "      <td>3</td>\n",
              "    </tr>\n",
              "  </tbody>\n",
              "</table>\n",
              "</div>"
            ],
            "text/plain": [
              "                                          Dataset_type  Class  Channel_dim\n",
              "X_ray_image_name                                                          \n",
              "01E392EE-69F9-4E33-BFCE-E5C968654078.jpeg        TRAIN      3            3\n",
              "1-s2.0-S0140673620303706-fx1_lrg.jpg             TRAIN      3            3\n",
              "1-s2.0-S0929664620300449-gr2_lrg-a.jpg           TRAIN      3            3\n",
              "1-s2.0-S0929664620300449-gr2_lrg-b.jpg           TRAIN      3            3\n",
              "1-s2.0-S0929664620300449-gr2_lrg-c.jpg           TRAIN      3            3"
            ]
          },
          "metadata": {
            "tags": []
          },
          "execution_count": 13
        }
      ]
    },
    {
      "cell_type": "code",
      "metadata": {
        "id": "jUaNDObGP3Yz"
      },
      "source": [
        "# move these images to test file\n",
        "randCovidDatas = ['F2DE909F-E19C-4900-92F5-8F435B031AC6.jpeg', '1-s2.0-S0929664620300449-gr2_lrg-c.jpg',  'F63AB6CE-1968-4154-A70F-913AF154F53D.jpeg']"
      ],
      "execution_count": null,
      "outputs": []
    },
    {
      "cell_type": "code",
      "metadata": {
        "colab": {
          "base_uri": "https://localhost:8080/"
        },
        "id": "F8YZS0TP9xCy",
        "outputId": "b71c9524-7f4f-4ee6-8080-6b26763f8c5f"
      },
      "source": [
        "# if it is already moved, function resets the file location and corresponding dataset_type value\n",
        "log_dict = moveImages(randCovidDatas, le_df)"
      ],
      "execution_count": null,
      "outputs": [
        {
          "output_type": "stream",
          "text": [
            "Covid set is brand new.\n",
            "\n",
            "F2DE909F-E19C-4900-92F5-8F435B031AC6.jpeg exist in test\n",
            "1-s2.0-S0929664620300449-gr2_lrg-c.jpg exist in test\n",
            "F63AB6CE-1968-4154-A70F-913AF154F53D.jpeg exist in test\n"
          ],
          "name": "stdout"
        }
      ]
    },
    {
      "cell_type": "markdown",
      "metadata": {
        "id": "3BkQGOrig_9X"
      },
      "source": [
        "# *Finalize...\n",
        "\n",
        "```python\n",
        "# This will go to dataloader\n",
        "train_dataset, test_dataset = vanDammeSplit(le_df)\n",
        "```"
      ]
    },
    {
      "cell_type": "markdown",
      "metadata": {
        "id": "ZSVHvsPoehuQ"
      },
      "source": [
        "## Split Coronahack-Chest-XRay Processed Dataframe into Train/Test "
      ]
    },
    {
      "cell_type": "code",
      "metadata": {
        "id": "QEw_IoG1hWD9"
      },
      "source": [
        "# This will go to dataloader\n",
        "train_dataframeFin, test_dataframeFin = vanDammeSplit(le_df)\n",
        "spare_train_dataframeFin = train_dataframeFin.copy()"
      ],
      "execution_count": null,
      "outputs": []
    },
    {
      "cell_type": "code",
      "metadata": {
        "colab": {
          "base_uri": "https://localhost:8080/"
        },
        "id": "QKJhQKHaoFjN",
        "outputId": "a4dcfc3c-a6b0-44c4-de72-1e3e08c8df94"
      },
      "source": [
        "train_dataframeFin.Class.value_counts()"
      ],
      "execution_count": null,
      "outputs": [
        {
          "output_type": "execute_result",
          "data": {
            "text/plain": [
              "1    2530\n",
              "2    1345\n",
              "0    1342\n",
              "3      55\n",
              "5       5\n",
              "4       4\n",
              "6       2\n",
              "Name: Class, dtype: int64"
            ]
          },
          "metadata": {
            "tags": []
          },
          "execution_count": 21
        }
      ]
    },
    {
      "cell_type": "code",
      "metadata": {
        "colab": {
          "base_uri": "https://localhost:8080/"
        },
        "id": "_qcSxgcQl4VX",
        "outputId": "01e36e1d-70f6-48e7-ed42-098312eb916c"
      },
      "source": [
        "test_dataframeFin.Class.value_counts()"
      ],
      "execution_count": null,
      "outputs": [
        {
          "output_type": "execute_result",
          "data": {
            "text/plain": [
              "1    242\n",
              "0    234\n",
              "2    148\n",
              "3      3\n",
              "Name: Class, dtype: int64"
            ]
          },
          "metadata": {
            "tags": []
          },
          "execution_count": 22
        }
      ]
    },
    {
      "cell_type": "markdown",
      "metadata": {
        "id": "MRIx0ZBRe_5S"
      },
      "source": [
        "## Adjusting **Knob** for Sample sizes of Classes (Normal, Virus etc.)\n",
        "\n",
        "\n",
        "\n",
        "![](https://media.giphy.com/media/1wX5U5bexHenmlAhFS/giphy.gif)"
      ]
    },
    {
      "cell_type": "code",
      "metadata": {
        "id": "5hzl5YbXsrjh"
      },
      "source": [
        "# downsample class 0,1,2 leave others as it is\n",
        "# https://stackoverflow.com/a/57405160\n",
        "# https://stackoverflow.com/a/34674486\n",
        "\n",
        "t = train_dataframeFin.copy()\n",
        "\n",
        "# Use dataset as it is (default)\n",
        "t0 = t[t.Class.eq(0)]\n",
        "t1 = t[t.Class.eq(1)]\n",
        "t2 = t[t.Class.eq(2)]\n",
        "t3 = t[t.Class.eq(3)]\n",
        "t4 = t[t.Class.eq(4)]\n",
        "t5 = t[t.Class.eq(5)]\n",
        "t6 = t[t.Class.eq(6)]\n",
        "\n",
        "# Adjust sample sizes of each class\n",
        "# t0 = t[t.Class.eq(0)].sample(50)\n",
        "# t1 = t[t.Class.eq(1)].sample(50)\n",
        "# t2 = t[t.Class.eq(2)].sample(50)\n",
        "# t3 = t[t.Class.eq(3)]\n",
        "# t4 = t[t.Class.eq(4)]\n",
        "# t5 = t[t.Class.eq(5)]\n",
        "# t6 = t[t.Class.eq(6)]\n",
        "\n",
        "#t3 = t.Class[t.Class.eq(3)].sample().index\n",
        "ts = pd.concat([t0, t1, t2, t3, t4, t5, t6], ignore_index=True)"
      ],
      "execution_count": null,
      "outputs": []
    },
    {
      "cell_type": "code",
      "metadata": {
        "colab": {
          "base_uri": "https://localhost:8080/"
        },
        "id": "KP5ydHHxwwT3",
        "outputId": "be511d7e-51cb-45a1-b54d-f01bfabc8bf5"
      },
      "source": [
        "# visual check\n",
        "ts.Class.value_counts()"
      ],
      "execution_count": null,
      "outputs": [
        {
          "output_type": "execute_result",
          "data": {
            "text/plain": [
              "1    2530\n",
              "2    1345\n",
              "0    1342\n",
              "3      55\n",
              "5       5\n",
              "4       4\n",
              "6       2\n",
              "Name: Class, dtype: int64"
            ]
          },
          "metadata": {
            "tags": []
          },
          "execution_count": 24
        }
      ]
    },
    {
      "cell_type": "code",
      "metadata": {
        "colab": {
          "base_uri": "https://localhost:8080/"
        },
        "id": "ZdPpKGKPzCtU",
        "outputId": "ab389c8a-3b20-4099-a2e2-8955ba5796cd"
      },
      "source": [
        "ts.dtypes"
      ],
      "execution_count": null,
      "outputs": [
        {
          "output_type": "execute_result",
          "data": {
            "text/plain": [
              "X_ray_image_name    object\n",
              "Class                int64\n",
              "Channel_dim          int64\n",
              "dtype: object"
            ]
          },
          "metadata": {
            "tags": []
          },
          "execution_count": 25
        }
      ]
    },
    {
      "cell_type": "code",
      "metadata": {
        "colab": {
          "base_uri": "https://localhost:8080/"
        },
        "id": "ps0CVmd8zK02",
        "outputId": "144e2637-6bf6-43e4-9aa2-eae9f18c8cd7"
      },
      "source": [
        "test_dataframeFin.dtypes"
      ],
      "execution_count": null,
      "outputs": [
        {
          "output_type": "execute_result",
          "data": {
            "text/plain": [
              "X_ray_image_name    object\n",
              "Class                int64\n",
              "Channel_dim          int64\n",
              "dtype: object"
            ]
          },
          "metadata": {
            "tags": []
          },
          "execution_count": 26
        }
      ]
    },
    {
      "cell_type": "code",
      "metadata": {
        "colab": {
          "base_uri": "https://localhost:8080/"
        },
        "id": "dT8kViXZ0Afu",
        "outputId": "607813a7-c8dd-44eb-eb15-a5ad298a2fa6"
      },
      "source": [
        "ts.iloc[:,0]"
      ],
      "execution_count": null,
      "outputs": [
        {
          "output_type": "execute_result",
          "data": {
            "text/plain": [
              "0               F051E018-DAD1-4506-AD43-BE4CA29E960B.jpeg\n",
              "1                                       IM-0115-0001.jpeg\n",
              "2                                       IM-0117-0001.jpeg\n",
              "3                                       IM-0119-0001.jpeg\n",
              "4                                       IM-0122-0001.jpeg\n",
              "                              ...                        \n",
              "5278    streptococcus-pneumoniae-pneumonia-temporal-ev...\n",
              "5279    streptococcus-pneumoniae-pneumonia-temporal-ev...\n",
              "5280    streptococcus-pneumoniae-pneumonia-temporal-ev...\n",
              "5281       acute-respiratory-distress-syndrome-ards-1.jpg\n",
              "5282         acute-respiratory-distress-syndrome-ards.jpg\n",
              "Name: X_ray_image_name, Length: 5283, dtype: object"
            ]
          },
          "metadata": {
            "tags": []
          },
          "execution_count": 27
        }
      ]
    },
    {
      "cell_type": "markdown",
      "metadata": {
        "id": "zKiOAwD7hra2"
      },
      "source": [
        "## || **True** || -> resets the train_dataframe to unsampled version"
      ]
    },
    {
      "cell_type": "code",
      "metadata": {
        "id": "nmvCvRrshdfv"
      },
      "source": [
        "sampled_dataframe_reset_to_default = False\n",
        "\n",
        "if sampled_dataframe_reset_to_default:\n",
        "  train_dataframeFin = spare_train_dataframeFin.copy()"
      ],
      "execution_count": null,
      "outputs": []
    },
    {
      "cell_type": "markdown",
      "metadata": {
        "id": "XTwLziWNeDl_"
      },
      "source": [
        "## get Processed Dataframe for Test2 and Test3 (additional Kaggle Dataset)\n",
        "\n",
        "Test2: https://www.kaggle.com/tarandeep97/covid19-normal-posteroanteriorpa-xrays\n",
        "\n",
        "Test3: https://www.kaggle.com/nabeelsajid917/covid-19-x-ray-10000-images?select=dataset\n"
      ]
    },
    {
      "cell_type": "code",
      "metadata": {
        "colab": {
          "base_uri": "https://localhost:8080/",
          "height": 206
        },
        "id": "EEywBffFeU0K",
        "outputId": "150fe9a1-319e-4fbe-dc52-b8cb1229e806"
      },
      "source": [
        "test2_df = get_test2Dataframe()\n",
        "test2_df.head()"
      ],
      "execution_count": null,
      "outputs": [
        {
          "output_type": "execute_result",
          "data": {
            "text/html": [
              "<div>\n",
              "<style scoped>\n",
              "    .dataframe tbody tr th:only-of-type {\n",
              "        vertical-align: middle;\n",
              "    }\n",
              "\n",
              "    .dataframe tbody tr th {\n",
              "        vertical-align: top;\n",
              "    }\n",
              "\n",
              "    .dataframe thead th {\n",
              "        text-align: right;\n",
              "    }\n",
              "</style>\n",
              "<table border=\"1\" class=\"dataframe\">\n",
              "  <thead>\n",
              "    <tr style=\"text-align: right;\">\n",
              "      <th></th>\n",
              "      <th>X_ray_image_name</th>\n",
              "      <th>Class</th>\n",
              "      <th>Channel_dim</th>\n",
              "    </tr>\n",
              "  </thead>\n",
              "  <tbody>\n",
              "    <tr>\n",
              "      <th>0</th>\n",
              "      <td>01E392EE-69F9-4E33-BFCE-E5C968654078.jpeg</td>\n",
              "      <td>3</td>\n",
              "      <td>3</td>\n",
              "    </tr>\n",
              "    <tr>\n",
              "      <th>1</th>\n",
              "      <td>03BF7561-A9BA-4C3C-B8A0-D3E585F73F3C.jpeg</td>\n",
              "      <td>3</td>\n",
              "      <td>3</td>\n",
              "    </tr>\n",
              "    <tr>\n",
              "      <th>2</th>\n",
              "      <td>1-s2.0-S0140673620303706-fx1_lrg.jpg</td>\n",
              "      <td>3</td>\n",
              "      <td>3</td>\n",
              "    </tr>\n",
              "    <tr>\n",
              "      <th>3</th>\n",
              "      <td>1-s2.0-S1684118220300608-main.pdf-001.jpg</td>\n",
              "      <td>3</td>\n",
              "      <td>3</td>\n",
              "    </tr>\n",
              "    <tr>\n",
              "      <th>4</th>\n",
              "      <td>1-s2.0-S1684118220300608-main.pdf-002.jpg</td>\n",
              "      <td>3</td>\n",
              "      <td>3</td>\n",
              "    </tr>\n",
              "  </tbody>\n",
              "</table>\n",
              "</div>"
            ],
            "text/plain": [
              "                            X_ray_image_name  Class  Channel_dim\n",
              "0  01E392EE-69F9-4E33-BFCE-E5C968654078.jpeg      3            3\n",
              "1  03BF7561-A9BA-4C3C-B8A0-D3E585F73F3C.jpeg      3            3\n",
              "2       1-s2.0-S0140673620303706-fx1_lrg.jpg      3            3\n",
              "3  1-s2.0-S1684118220300608-main.pdf-001.jpg      3            3\n",
              "4  1-s2.0-S1684118220300608-main.pdf-002.jpg      3            3"
            ]
          },
          "metadata": {
            "tags": []
          },
          "execution_count": 29
        }
      ]
    },
    {
      "cell_type": "code",
      "metadata": {
        "colab": {
          "base_uri": "https://localhost:8080/"
        },
        "id": "9jmGOUblhHdx",
        "outputId": "3bcf2b0b-f501-4bb6-f91f-316c61d37f73"
      },
      "source": [
        "# all the 'Normal' xrays are gray, covid xray's vary\n",
        "test2_df.Class.value_counts()"
      ],
      "execution_count": null,
      "outputs": [
        {
          "output_type": "execute_result",
          "data": {
            "text/plain": [
              "3    140\n",
              "0    140\n",
              "Name: Class, dtype: int64"
            ]
          },
          "metadata": {
            "tags": []
          },
          "execution_count": 30
        }
      ]
    },
    {
      "cell_type": "code",
      "metadata": {
        "colab": {
          "base_uri": "https://localhost:8080/",
          "height": 206
        },
        "id": "ELw6gee7DoLd",
        "outputId": "44717e1d-c199-451f-f9a1-9cc7bf152f15"
      },
      "source": [
        "test3_df = get_test3Dataframe()\n",
        "test3_df.head()"
      ],
      "execution_count": null,
      "outputs": [
        {
          "output_type": "execute_result",
          "data": {
            "text/html": [
              "<div>\n",
              "<style scoped>\n",
              "    .dataframe tbody tr th:only-of-type {\n",
              "        vertical-align: middle;\n",
              "    }\n",
              "\n",
              "    .dataframe tbody tr th {\n",
              "        vertical-align: top;\n",
              "    }\n",
              "\n",
              "    .dataframe thead th {\n",
              "        text-align: right;\n",
              "    }\n",
              "</style>\n",
              "<table border=\"1\" class=\"dataframe\">\n",
              "  <thead>\n",
              "    <tr style=\"text-align: right;\">\n",
              "      <th></th>\n",
              "      <th>X_ray_image_name</th>\n",
              "      <th>Class</th>\n",
              "      <th>Channel_dim</th>\n",
              "    </tr>\n",
              "  </thead>\n",
              "  <tbody>\n",
              "    <tr>\n",
              "      <th>0</th>\n",
              "      <td>IM-0214-0001.jpeg</td>\n",
              "      <td>0</td>\n",
              "      <td>1</td>\n",
              "    </tr>\n",
              "    <tr>\n",
              "      <th>1</th>\n",
              "      <td>IM-0215-0001.jpeg</td>\n",
              "      <td>0</td>\n",
              "      <td>1</td>\n",
              "    </tr>\n",
              "    <tr>\n",
              "      <th>2</th>\n",
              "      <td>IM-0216-0001.jpeg</td>\n",
              "      <td>0</td>\n",
              "      <td>1</td>\n",
              "    </tr>\n",
              "    <tr>\n",
              "      <th>3</th>\n",
              "      <td>IM-0217-0001.jpeg</td>\n",
              "      <td>0</td>\n",
              "      <td>1</td>\n",
              "    </tr>\n",
              "    <tr>\n",
              "      <th>4</th>\n",
              "      <td>IM-0218-0001.jpeg</td>\n",
              "      <td>0</td>\n",
              "      <td>1</td>\n",
              "    </tr>\n",
              "  </tbody>\n",
              "</table>\n",
              "</div>"
            ],
            "text/plain": [
              "    X_ray_image_name  Class  Channel_dim\n",
              "0  IM-0214-0001.jpeg      0            1\n",
              "1  IM-0215-0001.jpeg      0            1\n",
              "2  IM-0216-0001.jpeg      0            1\n",
              "3  IM-0217-0001.jpeg      0            1\n",
              "4  IM-0218-0001.jpeg      0            1"
            ]
          },
          "metadata": {
            "tags": []
          },
          "execution_count": 31
        }
      ]
    },
    {
      "cell_type": "code",
      "metadata": {
        "colab": {
          "base_uri": "https://localhost:8080/"
        },
        "id": "3ELzxwk0DtO0",
        "outputId": "e42e11fa-ad56-4234-e98c-03421e6aaa72"
      },
      "source": [
        "test3_df.Class.value_counts()"
      ],
      "execution_count": null,
      "outputs": [
        {
          "output_type": "execute_result",
          "data": {
            "text/plain": [
              "3    70\n",
              "0    28\n",
              "Name: Class, dtype: int64"
            ]
          },
          "metadata": {
            "tags": []
          },
          "execution_count": 32
        }
      ]
    },
    {
      "cell_type": "markdown",
      "metadata": {
        "id": "snElFLEdQtrV"
      },
      "source": [
        "---\n",
        "# *Lé CustomDatasét*\n",
        "\n",
        "!!! Pytorch dataloader automatically scales PIL images between [0,1]"
      ]
    },
    {
      "cell_type": "markdown",
      "metadata": {
        "id": "3StzwPVaaSjX"
      },
      "source": [
        "## <font color='gray'>***GRAY***</font> *Scale*\n",
        "```python\n",
        "class CustomDatasetGrayScale(dataset, \n",
        "                             path,\n",
        "                             transformations):\n",
        "```"
      ]
    },
    {
      "cell_type": "code",
      "metadata": {
        "id": "RZbLUV7eCrOQ"
      },
      "source": [
        "# Custom Dataset\n",
        "\n",
        "class CustomDatasetGrayScale(torch.utils.data.Dataset):\n",
        "  \"\"\"\n",
        "  Arguments:\n",
        "    pandas dataframe (n row, 2 column)\n",
        "        First column : image name \n",
        "        second column: image label\n",
        "\n",
        "     path = file path, ex: '/content/train'\n",
        "\n",
        "     tra4 = transformations\n",
        "\n",
        "  https://github.com/utkuozbulak/pytorch-custom-dataset-examples\n",
        "  \"\"\"\n",
        "\n",
        "  def __init__(self, dataframe, path, transformations):\n",
        "    \n",
        "    # input data frame\n",
        "    self.df = dataframe\n",
        "    \n",
        "    # path of an folder that contains train/val/test images\n",
        "    self.path = path\n",
        "\n",
        "    # first column of the data frame (0th), image names\n",
        "    self.imageName = np.asarray(self.df.iloc[:,0])\n",
        "   \n",
        "    # second column of the data frame(1st), image labels\n",
        "    self.imageLabel = np.asarray(self.df.iloc[:,1])\n",
        "    \n",
        "    # length of the dataframe\n",
        "    self.datalen = len(self.df.index)\n",
        "    \n",
        "    # channel dimension of an image\n",
        "    self.channeldim = np.asarray(self.df.iloc[:,2])\n",
        "\n",
        "    # Image transformations, transforms.Compose([])\n",
        "    self.transforms = transformations \n",
        "\n",
        "\n",
        "  def __getitem__(self, index):\n",
        "    \n",
        "    # get the image name of corresponding index\n",
        "    single_image_name = self.imageName[index]\n",
        "    \n",
        "    # get the image label of corresponding index\n",
        "    single_image_label = self.imageLabel[index]\n",
        "\n",
        "    # get the image channel dimension of corresponding index\n",
        "    single_image_channel_dim = self.channeldim[index]\n",
        "    # open the corresponding image and return as a tensor\n",
        "    # s, abbr. of single\n",
        "    s_img_PIL = Image.open(self.path + \"/\" + single_image_name)\n",
        "    \n",
        "\n",
        "    # check Image dimension\n",
        "    if single_image_channel_dim != 1: \n",
        "      if single_image_channel_dim == 3:\n",
        "        s_img_PIL = s_img_PIL.convert('L')\n",
        "      \n",
        "      elif single_image_channel_dim == 4:\n",
        "        # if image is RGBA\n",
        "        # convert RGBA(dim4) to L(grayscale, dim1) \n",
        "        s_img_PIL = s_img_PIL.convert('L')\n",
        "        \n",
        "      else:\n",
        "        print(\"Hello :)\")\n",
        "        print(\"Ehehe...Something definitely went wrong :/\")\n",
        "        \n",
        "    #apply transform to image\n",
        "    transformed_img = self.transforms(s_img_PIL)\n",
        "\n",
        "    # return transformed image, and its label\n",
        "    return (transformed_img, single_image_label)\n",
        "\n",
        "    # Note to myself: DataLoader gets the image one by one. You can design custom datasets due to that.\n",
        "    # You can also sent whatever you want from here. \n",
        "\n",
        "\n",
        "  def __len__(self):\n",
        "    return self.datalen\n",
        "\n"
      ],
      "execution_count": null,
      "outputs": []
    },
    {
      "cell_type": "markdown",
      "metadata": {
        "id": "-EecmKzkaovv"
      },
      "source": [
        "## <font color='PaleVioletRed'>***R***</font><font color='90EE90'>***G***</font><font color='00BFFF'>***B***</font> *Scale*\n",
        "```python\n",
        "class CustomDatasetRGBScale(dataset, \n",
        "                            path,\n",
        "                            transformations):\n",
        "```"
      ]
    },
    {
      "cell_type": "code",
      "metadata": {
        "id": "kdusiUrzak99"
      },
      "source": [
        "# Custom Dataset\n",
        "\n",
        "class CustomDatasetRGBScale(torch.utils.data.Dataset):\n",
        "  \"\"\"\n",
        "  Arguments:\n",
        "    pandas dataframe (n row, 2 column)\n",
        "        First column : image name \n",
        "        second column: image label\n",
        "\n",
        "     path = file path, ex: '/content/train'\n",
        "\n",
        "     tra4 = transformations\n",
        "\n",
        "  https://github.com/utkuozbulak/pytorch-custom-dataset-examples\n",
        "  \"\"\"\n",
        "\n",
        "  def __init__(self, dataframe, path, transformations):\n",
        "    \n",
        "    # input data frame\n",
        "    self.df = dataframe\n",
        "    \n",
        "    # path of an folder that contains train/val/test images\n",
        "    self.path = path\n",
        "\n",
        "    # first column of the data frame (0th), image names\n",
        "    self.imageName = np.asarray(self.df.iloc[:,0])\n",
        "   \n",
        "    # second column of the data frame(1st), image labels\n",
        "    self.imageLabel = np.asarray(self.df.iloc[:,1])\n",
        "    \n",
        "    # length of the dataframe\n",
        "    self.datalen = len(self.df.index)\n",
        "    \n",
        "    # channel dimension of an image\n",
        "    self.channeldim = np.asarray(self.df.iloc[:,2])\n",
        "\n",
        "    # Image transformations, transforms.Compose([]) \n",
        "    self.transforms = transformations \n",
        "\n",
        "\n",
        "  def __getitem__(self, index):\n",
        "    \n",
        "    # get the image name of corresponding index\n",
        "    single_image_name = self.imageName[index]\n",
        "    \n",
        "    # get the image label of corresponding index\n",
        "    single_image_label = self.imageLabel[index]\n",
        "\n",
        "    # get the image channel dimension of corresponding index\n",
        "    single_image_channel_dim = self.channeldim[index]\n",
        "    # open the corresponding image and return as a tensor\n",
        "    # s, abbr. of single\n",
        "    s_img_PIL = Image.open(self.path + \"/\" + single_image_name)\n",
        "    \n",
        "    # check Image dimension\n",
        "    if single_image_channel_dim == 1:\n",
        "      s_img_PIL = s_img_PIL.convert('RGB') \n",
        "    \n",
        "    if single_image_channel_dim == 3:\n",
        "      # the reason I converted to gray is:\n",
        "      # almost all the covid19 images are rgb. This may cause a bias? \n",
        "      s_img_PIL = s_img_PIL.convert('L')\n",
        "      s_img_PIL = s_img_PIL.convert('RGB')\n",
        "\n",
        "    if single_image_channel_dim == 4:\n",
        "      # if image is RGBA\n",
        "      # convert RGBA(dim4) to L(dim1) \n",
        "      s_img_PIL = s_img_PIL.convert('L')\n",
        "      s_img_PIL = s_img_PIL.convert('RGB')\n",
        "    \n",
        "    #apply transform to image\n",
        "    transformed_img = self.transforms(s_img_PIL)\n",
        "    \n",
        "    d = {0:0, 1:1, 2:1, 3:2, 4:1, 5:1, 6:1}\n",
        "    #d = {0:'Normal', 1:'Virus, Bact., Others', 2:'COVID19'}\n",
        "\n",
        "    # return transformed image, and its label\n",
        "    return (transformed_img, d[single_image_label])\n",
        "\n",
        "    # Note to myself: DataLoader gets the image one by one. You can design custom datasets due to that.\n",
        "    # You can also sent whatever you want from here. \n",
        "\n",
        "\n",
        "  def __len__(self):\n",
        "    return self.datalen\n",
        "\n"
      ],
      "execution_count": null,
      "outputs": []
    },
    {
      "cell_type": "markdown",
      "metadata": {
        "id": "SmTx2u2VRqqH"
      },
      "source": [
        "# Batch size & smrofsnarT\n",
        "\n",
        "\n",
        "\n",
        "\n",
        "\n",
        "\n",
        "\n",
        "\n"
      ]
    },
    {
      "cell_type": "markdown",
      "metadata": {
        "id": "Qyz6_Un4VkDE"
      },
      "source": [
        "### Notes"
      ]
    },
    {
      "cell_type": "markdown",
      "metadata": {
        "id": "_ocymPbGz2I4"
      },
      "source": [
        "I could have tried focal loss. but there are mislabelling in dataset. \n",
        "\n",
        "weight balancing, over sampling ? \n",
        "I decided to do over sampling.\n",
        "\n",
        "Random tilts, random left right into , towards to screen \n",
        "Color distortion # Check andrew\n",
        "SHould I normalize the data after oversampling ? \n",
        "\n",
        "Rotation.\n",
        "AlexNet-PCA color augmentation(color shifting)\n",
        "\n",
        "To Do: \n",
        ">read alexnet again, look for data aug. \n",
        "\n",
        ">resnet data aug. \n",
        "\n",
        "Decreaase the size of network due to possible over fitting caused by oversampling\n",
        "\n",
        "**COVID IMAGES ARE RGB REST GRAY ETC. model can detect covid from rgb?**make rgb gray then feed into rgbdataset. \n",
        "\n",
        "> random rotation -30~+30 arasında\n",
        "\n",
        "> random contrast\n",
        "\n",
        "> random brightnes\n",
        "\n",
        "> random saturation ? \n",
        "\n",
        "***ct images are not labeled.***\n",
        "\n",
        "\n",
        "\n",
        "https://humanhealth.iaea.org/HHW/MedicalPhysics/TheMedicalPhysicist/Studentscorner/HandbookforTeachersandStudents/Chapter_04.pdf\n",
        "\n",
        "Kontrast methods ? "
      ]
    },
    {
      "cell_type": "markdown",
      "metadata": {
        "id": "aVVsAPiipsKG"
      },
      "source": [
        "### Label distribution\n",
        "(train / val / test _dataset.Class) distribution\n",
        "\n"
      ]
    },
    {
      "cell_type": "code",
      "metadata": {
        "id": "EJQmqu6SWOa8"
      },
      "source": [
        "#train_dataframeFin is the dataframe from Finalize header\n",
        "#test_dataframe is the dataframe from Finalize header\n",
        "\n",
        "# Stratify used !!\n",
        "# equally distributed train, val data split\n",
        "train_dataset_toCustom, val_dataset_toCustom = train_test_split(train_dataframeFin, train_size=0.85, test_size=0.15, \n",
        "                                                                stratify=train_dataframeFin.Class)\n",
        "test_dataset_toCustom = test_dataframeFin.copy()"
      ],
      "execution_count": null,
      "outputs": []
    },
    {
      "cell_type": "code",
      "metadata": {
        "colab": {
          "base_uri": "https://localhost:8080/"
        },
        "id": "AnHNYyUrXzL-",
        "outputId": "6c7aeab0-2539-4fb0-f3fb-f071741bfc60"
      },
      "source": [
        "print(len(train_dataset_toCustom.index))\n",
        "print(len(val_dataset_toCustom.index))\n",
        "print(len(test_dataset_toCustom.index))"
      ],
      "execution_count": null,
      "outputs": [
        {
          "output_type": "stream",
          "text": [
            "4490\n",
            "793\n",
            "627\n"
          ],
          "name": "stdout"
        }
      ]
    },
    {
      "cell_type": "code",
      "metadata": {
        "colab": {
          "base_uri": "https://localhost:8080/"
        },
        "id": "GgQgp649tO9M",
        "outputId": "e86a9233-f92f-458a-e6ae-86d03ce0ed07"
      },
      "source": [
        "train_dataset_toCustom.Class.value_counts()"
      ],
      "execution_count": null,
      "outputs": [
        {
          "output_type": "execute_result",
          "data": {
            "text/plain": [
              "1    2150\n",
              "2    1143\n",
              "0    1141\n",
              "3      47\n",
              "5       4\n",
              "4       3\n",
              "6       2\n",
              "Name: Class, dtype: int64"
            ]
          },
          "metadata": {
            "tags": []
          },
          "execution_count": 37
        }
      ]
    },
    {
      "cell_type": "code",
      "metadata": {
        "colab": {
          "base_uri": "https://localhost:8080/"
        },
        "id": "tKVlsA1KvSoL",
        "outputId": "20930b85-d58e-4ba2-b557-61b4dad409de"
      },
      "source": [
        "val_dataset_toCustom.Class.value_counts()\n"
      ],
      "execution_count": null,
      "outputs": [
        {
          "output_type": "execute_result",
          "data": {
            "text/plain": [
              "1    380\n",
              "2    202\n",
              "0    201\n",
              "3      8\n",
              "5      1\n",
              "4      1\n",
              "Name: Class, dtype: int64"
            ]
          },
          "metadata": {
            "tags": []
          },
          "execution_count": 38
        }
      ]
    },
    {
      "cell_type": "code",
      "metadata": {
        "colab": {
          "base_uri": "https://localhost:8080/"
        },
        "id": "fkiptmtUv8zT",
        "outputId": "d36acfd9-2a7e-4cb0-b64a-fc630aaad2db"
      },
      "source": [
        "test_dataset_toCustom.Class.value_counts()"
      ],
      "execution_count": null,
      "outputs": [
        {
          "output_type": "execute_result",
          "data": {
            "text/plain": [
              "1    242\n",
              "0    234\n",
              "2    148\n",
              "3      3\n",
              "Name: Class, dtype: int64"
            ]
          },
          "metadata": {
            "tags": []
          },
          "execution_count": 39
        }
      ]
    },
    {
      "cell_type": "markdown",
      "metadata": {
        "id": "P4JqH5pxpmAN"
      },
      "source": [
        "## Batch Size and Transforms"
      ]
    },
    {
      "cell_type": "code",
      "metadata": {
        "id": "-L6VmDinML2q"
      },
      "source": [
        "batch_size = 128\n",
        "ptrain='/content/drive/MyDrive/Colab Notebooks/Final/KaggleCovid/Coronahack-Chest-XRay-Dataset/train'\n",
        "ptest='/content/drive/MyDrive/Colab Notebooks/Final/KaggleCovid/Coronahack-Chest-XRay-Dataset/test'\n",
        "ptest2='/content/drive/MyDrive/Colab Notebooks/Final/KaggleCovid/Coronahack-Chest-XRay-Dataset/test2'\n",
        "ptest3='/content/drive/MyDrive/Colab Notebooks/Final/KaggleCovid/Coronahack-Chest-XRay-Dataset/test3'"
      ],
      "execution_count": null,
      "outputs": []
    },
    {
      "cell_type": "markdown",
      "metadata": {
        "id": "lK260bCggbWK"
      },
      "source": [
        "```python\n",
        "mu = 0.570406436920166\n",
        "sigma = 0.1779220998287201\n",
        "\n",
        "train_transforms = transforms.Compose([\n",
        "            transforms.Resize(224),\n",
        "            transforms.CenterCrop(224),\n",
        "            transforms.RandomHorizontalFlip(),\n",
        "            transforms.RandomApply(transforms.ColorJitter(), p=0.3),\n",
        "\n",
        "            # add rotation, left right inside screen outside screen. \n",
        "            transforms.ToTensor(),\n",
        "            transforms.Normalize((mu,), (sigma,))\n",
        "        ])\n",
        "val_transforms = transforms.Compose([\n",
        "            transforms.Resize(224),\n",
        "            transforms.CenterCrop(224),\n",
        "            transforms.ToTensor(),\n",
        "            transforms.Normalize((mu,), (sigma,))\n",
        "        ])\n",
        "test_transforms = transforms.Compose([\n",
        "            transforms.Resize(224),\n",
        "            transforms.CenterCrop(224),\n",
        "            transforms.ToTensor(),\n",
        "            transforms.Normalize((mu,), (sigma,))\n",
        "        ])\n",
        "\n",
        "train_dataset = CustomDatasetGrayScale(dataframe=train_dataset_toCustom, \n",
        "                                      path=ptrain, \n",
        "                                      transformations=train_transforms)\n",
        "\n",
        "val_dataset = CustomDatasetGrayScale(dataframe=val_dataset_toCustom, \n",
        "                                    path=ptrain, \n",
        "                                    transformations=val_transforms)\n",
        "\n",
        "test_dataset = CustomDatasetGrayScale(dataframe=test_dataset_toCustom, \n",
        "                                     path=ptest, \n",
        "                                     transformations=test_transforms)\n",
        "\n",
        "train_loader = DataLoader(dataset=train_dataset, batch_size=batch_size, num_workers=4, shuffle=True)\n",
        "test_loader = DataLoader(dataset=test_dataset, batch_size=batch_size, num_workers=4, shuffle=False)\n",
        "val_loader = DataLoader(dataset=val_dataset, batch_size=batch_size, num_workers=4, shuffle=False)\n",
        "\n",
        "```"
      ]
    },
    {
      "cell_type": "code",
      "metadata": {
        "id": "gdyM0SRXLvsj"
      },
      "source": [
        "mu = 0.570406436920166\n",
        "sigma = 0.1779220998287201\n",
        "\n",
        "train_transforms = transforms.Compose([\n",
        "            transforms.Resize(224),\n",
        "            transforms.CenterCrop(224),\n",
        "            transforms.RandomHorizontalFlip(),\n",
        "            # transforms.RandomApply([transforms.ColorJitter()], p=0.3),\n",
        "            # add rotation, left right inside screen outside screen. \n",
        "            transforms.ToTensor(),\n",
        "            transforms.Normalize((mu,mu,mu), (sigma,sigma,sigma))\n",
        "        ])\n",
        "val_transforms = transforms.Compose([\n",
        "            transforms.Resize(224),\n",
        "            transforms.CenterCrop(224),\n",
        "            transforms.ToTensor(),\n",
        "            transforms.Normalize((mu,mu,mu), (sigma,sigma,sigma))\n",
        "        ])\n",
        "test_transforms = transforms.Compose([\n",
        "            transforms.Resize(224),\n",
        "            transforms.CenterCrop(224),\n",
        "            transforms.ToTensor(),\n",
        "            transforms.Normalize((mu,mu,mu), (sigma,sigma,sigma))\n",
        "        ])\n",
        "\n",
        "train_dataset = CustomDatasetRGBScale(dataframe=train_dataset_toCustom, \n",
        "                                      path=ptrain, \n",
        "                                      transformations=train_transforms)\n",
        "\n",
        "val_dataset = CustomDatasetRGBScale(dataframe=val_dataset_toCustom, \n",
        "                                    path=ptrain, \n",
        "                                    transformations=val_transforms)\n",
        "\n",
        "test_dataset = CustomDatasetRGBScale(dataframe=test_dataset_toCustom, \n",
        "                                     path=ptest, \n",
        "                                     transformations=test_transforms)\n",
        "\n",
        "test2_dataset = CustomDatasetRGBScale(dataframe=test2_df, \n",
        "                                     path=ptest2,\n",
        "                                     transformations=test_transforms)\n",
        "\n",
        "test3_dataset = CustomDatasetRGBScale(dataframe=test3_df, \n",
        "                                     path=ptest3,\n",
        "                                     transformations=test_transforms)\n",
        "\n",
        "\n",
        "train_loader = DataLoader(dataset=train_dataset, batch_size=batch_size, num_workers=4, shuffle=True)\n",
        "test_loader = DataLoader(dataset=test_dataset, batch_size=batch_size, num_workers=4, shuffle=False)\n",
        "val_loader = DataLoader(dataset=val_dataset, batch_size=batch_size, num_workers=4, shuffle=False)\n",
        "\n",
        "test2_loader = DataLoader(dataset=test2_dataset, batch_size=batch_size, num_workers=4, shuffle=False)\n",
        "test3_loader = DataLoader(dataset=test3_dataset, batch_size=batch_size, num_workers=4, shuffle=False)"
      ],
      "execution_count": null,
      "outputs": []
    },
    {
      "cell_type": "markdown",
      "metadata": {
        "id": "bmk3pGhdJ8m6"
      },
      "source": [
        "# Train Model\n",
        "\n",
        "```python\n",
        "def blg_train_model(model,\n",
        "                    optimizer, \n",
        "                    criteria,\n",
        "                    n_epochs=1,\n",
        "                    train_loader=train_loader, \n",
        "                    val_loader=val_loader,\n",
        "                    save_model=False,\n",
        "                    save_title='model_title_unknown'):\n",
        "\n",
        "    return {'train_loss':losses_epoch_train, 'train_acc':accuracy_epoch_train, \n",
        "            'val_loss':losses_epoch_val, 'val_acc':accuracy_epoch_val}\n",
        "```"
      ]
    },
    {
      "cell_type": "code",
      "metadata": {
        "id": "f10fMFygJ8m6"
      },
      "source": [
        "def blg_train_model(model,\n",
        "                    optimizer, \n",
        "                    criteria,\n",
        "                    n_epochs=1,\n",
        "                    train_loader=train_loader, \n",
        "                    val_loader=val_loader,\n",
        "                    save_model=False,\n",
        "                    save_title='model_title_unknown'):\n",
        "  \n",
        "  \"\"\"returns dictionary\"\"\"\n",
        "  \n",
        "  use_gpu = True\n",
        "  test_every = 3 \n",
        "\n",
        "  model.train()\n",
        "  if use_gpu:\n",
        "      model.cuda()\n",
        "      criteria.cuda()\n",
        "\n",
        "  # Some example diagnostics.\n",
        "\n",
        "  # Loss for every iteration\n",
        "  losses_iter_train = []\n",
        "  # Loss for epoch (averaging the iteration-wise loss)\n",
        "  losses_epoch_train = []\n",
        "  accuracy_iter_train = []\n",
        "  accuracy_epoch_train = []\n",
        "\n",
        "  losses_iter_val = []\n",
        "  losses_epoch_val = []\n",
        "  accuracy_iter_val = []\n",
        "  accuracy_epoch_val = []\n",
        "\n",
        "  # this is for observing class base accuracy\n",
        "  # [(outputs of batch,[predicted labels of batch], [target label of batch])]\n",
        "  \n",
        "  #wrong_predicted_labels\n",
        "  train_wpl = []\n",
        "  val_wpl = []\n",
        "\n",
        "  # Write the training loop\n",
        "  for epoch in range(n_epochs):\n",
        "      \n",
        "      correct_train = 0\n",
        "      total_train = 0\n",
        "      epoch_loss  = []\n",
        "\n",
        "      for img, data in train_loader:\n",
        "          model.zero_grad()\n",
        "          label = data\n",
        "          if use_gpu:\n",
        "              img = img.cuda()\n",
        "              label = label.cuda()\n",
        "\n",
        "          # DeepLearning with PyTorch, ISBN 9781617295263, page:186\n",
        "\n",
        "          # https://discuss.pytorch.org/t/element-0-of-tensors-does-not-require-grad-and-does-not-have-a-grad-fn/32908/2\n",
        "          # ptrblck, \"As a small side note, you shouldn’t call the forward method of your model, but the model directly instead: model(inputs).\"\n",
        "\n",
        "          # https://discuss.pytorch.org/t/element-0-of-tensors-does-not-require-grad-and-does-not-have-a-grad-fn/32908/17\n",
        "          # ptrblck, \"You are detaching output from the computation graph by assigning it to the max. index here\"\n",
        "          optimizer.zero_grad()\n",
        "          outputs = model(img)\n",
        "          loss = criteria(outputs, label)\n",
        "\n",
        "          _, predicted_train = torch.max(outputs, dim=1)\n",
        "\n",
        "          total_train += label.shape[0]\n",
        "          correct_train += int((predicted_train == label).sum())\n",
        "          \n",
        "          losses_iter_train.append(loss.item())\n",
        "          # epoch loss will be 0ed each epoch\n",
        "          epoch_loss.append(loss.item())\n",
        "          accuracy_iter_train.append(int((predicted_train == label).sum()) / label.shape[0])\n",
        "          #print(\"Accuracy:\", correct_train / total_train)\n",
        "          #print(\"epoch:\", epoch, \"loss:\", loss.item())\n",
        "          loss.backward()\n",
        "          optimizer.step() \n",
        "      \n",
        "      accuracy_epoch_train.append(correct_train / total_train)\n",
        "      losses_epoch_train.append(sum(epoch_loss)/ len(epoch_loss))\n",
        "      print(\"------------------------------------------\")\n",
        "      print(\"epoch:\", epoch, \"    Train Accuracy:\", accuracy_epoch_train[-1], \", Loss:\", losses_epoch_train[-1])\n",
        "      \n",
        "      if epoch % 3 == 1:\n",
        "          with torch.no_grad():\n",
        "              model.eval()\n",
        "                  # Measure the performance in validation set.\n",
        "              correct_val = 0\n",
        "              total_val = 0\n",
        "              total_loss = []\n",
        "              for img, val_data in val_loader: \n",
        "                  label = val_data\n",
        "                  if use_gpu:\n",
        "                      img = img.cuda()\n",
        "                      label = label.cuda()\n",
        "                  # DeepLearning with PyTorch, ISBN 9781617295263, page:186\n",
        "                  # https://discuss.pytorch.org/t/element-0-of-tensors-does-not-require-grad-and-does-not-have-a-grad-fn/32908/2\n",
        "                  # ptrblck, \"As a small side note, you shouldn’t call the forward method of your model, but the model directly instead: model(inputs).\"\n",
        "\n",
        "                  outputs = model(img)\n",
        "                  loss_val = criteria(outputs, label)\n",
        "                              \n",
        "                  _, predicted_val = torch.max(outputs, dim=1)\n",
        "\n",
        "                  # pytorch forum, \n",
        "                  # extract wrong labels\n",
        "                  wrong_idx=(predicted_val != label.view_as(predicted_val)).nonzero()[:,0]\n",
        "                  wrong_samples = img[wrong_idx]\n",
        "                  wrong_preds = predicted_val[wrong_idx]\n",
        "                  actual_preds = label.view_as(predicted_val)[wrong_idx]\n",
        "\n",
        "                  temp = torch.stack((actual_preds,wrong_preds)).tolist()\n",
        "                  c = [(int(temp[0][i]), int(temp[1][i])) for i in range(len(temp[0]))]\n",
        "                  val_wpl.append(c)\n",
        "\n",
        "                  total_val += label.shape[0]\n",
        "                  correct_val += int((predicted_val == label).sum())\n",
        "\n",
        "                  total_loss.append(loss_val.item())\n",
        "\n",
        "                  losses_iter_val.append(loss_val.item())\n",
        "                  accuracy_iter_val.append(int((predicted_val == label).sum()) / label.shape[0])\n",
        "          \n",
        "              losses_epoch_val.append(sum(total_loss) / len(total_loss))\n",
        "              accuracy_epoch_val.append(correct_val / total_val)\n",
        "          \n",
        "              print(\"\")\n",
        "              print(\"Val.. Accuracy:\", accuracy_epoch_val[-1], \", Loss:\", losses_epoch_val[-1])\n",
        "\n",
        "      model.train()\n",
        "\n",
        "  return {'train_loss':losses_epoch_train, 'train_acc':accuracy_epoch_train, 'val_loss':losses_epoch_val, 'val_acc':accuracy_epoch_val}"
      ],
      "execution_count": null,
      "outputs": []
    },
    {
      "cell_type": "markdown",
      "metadata": {
        "id": "yWdH-e3dJ8m7"
      },
      "source": [
        "# Test Model\n",
        "```python\n",
        "def blg_test_model(model='None', \n",
        "                   criteria='None', \n",
        "                   test_loader=test_loader, \n",
        "                   use_gpu=True):\n",
        "\n",
        "    return test_acc\n",
        "\n",
        "```"
      ]
    },
    {
      "cell_type": "code",
      "metadata": {
        "id": "BMnvvt1OJ8m7"
      },
      "source": [
        "# It modifies the behaviour of modules like BatchNorm and Dropout for test purposes\n",
        "# Dropout no longer works when .eval() is called.\n",
        "# BatchNorm uses the learned parameters\n",
        "\n",
        "def blg_test_model(model='None', criteria='None', test_loader=test_loader, use_gpu=True):\n",
        "  \n",
        "  use_gpu=use_gpu\n",
        "  op=[]\n",
        "  test_wpl = []\n",
        "  model.eval()\n",
        "  test_acc = 0\n",
        "\n",
        "  temp_tp = []\n",
        "  y_true = []\n",
        "  y_pred = []\n",
        "  y_actual = []\n",
        "  y_wrong = []\n",
        "  with torch.no_grad():\n",
        "      total_test = 0 \n",
        "      correct_test = 0 \n",
        "      losses =[]\n",
        "      for data in test_loader:\n",
        "          img, label = data\n",
        "          if use_gpu:\n",
        "              img = img.cuda()\n",
        "              label = label.cuda()\n",
        "          outputs = model(img)\n",
        "          loss_test = criteria(outputs, label)\n",
        "          # op, to check output after test\n",
        "          op.append((outputs,label))\n",
        "          losses.append(loss_test.item())\n",
        "\n",
        "          _, predicted_test = torch.max(outputs, dim=1)\n",
        "\n",
        "          # extract wrong labels\n",
        "          wrong_idx=(predicted_test != label.view_as(predicted_test)).nonzero()[:,0]\n",
        "          wrong_samples = img[wrong_idx]\n",
        "          wrong_preds = predicted_test[wrong_idx]\n",
        "          actual_preds = label.view_as(predicted_test)[wrong_idx]\n",
        "\n",
        "          #temp = torch.stack((actual_preds,wrong_preds)).tolist()\n",
        "          #c = [(int(temp[0][i]), int(temp[1][i])) for i in range(len(temp[0]))]\n",
        "          #test_wpl.append(c)\n",
        "          y_true.append(label.tolist())\n",
        "          y_pred.append(predicted_test.tolist())\n",
        "          y_actual.append(actual_preds.tolist())\n",
        "          y_wrong.append(wrong_preds.tolist())\n",
        "         \n",
        "          total_test += label.shape[0]\n",
        "          correct_test += int((predicted_test == label).sum())\n",
        "      test_acc = correct_test/total_test\n",
        "      test_loss = sum(losses)/len(losses)\n",
        "      print(\"Test Accuracy:\", test_acc, \" Test Loss:\", test_loss )\n",
        "\n",
        "      flatten1d = lambda x: [item for sublist in x for item in sublist]\n",
        "      dictTruePredWrong = {'GroundTruth': flatten1d(y_true),\n",
        "                           'Predictions': flatten1d(y_pred),\n",
        "                           'ActualPredictions': flatten1d(y_actual), \n",
        "                           'WrongPredictions': flatten1d(y_wrong)}\n",
        "  return test_acc, test_loss, dictTruePredWrong"
      ],
      "execution_count": null,
      "outputs": []
    },
    {
      "cell_type": "markdown",
      "metadata": {
        "id": "8CqI24mN3J4y"
      },
      "source": [
        "# Plot Functions\n",
        "\n",
        "```python\n",
        "def plot_tra_val(history, title=\"Concretely\"):\n",
        "    plt.show()\n",
        "```\n",
        "\n",
        "```python\n",
        "def plot_wrongPred(wpl)\n",
        "    \"\"\"plots a histogram of wrong predicted labels, prints the matrix\"\"\"\n",
        "    plt.show()\n",
        "```\n",
        "\n",
        "```python\n",
        "def plot_confusionMatrix(wpl)\n",
        "    \"\"\"plots a (Ground Truth & Predicted Label) matrix \"\"\"\n",
        "    plt.show()\n",
        "```"
      ]
    },
    {
      "cell_type": "markdown",
      "metadata": {
        "id": "oZ4_9pC29UVy"
      },
      "source": [
        "## Plot: train, validation loss & accuracy"
      ]
    },
    {
      "cell_type": "code",
      "metadata": {
        "id": "ex_8e0T33SJ9"
      },
      "source": [
        "def plot_tra_val(history, title=\"Concretely\"):\n",
        "  \"\"\"\n",
        "  Argument: \n",
        "    Dictionary: Output of \"Train Model\". (training history)\n",
        "  \"\"\"\n",
        "  assert isinstance(history, dict) == True, \"Input is not a dictionary\"\n",
        "\n",
        "  fig = plt.figure(figsize=(12, 5))\n",
        "\n",
        "  fig.add_subplot(121)\n",
        "\n",
        "  l_train = len(history[\"train_loss\"])\n",
        "  xaxis_val = [i for i in range(1, l_train, 3)]\n",
        "  \n",
        "  plt.plot(history[\"train_loss\"], \"m--\", marker=\"o\", markersize=4, label=\"Training\")\n",
        "  plt.plot(xaxis_val, history[\"val_loss\"], \"c--\", marker=\"o\", markersize=3, label=\"Validation\")\n",
        "  plt.title(title +\": Loss vs. Epochs\")\n",
        "  plt.ylabel(\"Loss\")\n",
        "  plt.xlabel(\"Epoch\")\n",
        "  plt.legend()\n",
        "\n",
        "  fig.add_subplot(122)\n",
        "\n",
        "  plt.plot(history[\"train_acc\"], \"m--\", marker=\"o\", markersize=4, label=\"Training\")\n",
        "  plt.plot(xaxis_val, history[\"val_acc\"], \"c--\", marker=\"o\", markersize=3, label=\"Validation\")\n",
        "  plt.title(title +\": Accuracy vs. Epochs\")\n",
        "  plt.ylabel(\"Accuracy\")\n",
        "  plt.xlabel(\"Epoch\")\n",
        "  plt.legend()\n",
        "\n",
        "  plt.show()"
      ],
      "execution_count": null,
      "outputs": []
    },
    {
      "cell_type": "code",
      "metadata": {
        "id": "7csazwGu4rmC"
      },
      "source": [
        "def comparePlot1(history, title=\"Tom&Jerry\", t1=\"Tom\"):\n",
        "  \"\"\"\n",
        "  Argument: \n",
        "    Dictionary: Output of \"Train Model\". (training history)\n",
        "  \"\"\"\n",
        "  assert isinstance(history, dict) == True, \"Input is not a dictionary\"\n",
        "\n",
        "  fig = plt.figure(figsize=(12, 5))\n",
        "  fig.add_subplot(121)\n",
        "\n",
        "  l_train = len(history[\"train_loss\"])\n",
        "  xaxis_val = [i for i in range(1, l_train, 3)]\n",
        "\n",
        "  ###style\n",
        "  h2_tra = {'color':\"m\", 'linestyle':'solid', 'marker':\"o\", 'markersize':4}\n",
        "  h2_val = {'color':\"c\", 'linestyle':'solid', 'marker':\"o\", 'markersize':3}\n",
        "  ###style\n",
        "\n",
        "  plt.plot(history[\"train_loss\"], label=t1+\" Train\", **h2_tra)\n",
        "  plt.plot(xaxis_val, history[\"val_loss\"], label=t1 + \" Val\", **h2_val)\n",
        "\n",
        "  plt.title(\"Loss (Arithmetic Mean)\")\n",
        "  plt.ylabel(\"Loss\")\n",
        "  plt.xlabel(\"Epoch\")\n",
        "  plt.legend()\n",
        "\n",
        "  fig.add_subplot(122)\n",
        "\n",
        "  plt.plot(history[\"train_acc\"], label=t1+\" Train\", **h2_tra)\n",
        "  plt.plot(xaxis_val, history[\"val_acc\"], label=t1+\" Val\", **h2_val)\n",
        "\n",
        "   \n",
        "  plt.title(\"Accuracy (Correct Prediction/Total)\")\n",
        "  plt.ylabel(\"Accuracy\")\n",
        "  plt.xlabel(\"Epoch\")\n",
        "  plt.legend()\n",
        "  fig.suptitle(title, y=1.05)\n",
        "  plt.show()\n",
        "  return fig\n"
      ],
      "execution_count": null,
      "outputs": []
    },
    {
      "cell_type": "code",
      "metadata": {
        "id": "gSqkIPe0fpbP"
      },
      "source": [
        "def comparePlot2(history, history2, title=\"Tom&Jerry\", t1=\"Tom\", t2='Jerry'):\n",
        "  \"\"\"\n",
        "  Argument: \n",
        "    Dictionary: Output of \"Train Model\". (training history)\n",
        "  \"\"\"\n",
        "  assert isinstance(history, dict) == True, \"Input is not a dictionary\"\n",
        "  assert isinstance(history2, dict) == True, \"Input is not a dictionary\"\n",
        "\n",
        "  fig = plt.figure(figsize=(12, 5))\n",
        "  fig.add_subplot(121)\n",
        "\n",
        "  l_train = len(history[\"train_loss\"])\n",
        "  xaxis_val = [i for i in range(1, l_train, 3)]\n",
        "\n",
        "  ###style\n",
        "  h1_tra = {'color':\"tab:brown\", 'linestyle':'--', 'linewidth':2, 'marker':\"*\", 'markersize':5}\n",
        "  h1_val = {'color':\"darkorange\", 'linestyle':'--', 'linewidth':2, 'marker':\"*\", 'markersize':4}\n",
        "\n",
        "  h2_tra = {'color':\"m\", 'linestyle':'solid', 'marker':\"o\", 'markersize':4}\n",
        "  h2_val = {'color':\"c\", 'linestyle':'solid', 'marker':\"o\", 'markersize':3}\n",
        "  ###style\n",
        "\n",
        "  plt.plot(history[\"train_loss\"], label=t1+\" Train\", **h1_tra)\n",
        "  plt.plot(xaxis_val, history[\"val_loss\"], label=t1 + \" Val\", **h1_val)\n",
        "\n",
        "  plt.plot(history2[\"train_loss\"], label=t2+\" Train\", **h2_tra)\n",
        "  plt.plot(xaxis_val, history2[\"val_loss\"], label=t2 +\" Val\", **h2_val)\n",
        "\n",
        "  plt.title(\"Loss (Arithmetic Mean)\")\n",
        "  plt.ylabel(\"Loss\")\n",
        "  plt.xlabel(\"Epoch\")\n",
        "  plt.legend()\n",
        "\n",
        "  fig.add_subplot(122)\n",
        "\n",
        "  plt.plot(history[\"train_acc\"], label=t1+\" Train\", **h1_tra)\n",
        "  plt.plot(xaxis_val, history[\"val_acc\"], label=t1+\" Val\", **h1_val)\n",
        "\n",
        "  plt.plot(history2[\"train_acc\"], label=t2+\" Train\", **h2_tra)\n",
        "  plt.plot(xaxis_val, history2[\"val_acc\"], label=t2+\" Val\", **h2_val)\n",
        "\n",
        "   \n",
        "  plt.title(\"Accuracy (Correct Prediction/Total)\")\n",
        "  plt.ylabel(\"Accuracy\")\n",
        "  plt.xlabel(\"Epoch\")\n",
        "  plt.legend()\n",
        "  fig.suptitle(title, y=1.05)\n",
        "  plt.show()\n",
        "  return fig\n"
      ],
      "execution_count": null,
      "outputs": []
    },
    {
      "cell_type": "markdown",
      "metadata": {
        "id": "Nxj7D6YM96aZ"
      },
      "source": [
        "## Plot: Histogram and Matrix of wrong predictions in test"
      ]
    },
    {
      "cell_type": "code",
      "metadata": {
        "id": "T-oqXpTg8rC0"
      },
      "source": [
        " # plots the histogram of wrong predicted labels, prints the matrix\n",
        " def plot_wrongPred(wpl):\n",
        "  \"\"\"\n",
        "  Arguments: \n",
        "    Dictionary: last output of the \"Test your model\" (wpl)\n",
        "  \"\"\"\n",
        "  plt.clf()\n",
        "\n",
        "  y_true = wpl['GroundTruth'] \n",
        "  y_pred = wpl['Predictions']\n",
        "\n",
        "  # actual prediction of wrong predicted labels\n",
        "  y_actual = wpl['ActualPredictions']\n",
        "  y_wrong = wpl['WrongPredictions']\n",
        "\n",
        "  #wrong labeled distribution\n",
        "  _ = plt.hist(y_wrong, align='left', range=(-1,4))\n",
        "  _ = plt.legend(['0: Normal\\n1: Virus&Bacteria\\n2: Covid19'])\n",
        "  _ = plt.title('\\nNumber of wrong predictions.\\n')\n",
        "\n",
        "  # wrong labeled confusion matrix\n",
        "  cm = confusion_matrix(y_true=y_actual, y_pred=y_wrong)\n",
        "  print(cm)\n",
        "  print(\"\\n-- Rows: Ground Truths, \\n | Columns: Only Wrong Predictions\")\n",
        "  print(\"\\nTotal wrong predictions: \", sum(sum(cm)))\n",
        "  # rows: ground truth\n",
        "  # columns: wrong predictions\n",
        "  plt.show()"
      ],
      "execution_count": null,
      "outputs": []
    },
    {
      "cell_type": "markdown",
      "metadata": {
        "id": "ApYI6Azn_bM8"
      },
      "source": [
        "## Plot: Confusion Matrix of Ground Truth Labels & Predictions in test"
      ]
    },
    {
      "cell_type": "code",
      "metadata": {
        "id": "7hvti2C2_CjH"
      },
      "source": [
        "def plot_confusionMatrix(wpl):\n",
        "  \"\"\"\n",
        "  Arguments: \n",
        "    Dictionary: last output of the \"Test your model\" (wpl)\n",
        "  \"\"\"\n",
        "  y_true = wpl['GroundTruth'] \n",
        "  y_pred = wpl['Predictions']\n",
        "\n",
        "  # actual prediction of wrong predicted labels\n",
        "  y_actual = wpl['ActualPredictions']\n",
        "  y_wrong = wpl['WrongPredictions']\n",
        "\n",
        "  print(\"Ground Truth & Prediction Confusion Matrix\")\n",
        "  cm = confusion_matrix(y_true=y_true, y_pred=y_pred)\n",
        "  print(cm)\n",
        "  print(\"\\n-- Rows: Ground Truths, \\n | Columns: Predictions\")\n",
        "  print(\"\")\n",
        "  print(\"Ground Truth test distribution\")\n",
        "  n = np.sum(cm, axis=1)\n",
        "  if len(n)==3:\n",
        "    print(\" 0: Normal -->\",n[0],\"\\n\",\\\n",
        "          \"1: Virus&Bacteria -->\",n[1],\"\\n\",\\\n",
        "          \"2: Covid19 -->\", n[2])\n",
        "  if len(n)==4:\n",
        "    print(\" 0: Normal -->\",n[0],\"\\n\",\\\n",
        "          \"1: Bacteria -->\",n[1],\"\\n\",\\\n",
        "          \"2: Virus -->\",n[2],\"\\n\",\\\n",
        "          \"3: Covid19 -->\", n[3])\n",
        "  return cm\n",
        "  # rows: ground truth\n",
        "  # columns: predictions\n"
      ],
      "execution_count": null,
      "outputs": []
    },
    {
      "cell_type": "markdown",
      "metadata": {
        "id": "Koohx0Q6v6gd"
      },
      "source": [
        "# Save and Load any kind of dictionary (.json)\n",
        "```python\n",
        "def historySave(history_dict, dirname:str, naming:str):\n",
        "\n",
        "def historyLoad(dirname:str, naming:str):\n",
        "  returns data\n",
        "```"
      ]
    },
    {
      "cell_type": "code",
      "metadata": {
        "id": "inL179sSwDI4"
      },
      "source": [
        "# https://stackoverflow.com/a/7100202\n",
        "try:\n",
        "    import json\n",
        "except:\n",
        "  print(\"Error while import json\")\n",
        "\n",
        "def historySave(history_dict, dirname:str, naming:str):\n",
        "  path_dir = '/content/drive/MyDrive/Colab Notebooks/Final/KaggleCovid/tempSave/ModelHistory/'\n",
        "  ph = path_dir + dirname + '/' + naming +'.json'\n",
        "  \n",
        "  # check if file exist\n",
        "  if os.path.exists(path_dir + dirname):\n",
        "    print(\"Directory name:\",dirname,\"exist.\")\n",
        "  \n",
        "  file_created_flag = False\n",
        "  # create directory if not exist\n",
        "  if not os.path.exists(path_dir + dirname):\n",
        "    os.makedirs(path_dir + dirname)\n",
        "    # check if created and reachable\n",
        "    if os.path.exists(path_dir + dirname):\n",
        "      file_created_flag = True\n",
        "\n",
        "  # create file and write the history dict \n",
        "  # file_path is ph \n",
        "  with open(ph, 'w') as fp:\n",
        "    json.dump(history_dict, fp)\n",
        "\n",
        "  if os.path.exists(ph):\n",
        "    return print(\"History created successfully\")\n",
        "  else:\n",
        "    return print(\"History file is probably created but it seems it is not there for same reason\")\n",
        "\n",
        "  \n",
        "def historyLoad(dirname:str, naming:str):\n",
        "\n",
        "  path_dir = '/content/drive/MyDrive/Colab Notebooks/Final/KaggleCovid/tempSave/ModelHistory/'\n",
        "  ph = path_dir + dirname + '/' + naming + '.json'\n",
        "  \n",
        "  # check if file exist\n",
        "  if not os.path.exists(path_dir + dirname):\n",
        "    return print(\"Directory name:\",dirname,\"is not exist.\")\n",
        "  \n",
        "  if not os.path.exists(ph):\n",
        "    return print(\"File name: \" + naming + '.json' +\" is not exist.\")\n",
        "  \n",
        "  if os.path.exists(ph):\n",
        "    # load file to data \n",
        "    with open(ph, 'r') as fp:\n",
        "      data = json.load(fp)\n",
        "      print(\"History must be loaded\")\n",
        "      #print(\"( •_•)\")\n",
        "      #print(\"( •_•)>⌐■-■\")\n",
        "      #print(\"(⌐■_■)\")\n",
        "    return data\n",
        "  else:\n",
        "    return print(\"History file is can't be load. Problem !\")"
      ],
      "execution_count": null,
      "outputs": []
    },
    {
      "cell_type": "markdown",
      "metadata": {
        "id": "aND2Kr5JAh-5"
      },
      "source": [
        "# Mean and Standart Deviation of Images\n",
        "\n",
        "*Coronahack-Chest-XRay-Dataset/train* \n",
        "\n",
        "\n"
      ]
    },
    {
      "cell_type": "markdown",
      "metadata": {
        "id": "9HB6iwcrA-gg"
      },
      "source": [
        "```\n",
        "batch_count = 0\n",
        "toplam = torch.tensor(0.0) \n",
        "batch_size_tracker = []\n",
        "for index, (images128,b) in enumerate(train_loader,start=1):\n",
        "\n",
        "  toplam += (torch.sum(images128) / images128.size()[0])\n",
        "  batch_count +=1\n",
        "\n",
        "  batch_size_tracker.append(images128.size()[0])\n",
        "  \n",
        "print(index)\n",
        "\n",
        "mu_train = toplam/batch_count\n",
        "mu_train/=224*224\n",
        "mu_train\n",
        "```"
      ]
    },
    {
      "cell_type": "markdown",
      "metadata": {
        "id": "6Xvjl3YABjHi"
      },
      "source": [
        "```python\n",
        "batch_count_std = 0\n",
        "toplam_std = torch.tensor(0.0) \n",
        "batch_size_tracker_std = []\n",
        "for index, (images128,b) in enumerate(train_loader,start=1):\n",
        "\n",
        "  toplam_std += (torch.sum(((images128 - mu_train))**2)/(224*224) / images128.size()[0])\n",
        "  batch_count_std +=1\n",
        "\n",
        "  batch_size_tracker_std.append(images128.size()[0])\n",
        "  \n",
        "print(index)\n",
        "\n",
        "var = toplam_std/36\n",
        "sigma= torch.sqrt(var)\n",
        "sigma.item()\n",
        "```"
      ]
    },
    {
      "cell_type": "markdown",
      "metadata": {
        "id": "MlE_BzWsTE1g"
      },
      "source": [
        "# Run Model: Resnet50"
      ]
    },
    {
      "cell_type": "code",
      "metadata": {
        "id": "tXKfoTr_atoG"
      },
      "source": [
        "try:\n",
        "  del resnet50_1\n",
        "  del opt_resnet50\n",
        "  del opt_resnet50\n",
        "except:\n",
        "  pass\n",
        "resnet50_1 = models.resnet50(pretrained=True)"
      ],
      "execution_count": null,
      "outputs": []
    },
    {
      "cell_type": "code",
      "metadata": {
        "colab": {
          "base_uri": "https://localhost:8080/"
        },
        "id": "JwQyMp49aIKT",
        "outputId": "88ef4b97-6d64-4282-d8bf-4f6534b5cb9c"
      },
      "source": [
        "#freeze all the layers.\n",
        "for parameter in resnet50_1.parameters():\n",
        "  parameter.requires_grad = False\n",
        "\n",
        "# recreate the layer\n",
        "print(resnet50_1.fc)\n",
        "# 2048: resnet50.fc.in_features\n",
        "resnet50_1.fc = nn.Linear(2048, 7)\n",
        "print(resnet50_1.fc)\n",
        "\n",
        "# to send weights to gpu, https://stackoverflow.com/a/59013131\n",
        "_ = resnet50_1.cuda()"
      ],
      "execution_count": null,
      "outputs": [
        {
          "output_type": "stream",
          "text": [
            "Linear(in_features=2048, out_features=1000, bias=True)\n",
            "Linear(in_features=2048, out_features=7, bias=True)\n"
          ],
          "name": "stdout"
        }
      ]
    },
    {
      "cell_type": "code",
      "metadata": {
        "id": "pXgjz7H4UTia"
      },
      "source": [
        "#weights = [0.1, 0.1, 0.1, 1.25, 1.5, 1.5, 1.75] #as class distribution\n",
        "#class_weights = torch.FloatTensor(weights).cuda()"
      ],
      "execution_count": null,
      "outputs": []
    },
    {
      "cell_type": "code",
      "metadata": {
        "colab": {
          "base_uri": "https://localhost:8080/"
        },
        "id": "FHFN8dqcyPfB",
        "outputId": "22c266cd-60af-4b53-f229-2e23d8f9be97"
      },
      "source": [
        "opt_resnet50 = optim.SGD(params=resnet50_1.parameters(), lr=0.001, momentum=0.95, weight_decay=0.0002)\n",
        "cri_resnet50 = nn.CrossEntropyLoss()\n",
        "# model training function call\n",
        "history_resnet50_1 = blg_train_model(model=resnet50_1, n_epochs=11, optimizer=opt_resnet50, criteria=cri_resnet50)\n",
        "\n",
        "historySave(history_resnet50_1, dirname='Pre_Resnet50_7c', naming='11epoch')"
      ],
      "execution_count": null,
      "outputs": [
        {
          "output_type": "stream",
          "text": [
            "------------------------------------------\n",
            "epoch: 0     Train Accuracy: 0.610467706013363 , Loss: 1.0225405626826816\n",
            "------------------------------------------\n",
            "epoch: 1     Train Accuracy: 0.7314031180400891 , Loss: 0.7354262537426419\n",
            "\n",
            "Val.. Accuracy: 0.7402269861286255 , Loss: 0.7000289218766349\n",
            "------------------------------------------\n",
            "epoch: 2     Train Accuracy: 0.7583518930957683 , Loss: 0.6291432082653046\n",
            "------------------------------------------\n",
            "epoch: 3     Train Accuracy: 0.7614699331848552 , Loss: 0.6024632876118025\n",
            "------------------------------------------\n",
            "epoch: 4     Train Accuracy: 0.7694877505567929 , Loss: 0.5738801202840276\n",
            "\n",
            "Val.. Accuracy: 0.7452711223203027 , Loss: 0.6106409089905875\n",
            "------------------------------------------\n",
            "epoch: 5     Train Accuracy: 0.766369710467706 , Loss: 0.5720483279890485\n",
            "------------------------------------------\n",
            "epoch: 6     Train Accuracy: 0.7694877505567929 , Loss: 0.5605933624837134\n",
            "------------------------------------------\n",
            "epoch: 7     Train Accuracy: 0.7786191536748329 , Loss: 0.5324930780463748\n",
            "\n",
            "Val.. Accuracy: 0.7490542244640606 , Loss: 0.5899751441819328\n",
            "------------------------------------------\n",
            "epoch: 8     Train Accuracy: 0.7841870824053452 , Loss: 0.5354508832097054\n",
            "------------------------------------------\n",
            "epoch: 9     Train Accuracy: 0.7786191536748329 , Loss: 0.5339211117890146\n",
            "------------------------------------------\n",
            "epoch: 10     Train Accuracy: 0.7832962138084633 , Loss: 0.5318481748302778\n",
            "\n",
            "Val.. Accuracy: 0.7515762925598991 , Loss: 0.5768065069402967\n",
            "Directory name: Pre_Resnet50_7c exist.\n",
            "History created successfully\n"
          ],
          "name": "stdout"
        }
      ]
    },
    {
      "cell_type": "code",
      "metadata": {
        "id": "AksXZ5EC8XCL"
      },
      "source": [
        "history_resnet50_1_test = blg_test_model(model=resnet50_1, criteria=nn.CrossEntropyLoss(), test_loader=test_loader)\n",
        "\n",
        "historySave(history_resnet50_1_test, dirname='Pre_Resnet50_7c', naming='11epoch_test')"
      ],
      "execution_count": null,
      "outputs": []
    },
    {
      "cell_type": "code",
      "metadata": {
        "colab": {
          "base_uri": "https://localhost:8080/"
        },
        "id": "qOo0FhQo0YnF",
        "outputId": "506c520a-7e5f-4dce-caae-808a50e03356"
      },
      "source": [
        "history_resnet50_1_test2 = blg_test_model(model=resnet50_1, criteria=nn.CrossEntropyLoss(), test_loader=test2_loader)\n",
        "\n",
        "historySave(history_resnet50_1_test2, dirname='Pre_Resnet50_7c', naming='11epoch_test2')"
      ],
      "execution_count": null,
      "outputs": [
        {
          "output_type": "stream",
          "text": [
            "torch.Size([128])\n",
            "torch.Size([128])\n",
            "torch.Size([24])\n",
            "Test Accuracy: 0.5678571428571428  Test Loss: 1.3514058391253154\n",
            "Directory name: Pre_Resnet50_7c exist.\n",
            "History created successfully\n"
          ],
          "name": "stdout"
        }
      ]
    },
    {
      "cell_type": "code",
      "metadata": {
        "colab": {
          "base_uri": "https://localhost:8080/"
        },
        "id": "HosFV40X5kCl",
        "outputId": "fa8119b7-7a84-49d8-cd4b-1e23f81ca039"
      },
      "source": [
        "_=plot_confusionMatrix(history_resnet50_1_test[-1])"
      ],
      "execution_count": null,
      "outputs": [
        {
          "output_type": "stream",
          "text": [
            "Ground Truth & Prediction Confusion Matrix\n",
            "[[130  45  59   0]\n",
            " [  7 232   3   0]\n",
            " [  4  41 103   0]\n",
            " [  1   2   0   0]]\n",
            "\n",
            "-- Rows: Ground Truths, \n",
            " | Columns: Predictions\n",
            "\n",
            "Ground Truth test distribution\n",
            " 0: Normal --> 234 \n",
            " 1: Bacteria --> 242 \n",
            " 2: Virus --> 148 \n",
            " 3: Covid19 --> 3\n"
          ],
          "name": "stdout"
        }
      ]
    },
    {
      "cell_type": "code",
      "metadata": {
        "colab": {
          "base_uri": "https://localhost:8080/"
        },
        "id": "o06yvjxnDcic",
        "outputId": "ac298b71-5fe1-4486-da01-394858b0363d"
      },
      "source": [
        "_=plot_confusionMatrix(history_resnet50_1_test2[-1])"
      ],
      "execution_count": null,
      "outputs": [
        {
          "output_type": "stream",
          "text": [
            "Ground Truth & Prediction Confusion Matrix\n",
            "[[136   3   1   0]\n",
            " [  0   0   0   0]\n",
            " [  0   0   0   0]\n",
            " [ 14  78  25  23]]\n",
            "\n",
            "-- Rows: Ground Truths, \n",
            " | Columns: Predictions\n",
            "\n",
            "Ground Truth test distribution\n",
            " 0: Normal --> 140 \n",
            " 1: Bacteria --> 0 \n",
            " 2: Virus --> 0 \n",
            " 3: Covid19 --> 140\n"
          ],
          "name": "stdout"
        }
      ]
    },
    {
      "cell_type": "code",
      "metadata": {
        "colab": {
          "base_uri": "https://localhost:8080/"
        },
        "id": "v89NMvXxy77q",
        "outputId": "a68ac613-f28e-49da-bdc5-5748c140ca9a"
      },
      "source": [
        "a =str(opt_resnet50)\n",
        "print(a)"
      ],
      "execution_count": null,
      "outputs": [
        {
          "output_type": "stream",
          "text": [
            "SGD (\n",
            "Parameter Group 0\n",
            "    dampening: 0\n",
            "    lr: 0.001\n",
            "    momentum: 0.95\n",
            "    nesterov: False\n",
            "    weight_decay: 0.0002\n",
            ")\n"
          ],
          "name": "stdout"
        }
      ]
    },
    {
      "cell_type": "markdown",
      "metadata": {
        "id": "fFy4Yk_LaSTx"
      },
      "source": [
        "```python\n",
        "# weights = [0.1, 0.1, 0.1, 1.25, 1.5, 1.5, 1.75]\n",
        "opt_resnet = optim.SGD(params=resnet50_1.parameters(), lr=0.001, momentum=0.90, weight_decay=0.0002)\n",
        "cri_resnet = nn.CrossEntropyLoss(weight=class_weights)\n",
        "# model training function call\n",
        "history_resnet50_1 = blg_train_model(model=resnet50_1, n_epochs=6, optimizer=opt_resnet, criteria=cri_resnet)\n",
        "```"
      ]
    },
    {
      "cell_type": "markdown",
      "metadata": {
        "id": "dvTzI7UsAXQ-"
      },
      "source": [
        "```python\n",
        "# debug #\n",
        "img0 = Image.open(wdt+ '/test/'+'F63AB6CE-1968-4154-A70F-913AF154F53D.jpeg')\n",
        "img0 = img0.convert('RGB') \n",
        "img0 = test_transforms(img0)\n",
        "img0 = img0[None, ...].cuda()\n",
        "img0.shape\n",
        "\n",
        "resnet50_1.eval()\n",
        "o = resnet50_1(img0)\n",
        "labl = torch.tensor(3)\n",
        "labl = labl[None, ...].cuda()\n",
        "los = cri_resnet(o, labl)\n",
        "```"
      ]
    },
    {
      "cell_type": "markdown",
      "metadata": {
        "id": "ZoocJqlMnbNF"
      },
      "source": [
        "# Run Model: Resnet18\n"
      ]
    },
    {
      "cell_type": "code",
      "metadata": {
        "colab": {
          "base_uri": "https://localhost:8080/"
        },
        "id": "v0PwVCT-2RyT",
        "outputId": "2cd6d254-192d-4fc1-a0c9-46d04297dcfb"
      },
      "source": [
        "try:\n",
        "  del resnet18_1\n",
        "  del opt_resnet18\n",
        "  del cri_resnet18\n",
        "except:\n",
        "  pass\n",
        "resnet18_1 = models.resnet18(pretrained=False)\n",
        "\n",
        "for parameter in resnet18_1.parameters():\n",
        "  parameter.requires_grad = False\n",
        "\n",
        "# last layer>> (fc): Linear(in_features=512, out_features=1000, bias=True)\n",
        "print(resnet18_1.fc)\n",
        "resnet18_1.fc=nn.Linear(512,7)\n",
        "print(resnet18_1.fc)\n",
        "# gpu application\n",
        "_=resnet18_1.cuda()"
      ],
      "execution_count": null,
      "outputs": [
        {
          "output_type": "stream",
          "text": [
            "Linear(in_features=512, out_features=1000, bias=True)\n",
            "Linear(in_features=512, out_features=7, bias=True)\n"
          ],
          "name": "stdout"
        }
      ]
    },
    {
      "cell_type": "code",
      "metadata": {
        "colab": {
          "base_uri": "https://localhost:8080/"
        },
        "id": "KdwN4c032-xm",
        "outputId": "8b3bee98-84be-48af-d27d-acc40fa292d0"
      },
      "source": [
        "#weights = [0.1, 0.1, 0.1, 1.25, 1.5, 1.5, 1.75] #as class distribution\n",
        "#class_weights = torch.FloatTensor(weights).cuda()\n",
        "\n",
        "opt_resnet18  = optim.SGD(params=resnet18_1.parameters(), lr=0.001, momentum=0.95, weight_decay=0.0002)\n",
        "cri_resnet18 = nn.CrossEntropyLoss()#weight=class_weights)\n",
        "\n",
        "history_resnet18_1 = blg_train_model(model=resnet18_1, n_epochs=11, optimizer=opt_resnet18, criteria=cri_resnet18)\n",
        "historySave(history_resnet18_1, dirname='Pre_Resnet18_3c', naming='11epoch')\n",
        "#temp = torch.save(resnet18_1.state_dict(), '/content/drive/MyDrive/Colab Notebooks/Final/KaggleCovid/tempSave/1')"
      ],
      "execution_count": null,
      "outputs": [
        {
          "output_type": "stream",
          "text": [
            "------------------------------------------\n",
            "epoch: 0     Train Accuracy: 0.7692650334075724 , Loss: 0.5568001700772179\n",
            "------------------------------------------\n",
            "epoch: 1     Train Accuracy: 0.8311804008908686 , Loss: 0.47848690797885257\n",
            "\n",
            "Val.. Accuracy: 0.8360655737704918 , Loss: 0.39687302495752064\n",
            "------------------------------------------\n",
            "epoch: 2     Train Accuracy: 0.8507795100222717 , Loss: 0.405543973048528\n",
            "------------------------------------------\n",
            "epoch: 3     Train Accuracy: 0.85456570155902 , Loss: 0.35721225705411697\n",
            "------------------------------------------\n",
            "epoch: 4     Train Accuracy: 0.8650334075723831 , Loss: 0.3450188587109248\n",
            "\n",
            "Val.. Accuracy: 0.8688524590163934 , Loss: 0.2888896422726767\n",
            "------------------------------------------\n",
            "epoch: 5     Train Accuracy: 0.8699331848552339 , Loss: 0.3318990075753795\n",
            "------------------------------------------\n",
            "epoch: 6     Train Accuracy: 0.8685968819599109 , Loss: 0.3273453741437859\n",
            "------------------------------------------\n",
            "epoch: 7     Train Accuracy: 0.8821826280623608 , Loss: 0.31356048294239575\n",
            "\n",
            "Val.. Accuracy: 0.9041614123581336 , Loss: 0.24743049485342844\n",
            "------------------------------------------\n",
            "epoch: 8     Train Accuracy: 0.878619153674833 , Loss: 0.30684855621722007\n",
            "------------------------------------------\n",
            "epoch: 9     Train Accuracy: 0.8884187082405345 , Loss: 0.2969181363781293\n",
            "------------------------------------------\n",
            "epoch: 10     Train Accuracy: 0.8899777282850779 , Loss: 0.2971316489080588\n",
            "\n",
            "Val.. Accuracy: 0.9104665825977302 , Loss: 0.2341544202395848\n",
            "History created successfully\n"
          ],
          "name": "stdout"
        }
      ]
    },
    {
      "cell_type": "code",
      "metadata": {
        "id": "SCg5XUsK-W__"
      },
      "source": [
        "history_resnet18_1_test=blg_test_model(model=resnet18_1, criteria=cri_resnet18, test_loader=test_loader)\n",
        "#plot_tra_val(history_resnet18_1, title=\"resnet18_1, lr=0.001, m=0.9, wd=0.0001\")\n",
        "historySave(history_resnet18_1_test, dirname='Pre_Resnet18_3c', naming='11epoch_test')\n"
      ],
      "execution_count": null,
      "outputs": []
    },
    {
      "cell_type": "code",
      "metadata": {
        "colab": {
          "base_uri": "https://localhost:8080/"
        },
        "id": "JAvemUS8NSit",
        "outputId": "1e52a65f-a51f-4ae6-8d10-d4349b8477b9"
      },
      "source": [
        "history_resnet18_1_test2=blg_test_model(model=resnet18_1, criteria=cri_resnet18, test_loader=test2_loader)\n",
        "#plot_tra_val(history_resnet18_1, title=\"resnet18_1, lr=0.001, m=0.9, wd=0.0001\")\n",
        "historySave(history_resnet18_1_test2, dirname='Pre_Resnet18_3c', naming='11epoch_test2')\n"
      ],
      "execution_count": null,
      "outputs": [
        {
          "output_type": "stream",
          "text": [
            "Test Accuracy: 0.37857142857142856  Test Loss: 2.9112550814946494\n",
            "Directory name: Pre_Resnet18_3c exist.\n",
            "History created successfully\n"
          ],
          "name": "stdout"
        }
      ]
    },
    {
      "cell_type": "code",
      "metadata": {
        "colab": {
          "base_uri": "https://localhost:8080/"
        },
        "id": "U4CKDJ8eOIPv",
        "outputId": "cbf39a6a-6caf-4e44-97e3-5c56f2061fb6"
      },
      "source": [
        "_=plot_confusionMatrix(history_resnet18_1_test[-1])"
      ],
      "execution_count": null,
      "outputs": [
        {
          "output_type": "stream",
          "text": [
            "Ground Truth & Prediction Confusion Matrix\n",
            "[[ 65 169   0]\n",
            " [ 12 378   0]\n",
            " [  1   2   0]]\n",
            "\n",
            "-- Rows: Ground Truths, \n",
            " | Columns: Predictions\n",
            "\n",
            "Ground Truth test distribution\n",
            " 0: Normal --> 234 \n",
            " 1: Virus&Bacteria --> 390 \n",
            " 2: Covid19 --> 3\n"
          ],
          "name": "stdout"
        }
      ]
    },
    {
      "cell_type": "code",
      "metadata": {
        "colab": {
          "base_uri": "https://localhost:8080/"
        },
        "id": "MhphaMWxOUL4",
        "outputId": "08c05293-203c-49f6-8ac6-fcefc074c6bf"
      },
      "source": [
        "_=plot_confusionMatrix(history_resnet18_1_test2[-1])"
      ],
      "execution_count": null,
      "outputs": [
        {
          "output_type": "stream",
          "text": [
            "Ground Truth & Prediction Confusion Matrix\n",
            "[[106  34   0]\n",
            " [  0   0   0]\n",
            " [ 26 114   0]]\n",
            "\n",
            "-- Rows: Ground Truths, \n",
            " | Columns: Predictions\n",
            "\n",
            "Ground Truth test distribution\n",
            " 0: Normal --> 140 \n",
            " 1: Virus&Bacteria --> 0 \n",
            " 2: Covid19 --> 140\n"
          ],
          "name": "stdout"
        }
      ]
    },
    {
      "cell_type": "markdown",
      "metadata": {
        "id": "Z6ayBBHUcnJo"
      },
      "source": [
        "# Run Model: Modified Resnet18 \n",
        "> **Restnet18** \n",
        ">>FC (512, 128) >> resnet output << \n",
        ">>>Dropout (0.5) \n",
        ">>>> FC (128,3)\n",
        ">>>>> CrossEntropyLoss (log_softmax+nllloss)"
      ]
    },
    {
      "cell_type": "code",
      "metadata": {
        "id": "0DAwKGFxRzty"
      },
      "source": [
        "class Mod1(nn.Module):\n",
        "      def __init__(self):\n",
        "          super(Mod1, self).__init__()\n",
        "\n",
        "          self.fc1 = nn.Linear(512, 128)\n",
        "          self.dp1 = nn.Dropout(0.3)\n",
        "          self.relu1 = nn.ReLU(inplace=True)\n",
        "          self.fc2 = nn.Linear(128, 3)\n",
        "      \n",
        "      def forward(self, x):\n",
        "          x = self.dp1(self.fc1(x))\n",
        "          x = self.relu1(x)\n",
        "          x = self.fc2(x)\n",
        "          return x"
      ],
      "execution_count": null,
      "outputs": []
    },
    {
      "cell_type": "code",
      "metadata": {
        "id": "BvEblLW9c9aj"
      },
      "source": [
        "def ModResnet18():\n",
        "  \n",
        "  model1 = models.resnet18(pretrained=True)\n",
        "\n",
        "  for parameter in model1.parameters():\n",
        "    parameter.requires_grad = False\n",
        "\n",
        "  model1.fc = Mod1()\n",
        "  _ = model1.cuda()\n",
        "  \n",
        "  return model1"
      ],
      "execution_count": null,
      "outputs": []
    },
    {
      "cell_type": "code",
      "metadata": {
        "colab": {
          "base_uri": "https://localhost:8080/",
          "height": 642,
          "referenced_widgets": [
            "3a718389a85545f89a7b8dbd98cf954a",
            "1a4a67d77b47481c9e7650b7278e5d87",
            "2036b15339cd4389b23922df4286d792",
            "11aacb08eb1e4293a49e778e655ea229",
            "d02362bc8c7e4364b779fd54425a78f6",
            "97ecc0a9aa3341ff86ceae03b9a54af4",
            "cbd0462b7de74014ba81d52d1fcc1219",
            "853eb76e4ef04395a9d40efca47d796c"
          ]
        },
        "id": "EsPUZb0sO1xN",
        "outputId": "6bbb8739-ec91-4f6f-b4db-78b049e4f766"
      },
      "source": [
        "resnet18mod = ModResnet18()\n",
        "opt_resnet18mod  = optim.SGD(params=resnet18mod.parameters(), lr=0.001, momentum=0.95, weight_decay=0.0002)\n",
        "cri_resnet18mod = nn.CrossEntropyLoss()\n",
        "\n",
        "history_resnet18_mod = blg_train_model(model=resnet18mod, n_epochs=11, optimizer=opt_resnet18mod, criteria=cri_resnet18mod)\n",
        "historySave(history_resnet18_mod, dirname='Pre_Resnet18_Mod_3c', naming='11epoch')\n",
        "#temp = torch.save(resnet18_1.state_dict(), '/content/drive/MyDrive/Colab Notebooks/Final/KaggleCovid/tempSave/1')"
      ],
      "execution_count": null,
      "outputs": [
        {
          "output_type": "stream",
          "text": [
            "Downloading: \"https://download.pytorch.org/models/resnet18-5c106cde.pth\" to /root/.cache/torch/hub/checkpoints/resnet18-5c106cde.pth\n"
          ],
          "name": "stderr"
        },
        {
          "output_type": "display_data",
          "data": {
            "application/vnd.jupyter.widget-view+json": {
              "model_id": "3a718389a85545f89a7b8dbd98cf954a",
              "version_major": 2,
              "version_minor": 0
            },
            "text/plain": [
              "HBox(children=(FloatProgress(value=0.0, max=46827520.0), HTML(value='')))"
            ]
          },
          "metadata": {
            "tags": []
          }
        },
        {
          "output_type": "stream",
          "text": [
            "\n",
            "------------------------------------------\n",
            "epoch: 0     Train Accuracy: 0.709576837416481 , Loss: 0.7041955871714486\n",
            "------------------------------------------\n",
            "epoch: 1     Train Accuracy: 0.8251670378619154 , Loss: 0.4495995425515705\n",
            "\n",
            "Val.. Accuracy: 0.9066834804539723 , Loss: 0.29725841113499235\n",
            "------------------------------------------\n",
            "epoch: 2     Train Accuracy: 0.9011135857461025 , Loss: 0.29750410053465104\n",
            "------------------------------------------\n",
            "epoch: 3     Train Accuracy: 0.9171492204899777 , Loss: 0.2499296379586061\n",
            "------------------------------------------\n",
            "epoch: 4     Train Accuracy: 0.9182628062360801 , Loss: 0.23382434993982315\n",
            "\n",
            "Val.. Accuracy: 0.9432534678436317 , Loss: 0.17731453265462602\n",
            "------------------------------------------\n",
            "epoch: 5     Train Accuracy: 0.9249443207126948 , Loss: 0.2129644485604432\n",
            "------------------------------------------\n",
            "epoch: 6     Train Accuracy: 0.9280623608017817 , Loss: 0.20284991463025412\n",
            "------------------------------------------\n",
            "epoch: 7     Train Accuracy: 0.9305122494432071 , Loss: 0.19836955703794956\n",
            "\n",
            "Val.. Accuracy: 0.9482976040353089 , Loss: 0.1519897420491491\n",
            "------------------------------------------\n",
            "epoch: 8     Train Accuracy: 0.9345211581291759 , Loss: 0.18827285452021492\n",
            "------------------------------------------\n",
            "epoch: 9     Train Accuracy: 0.9327394209354121 , Loss: 0.19270090117222732\n",
            "------------------------------------------\n",
            "epoch: 10     Train Accuracy: 0.9351893095768374 , Loss: 0.19102568903730976\n",
            "\n",
            "Val.. Accuracy: 0.9508196721311475 , Loss: 0.13960036262869835\n",
            "History created successfully\n"
          ],
          "name": "stdout"
        }
      ]
    },
    {
      "cell_type": "code",
      "metadata": {
        "id": "-h-HvdJSPsWw"
      },
      "source": [
        "history_resnet18_mod_test=blg_test_model(model=resnet18mod, criteria=cri_resnet18mod, test_loader=test_loader)\n",
        "historySave(history_resnet18_mod_test, dirname='Pre_Resnet18_Mod_3c', naming='11epoch_test')"
      ],
      "execution_count": null,
      "outputs": []
    },
    {
      "cell_type": "code",
      "metadata": {
        "id": "HvI5FPe1WdWK"
      },
      "source": [
        "_=plot_confusionMatrix(history_resnet18_mod_test[-1])"
      ],
      "execution_count": null,
      "outputs": []
    },
    {
      "cell_type": "code",
      "metadata": {
        "id": "UPQ2HnlkW-VH"
      },
      "source": [
        "history_resnet18_mod_test2=blg_test_model(model=resnet18mod, criteria=cri_resnet18mod, test_loader=test2_loader)\n",
        "historySave(history_resnet18_mod_test2, dirname='Pre_Resnet18_Mod_3c', naming='11epoch_test2')"
      ],
      "execution_count": null,
      "outputs": []
    },
    {
      "cell_type": "markdown",
      "metadata": {
        "id": "wHXHi7SQzpvP"
      },
      "source": [
        "# Modified Resnet 50 \n",
        "## Test Later"
      ]
    },
    {
      "cell_type": "code",
      "metadata": {
        "id": "F0E_fzS6zw54"
      },
      "source": [
        "class Mod2(nn.Module):\n",
        "      def __init__(self):\n",
        "          super(Mod2, self).__init__()\n",
        "\n",
        "          self.fc1 = nn.Linear(512, 128)\n",
        "          self.dp1 = nn.Dropout(0.3)\n",
        "          self.relu1 = nn.ReLU(inplace=True)\n",
        "          self.fc2 = nn.Linear(128, 3)\n",
        "      \n",
        "      def forward(self, x):\n",
        "          x = self.dp1(self.fc1(x))\n",
        "          x = self.relu1(x)\n",
        "          x = self.fc2(x)\n",
        "          return x"
      ],
      "execution_count": null,
      "outputs": []
    },
    {
      "cell_type": "code",
      "metadata": {
        "id": "VsjTN9Fyz2wo"
      },
      "source": [
        "def ModResnet50():\n",
        "  \n",
        "  model1 = models.resnet18(pretrained=True)\n",
        "\n",
        "  for parameter in model1.parameters():\n",
        "    parameter.requires_grad = False\n",
        "\n",
        "  model1.fc = Mod2()\n",
        "  _ = model1.cuda()\n",
        "  \n",
        "  return model1"
      ],
      "execution_count": null,
      "outputs": []
    },
    {
      "cell_type": "code",
      "metadata": {
        "id": "LB3va0f70EyB"
      },
      "source": [
        "resnet50mod = ModResnet50()\n",
        "opt_resnet50mod  = optim.SGD(params=resnet50mod.parameters(), lr=0.001, momentum=0.95, weight_decay=0.0002)\n",
        "cri_resnet50mod = nn.CrossEntropyLoss()\n",
        "\n",
        "history_resnet50_mod = blg_train_model(model=resnet50mod, n_epochs=11, optimizer=opt_resnet50mod, criteria=cri_resnet50mod)\n",
        "#historySave(history_resnet50_mod, dirname='Pre_Resnet50_Mod_3c', naming='11epoch')\n",
        "#temp = torch.save(resnet18_1.state_dict(), '/content/drive/MyDrive/Colab Notebooks/Final/KaggleCovid/tempSave/1')"
      ],
      "execution_count": null,
      "outputs": []
    },
    {
      "cell_type": "markdown",
      "metadata": {
        "id": "ZUiUBvE_Ovne"
      },
      "source": [
        "# Save and Load model function definitions\n",
        "***(Save and Load model currently has bug)***"
      ]
    },
    {
      "cell_type": "code",
      "metadata": {
        "id": "L0luna0tFvAS"
      },
      "source": [
        "def msave(model, naming:str):\n",
        "  path_dir = '/content/drive/MyDrive/Colab Notebooks/Final/KaggleCovid/tempSave/'\n",
        "  p = path_dir + naming\n",
        "  torch.save(model.state_dict(), p)\n",
        "\n",
        "  # check if file exist\n",
        "  if os.path.exists(p):\n",
        "    return print(\"Model.state.dict() succesfully saved as\", naming, \".\")\n",
        "  else:\n",
        "    return print(\"Model could not be saved.\")\n",
        "\n",
        "def mload(model_obj, naming:str):\n",
        "  path_dir = '/content/drive/MyDrive/Colab Notebooks/Final/KaggleCovid/tempSave/'\n",
        "  p = path_dir + naming\n",
        "    \n",
        "  # check if file exist\n",
        "  if os.path.exists(p):\n",
        "    model_obj.load_state_dict(torch.load(p))\n",
        "    return print(\"Model.state.dict() succesfully loaded as\", naming, \".\")\n",
        "  else:\n",
        "    return print(\"Model could not be found.\")\n",
        "\n"
      ],
      "execution_count": null,
      "outputs": []
    },
    {
      "cell_type": "code",
      "metadata": {
        "colab": {
          "base_uri": "https://localhost:8080/"
        },
        "id": "kNcXAqz4zkqt",
        "outputId": "b3690db0-5aec-4c7d-ac89-46652429dc5b"
      },
      "source": [
        "model1.load_state_dict(torch.load('/content/drive/MyDrive/Colab Notebooks/Final/KaggleCovid/tempSave/model2'))"
      ],
      "execution_count": null,
      "outputs": [
        {
          "output_type": "execute_result",
          "data": {
            "text/plain": [
              "<All keys matched successfully>"
            ]
          },
          "metadata": {
            "tags": []
          },
          "execution_count": 51
        }
      ]
    },
    {
      "cell_type": "code",
      "metadata": {
        "colab": {
          "base_uri": "https://localhost:8080/",
          "height": 121,
          "referenced_widgets": [
            "f72caa554f9447a58acfd3a70cb7fd60",
            "17406cb5d9b3437a89ac3a9dc52e0f28",
            "a8a40d8b15814aeba937fd01060d2e80",
            "4f45579b6b8c439cb632d1472faf449c",
            "0b1e2aa6719b4ede98709d6058fae96f",
            "63a4c4d651d74f69a41febd3d84b2271",
            "3541f054429c47b796de6f31f4a3b1ba",
            "5c0c98da50824dfcb6b4bdebe7616723"
          ]
        },
        "id": "M7-n1Eu9ID_i",
        "outputId": "b2894a8c-0d24-4061-b97d-d2a8122c9f82"
      },
      "source": [
        "model1 = ModResnet18()\n",
        "# load saved model to model1 object\n",
        "mload(model1, 'model2')"
      ],
      "execution_count": null,
      "outputs": [
        {
          "output_type": "stream",
          "text": [
            "Downloading: \"https://download.pytorch.org/models/resnet18-5c106cde.pth\" to /root/.cache/torch/hub/checkpoints/resnet18-5c106cde.pth\n"
          ],
          "name": "stderr"
        },
        {
          "output_type": "display_data",
          "data": {
            "application/vnd.jupyter.widget-view+json": {
              "model_id": "f72caa554f9447a58acfd3a70cb7fd60",
              "version_major": 2,
              "version_minor": 0
            },
            "text/plain": [
              "HBox(children=(FloatProgress(value=0.0, max=46827520.0), HTML(value='')))"
            ]
          },
          "metadata": {
            "tags": []
          }
        },
        {
          "output_type": "stream",
          "text": [
            "\n",
            "Model.state.dict() succesfully loaded as model2 .\n"
          ],
          "name": "stdout"
        }
      ]
    },
    {
      "cell_type": "code",
      "metadata": {
        "colab": {
          "base_uri": "https://localhost:8080/"
        },
        "id": "YStTDjr922Jl",
        "outputId": "4e5644b6-a88f-41ca-bd7e-cfb1b993d6ca"
      },
      "source": [
        "model1.load_state_dict(torch.load('/content/drive/MyDrive/Colab Notebooks/Final/KaggleCovid/tempSave/modelWholeDataset9epoch'))\n",
        "#10 epoch %93 acc, full dataset, lr=0.001, m=0.95, wd=0.0002"
      ],
      "execution_count": null,
      "outputs": [
        {
          "output_type": "execute_result",
          "data": {
            "text/plain": [
              "<All keys matched successfully>"
            ]
          },
          "metadata": {
            "tags": []
          },
          "execution_count": 49
        }
      ]
    },
    {
      "cell_type": "code",
      "metadata": {
        "id": "T_gweEBHdJZ8"
      },
      "source": [
        "# 10 epoch 0.001 savemodel, 10 0.003 # save model, #update dataframe random 200, lr=0.003 10 epoch,\n",
        "# momentum 0.90, lr 0.005 10 epoch, new random traindata 0.01lr 10 epoch test =80,86, lr0.001 mu=09 10 epoc test=0.82\n",
        "\n",
        "opt_model1 = optim.SGD(params=model1.parameters(), lr=0.001, momentum=0.95, weight_decay=0.0002)\n",
        "cri_model1 = nn.CrossEntropyLoss()\n",
        "\n",
        "#history_model1 = blg_train_model(model=model1, n_epochs=10, optimizer=opt_model1, criteria=cri_model1)\n"
      ],
      "execution_count": null,
      "outputs": []
    },
    {
      "cell_type": "code",
      "metadata": {
        "colab": {
          "base_uri": "https://localhost:8080/"
        },
        "id": "2CaUnhVV6ucr",
        "outputId": "73ad8ccd-7747-4712-c9c3-5d423dce3fab"
      },
      "source": [
        "model1.load_state_dict(torch.load('/content/drive/MyDrive/Colab Notebooks/Final/KaggleCovid/tempSave/model2'))\n",
        "acc, out, wplavgmax1_model2 = blg_test_model(model=model1, criteria=cri_model1, test_loader=test_loader)"
      ],
      "execution_count": null,
      "outputs": [
        {
          "output_type": "stream",
          "text": [
            "Test Accuracy: 0.8325358851674641  Test Loss: 0.48769268691539763\n"
          ],
          "name": "stdout"
        }
      ]
    },
    {
      "cell_type": "code",
      "metadata": {
        "colab": {
          "base_uri": "https://localhost:8080/"
        },
        "id": "-YXhISYCimWH",
        "outputId": "b45fe611-f35c-40f5-89fa-f52bb6d7ca31"
      },
      "source": [
        "# dataset\n",
        "# https://www.kaggle.com/tarandeep97/covid19-normal-posteroanteriorpa-xrays\n",
        "acc, out, wplavgmax2 = blg_test_model(model=model1, criteria=cri_model1, test_loader=test2_loader)"
      ],
      "execution_count": null,
      "outputs": [
        {
          "output_type": "stream",
          "text": [
            "Test Accuracy: 0.9142857142857143  Test Loss: 0.3407146980365117\n"
          ],
          "name": "stdout"
        }
      ]
    },
    {
      "cell_type": "code",
      "metadata": {
        "colab": {
          "base_uri": "https://localhost:8080/"
        },
        "id": "laKImBGmEEST",
        "outputId": "24d0cb66-3398-4994-e8c5-dcec83f8dfd2"
      },
      "source": [
        "# dataset PIL IMAGE, Torch gray, RGB conversion differs. \n",
        "# https://www.kaggle.com/nabeelsajid917/covid-19-x-ray-10000-images?select=dataset\n",
        "acc, out, wplavgmax3 = blg_test_model(model=model1, criteria=cri_model1, test_loader=test3_loader)"
      ],
      "execution_count": null,
      "outputs": [
        {
          "output_type": "stream",
          "text": [
            "Test Accuracy: 0.8877551020408163  Test Loss: 0.3003482222557068\n"
          ],
          "name": "stdout"
        }
      ]
    },
    {
      "cell_type": "markdown",
      "metadata": {
        "id": "JHyOPL8fjTvP"
      },
      "source": [
        "## Load Result Model, 91.42%"
      ]
    },
    {
      "cell_type": "code",
      "metadata": {
        "id": "h3TwS4oOehOA"
      },
      "source": [
        "del model_main\n",
        "model_main = ModResnet18()"
      ],
      "execution_count": null,
      "outputs": []
    },
    {
      "cell_type": "code",
      "metadata": {
        "colab": {
          "base_uri": "https://localhost:8080/"
        },
        "id": "QfTVw2N6euwH",
        "outputId": "349b7d9b-b078-41d0-bd02-6be2ebd1aa6f"
      },
      "source": [
        "model_main.load_state_dict(torch.load('/content/drive/MyDrive/Colab Notebooks/Final/KaggleCovid/tempSave/model2.zip'))"
      ],
      "execution_count": null,
      "outputs": [
        {
          "output_type": "execute_result",
          "data": {
            "text/plain": [
              "<All keys matched successfully>"
            ]
          },
          "metadata": {
            "tags": []
          },
          "execution_count": 322
        }
      ]
    },
    {
      "cell_type": "code",
      "metadata": {
        "colab": {
          "base_uri": "https://localhost:8080/"
        },
        "id": "8_HNfhuhssJ_",
        "outputId": "4169b9d6-f302-44f4-e475-1598b8cbdc0a"
      },
      "source": [
        "history_resnet18_mod_test_main=blg_test_model(model=model_main, criteria=nn.CrossEntropyLoss(), test_loader=train_loader)\n"
      ],
      "execution_count": null,
      "outputs": [
        {
          "output_type": "stream",
          "text": [
            "Test Accuracy: 0.9  Test Loss: 0.31989212334156036\n"
          ],
          "name": "stdout"
        }
      ]
    },
    {
      "cell_type": "code",
      "metadata": {
        "colab": {
          "base_uri": "https://localhost:8080/"
        },
        "id": "4YKU8TuezvE4",
        "outputId": "a248685e-1c2e-4fcc-c254-1b871a10f4ed"
      },
      "source": [
        "history_resnet18_mod_test_main=blg_test_model(model=model_main, criteria=nn.CrossEntropyLoss(), test_loader=val_loader)\n"
      ],
      "execution_count": null,
      "outputs": [
        {
          "output_type": "stream",
          "text": [
            "Test Accuracy: 0.9104665825977302  Test Loss: 0.2832638600042888\n"
          ],
          "name": "stdout"
        }
      ]
    },
    {
      "cell_type": "code",
      "metadata": {
        "colab": {
          "base_uri": "https://localhost:8080/"
        },
        "id": "38Fq-vRg0L1y",
        "outputId": "2fc7fb6c-b1c0-4e99-f215-39f5788742aa"
      },
      "source": [
        "history_resnet18_mod_test_main=blg_test_model(model=model_main, criteria=nn.CrossEntropyLoss(), test_loader=test2_loader)"
      ],
      "execution_count": null,
      "outputs": [
        {
          "output_type": "stream",
          "text": [
            "torch.Size([128])\n",
            "torch.Size([128])\n",
            "torch.Size([24])\n",
            "Test Accuracy: 0.9142857142857143  Test Loss: 0.3407146980365117\n"
          ],
          "name": "stdout"
        }
      ]
    },
    {
      "cell_type": "code",
      "metadata": {
        "colab": {
          "base_uri": "https://localhost:8080/"
        },
        "id": "BLAeVu5Be0qE",
        "outputId": "989111b9-b341-4d6b-f427-964b97865500"
      },
      "source": [
        "history_resnet18_mod_test_main=blg_test_model(model=model_main, criteria=nn.CrossEntropyLoss(), test_loader=test_loader)\n",
        "historySave(history_resnet18_mod_test_main, dirname='Pre_Resnet18_Mod_3c_Main', naming='11epoch_test')"
      ],
      "execution_count": null,
      "outputs": [
        {
          "output_type": "stream",
          "text": [
            "/usr/local/lib/python3.6/dist-packages/ipykernel_launcher.py:36: UserWarning: This overload of nonzero is deprecated:\n",
            "\tnonzero()\n",
            "Consider using one of the following signatures instead:\n",
            "\tnonzero(*, bool as_tuple) (Triggered internally at  /pytorch/torch/csrc/utils/python_arg_parser.cpp:882.)\n"
          ],
          "name": "stderr"
        },
        {
          "output_type": "stream",
          "text": [
            "Test Accuracy: 0.8325358851674641  Test Loss: 0.48769268691539763\n",
            "History created successfully\n"
          ],
          "name": "stdout"
        }
      ]
    },
    {
      "cell_type": "code",
      "metadata": {
        "colab": {
          "base_uri": "https://localhost:8080/"
        },
        "id": "k2oOmlttf0ml",
        "outputId": "f2087a2e-0a9b-465f-ad01-d145182ecc90"
      },
      "source": [
        "history_resnet18_mod_test2_main=blg_test_model(model=model_main, criteria=nn.CrossEntropyLoss(), test_loader=test2_loader)\n",
        "historySave(history_resnet18_mod_test2_main, dirname='Pre_Resnet18_Mod_3c_Main', naming='11epoch_test2')"
      ],
      "execution_count": null,
      "outputs": [
        {
          "output_type": "stream",
          "text": [
            "Test Accuracy: 0.9142857142857143  Test Loss: 0.3407146980365117\n",
            "Directory name: Pre_Resnet18_Mod_3c_Main exist.\n",
            "History created successfully\n"
          ],
          "name": "stdout"
        }
      ]
    },
    {
      "cell_type": "markdown",
      "metadata": {
        "id": "zb9O_pmyjU7O"
      },
      "source": [
        "# For Documentation"
      ]
    },
    {
      "cell_type": "markdown",
      "metadata": {
        "id": "vERP-ORPjZKc"
      },
      "source": [
        "## Resnet 7c\n",
        "\n"
      ]
    },
    {
      "cell_type": "code",
      "metadata": {
        "colab": {
          "base_uri": "https://localhost:8080/"
        },
        "id": "vnh8tk83jr44",
        "outputId": "fddee383-cea6-4adf-a130-981b21d029ea"
      },
      "source": [
        "r50_7c_tra =historyLoad(dirname='Pre_Resnet50_7c', naming=\"11epoch\")\n",
        "r50_7c_t =historyLoad(dirname='Pre_Resnet50_7c', naming=\"11epoch_test\")\n",
        "r50_7c_t2 =historyLoad(dirname='Pre_Resnet50_7c', naming=\"11epoch_test2\")\n",
        "\n",
        "r18_7c_tra =historyLoad(dirname='Pre_Resnet18_7c', naming=\"11epoch\")\n",
        "r18_7c_t =historyLoad(dirname='Pre_Resnet18_7c', naming=\"11epoch_test\")\n",
        "r18_7c_t2 =historyLoad(dirname='Pre_Resnet18_7c', naming=\"11epoch_test2\")\n",
        "\n",
        "r18_mod_7c_tra =historyLoad(dirname='Pre_Resnet18_Mod_7c', naming=\"11epoch\")\n",
        "r18_mod_7c_t =historyLoad(dirname='Pre_Resnet18_Mod_7c', naming=\"11epoch_test\")\n",
        "r18_mod_7c_t2 =historyLoad(dirname='Pre_Resnet18_Mod_7c', naming=\"11epoch_test2\")\n",
        "\n"
      ],
      "execution_count": null,
      "outputs": [
        {
          "output_type": "stream",
          "text": [
            "History must be loaded\n",
            "History must be loaded\n",
            "History must be loaded\n",
            "History must be loaded\n",
            "History must be loaded\n",
            "History must be loaded\n",
            "History must be loaded\n",
            "History must be loaded\n",
            "History must be loaded\n"
          ],
          "name": "stdout"
        }
      ]
    },
    {
      "cell_type": "markdown",
      "metadata": {
        "id": "hE3fmNdLjZH5"
      },
      "source": [
        "## Resnet 3c\n"
      ]
    },
    {
      "cell_type": "code",
      "metadata": {
        "colab": {
          "base_uri": "https://localhost:8080/"
        },
        "id": "leGfxbd4kzUL",
        "outputId": "e4523ace-1260-4ca9-f97c-f398ec56ac00"
      },
      "source": [
        "r50_3c_tra =historyLoad(dirname='Pre_Resnet50_3c', naming=\"11epoch\")\n",
        "r50_3c_t =historyLoad(dirname='Pre_Resnet50_3c', naming=\"11epoch_test\")\n",
        "r50_3c_t2 =historyLoad(dirname='Pre_Resnet50_3c', naming=\"11epoch_test2\")\n",
        "\n",
        "r18_3c_tra =historyLoad(dirname='Pre_Resnet18_3c', naming=\"11epoch\")\n",
        "r18_3c_t =historyLoad(dirname='Pre_Resnet18_3c', naming=\"11epoch_test\")\n",
        "r18_3c_t2 =historyLoad(dirname='Pre_Resnet18_3c', naming=\"11epoch_test2\")\n",
        "\n",
        "r18_mod_3c_tra =historyLoad(dirname='Pre_Resnet18_Mod_3c', naming=\"11epoch\")\n",
        "r18_mod_3c_t =historyLoad(dirname='Pre_Resnet18_Mod_3c', naming=\"11epoch_test\")\n",
        "r18_mod_3c_t2 =historyLoad(dirname='Pre_Resnet18_Mod_3c', naming=\"11epoch_test2\")"
      ],
      "execution_count": null,
      "outputs": [
        {
          "output_type": "stream",
          "text": [
            "History must be loaded\n",
            "History must be loaded\n",
            "History must be loaded\n",
            "History must be loaded\n",
            "History must be loaded\n",
            "History must be loaded\n",
            "History must be loaded\n",
            "History must be loaded\n",
            "History must be loaded\n"
          ],
          "name": "stdout"
        }
      ]
    },
    {
      "cell_type": "markdown",
      "metadata": {
        "id": "icsHpjuSjZFJ"
      },
      "source": [
        "## Resnet 3c: Result Model 91.42%."
      ]
    },
    {
      "cell_type": "code",
      "metadata": {
        "colab": {
          "base_uri": "https://localhost:8080/"
        },
        "id": "RlU1z4cdlGys",
        "outputId": "24bc2611-89a5-4218-a5d1-fe140caaade1"
      },
      "source": [
        "r18_mod_3c_main_t =historyLoad(dirname='Pre_Resnet18_Mod_3c_Main', naming=\"11epoch_test\")\n",
        "r18_mod_3c_main_t2 =historyLoad(dirname='Pre_Resnet18_Mod_3c_Main', naming=\"11epoch_test2\")"
      ],
      "execution_count": null,
      "outputs": [
        {
          "output_type": "stream",
          "text": [
            "History must be loaded\n",
            "History must be loaded\n"
          ],
          "name": "stdout"
        }
      ]
    },
    {
      "cell_type": "markdown",
      "metadata": {
        "id": "UHmt8icGsAqZ"
      },
      "source": [
        "## Plots"
      ]
    },
    {
      "cell_type": "code",
      "metadata": {
        "id": "fK3qahnRsF4v"
      },
      "source": [
        "plot_path = '/content/drive/MyDrive/Colab Notebooks/Final/KaggleCovid/Plots'"
      ],
      "execution_count": null,
      "outputs": []
    },
    {
      "cell_type": "code",
      "metadata": {
        "colab": {
          "base_uri": "https://localhost:8080/",
          "height": 395
        },
        "id": "TgHf2xnHlbKz",
        "outputId": "7435f9a0-e01c-4f81-daee-b1a235191bee"
      },
      "source": [
        "r50and187class=comparePlot2(r50_7c_tra, r18_mod_3c_tra,\n",
        "                            'Pretrained\\nResnet50\\n7 Classes & 3 Classes',\n",
        "                            t1='7c', t2='3c')\n",
        "r50and187class.savefig(plot_path+\"/Resnet50_7class_and_3class\", bbox_inches='tight')"
      ],
      "execution_count": null,
      "outputs": [
        {
          "output_type": "display_data",
          "data": {
            "image/png": "[encoded data removed]",
            "text/plain": [
              "<Figure size 864x360 with 2 Axes>"
            ]
          },
          "metadata": {
            "tags": [],
            "needs_background": "light"
          }
        }
      ]
    },
    {
      "cell_type": "code",
      "metadata": {
        "colab": {
          "base_uri": "https://localhost:8080/"
        },
        "id": "jmi6enDW1VgW",
        "outputId": "6a019c27-3fd4-40dd-8564-8052f3fe9377"
      },
      "source": [
        "len(test3_dataset)"
      ],
      "execution_count": null,
      "outputs": [
        {
          "output_type": "execute_result",
          "data": {
            "text/plain": [
              "98"
            ]
          },
          "metadata": {
            "tags": []
          },
          "execution_count": 136
        }
      ]
    },
    {
      "cell_type": "code",
      "metadata": {
        "colab": {
          "base_uri": "https://localhost:8080/"
        },
        "id": "BoLfuybol6sb",
        "outputId": "6e087131-6f12-4087-80df-faf3186c186b"
      },
      "source": [
        "print(\"Resnet50 3c Test 2 Confusion:\\n\")\n",
        "_ = plot_confusionMatrix(r50_3c_t2[-1])"
      ],
      "execution_count": null,
      "outputs": [
        {
          "output_type": "stream",
          "text": [
            "Resnet50 3c Test 2 Confusion:\n",
            "\n",
            "Ground Truth & Prediction Confusion Matrix\n",
            "[[ 87  53   0]\n",
            " [  0   0   0]\n",
            " [  1 139   0]]\n",
            "\n",
            "-- Rows: Ground Truths, \n",
            " | Columns: Predictions\n",
            "\n",
            "Ground Truth test distribution\n",
            " 0: Normal --> 140 \n",
            " 1: Virus&Bacteria --> 0 \n",
            " 2: Covid19 --> 140\n"
          ],
          "name": "stdout"
        }
      ]
    },
    {
      "cell_type": "code",
      "metadata": {
        "colab": {
          "base_uri": "https://localhost:8080/"
        },
        "id": "8SFD6OUmsRlo",
        "outputId": "ac6daa89-83e8-4478-b218-53edb8cc6860"
      },
      "source": [
        "print(\"Pretrained Modified Resnet18, 7 Classes:\\n\")\n",
        "print(\"   Kaggle Coronahack Chest XRay, Test Dataset:\\n\", \"           Acc:\", r18_mod_7c_t[0],\",\", \"Loss:\", r18_mod_7c_t[1] )\n",
        "print(\"\")\n",
        "print(\"   Kaggle Covid19,Normal PA XRay, Test Dataset:\\n\", \"           Acc:\", r18_mod_7c_t2[0],\",\", \"Loss:\", r18_mod_7c_t2[1])\n",
        "\n",
        "print(\"\")\n",
        "print(\"\")\n",
        "\n",
        "print(\"Pretrained Modified Resnet18, 3 Classes:\\n\")\n",
        "print(\"   Kaggle Coronahack Chest XRay, Test Dataset:\\n\", \"           Acc:\", r18_mod_3c_t[0],\",\", \"Loss:\", r18_mod_3c_t[1] )\n",
        "print(\"\")\n",
        "print(\"   Kaggle Covid19,Normal PA XRay, Test Dataset:\\n\", \"           Acc:\", r18_mod_3c_t2[0],\",\", \"Loss:\", r18_mod_3c_t2[1])"
      ],
      "execution_count": null,
      "outputs": [
        {
          "output_type": "stream",
          "text": [
            "Pretrained Modified Resnet18, 7 Classes:\n",
            "\n",
            "   Kaggle Coronahack Chest XRay, Test Dataset:\n",
            "            Acc: 0.7129186602870813 , Loss: 0.8207760870456695\n",
            "\n",
            "   Kaggle Covid19,Normal PA XRay, Test Dataset:\n",
            "            Acc: 0.4785714285714286 , Loss: 2.174046198527018\n",
            "\n",
            "\n",
            "Pretrained Modified Resnet18, 3 Classes:\n",
            "\n",
            "   Kaggle Coronahack Chest XRay, Test Dataset:\n",
            "            Acc: 0.7990430622009569 , Loss: 0.622595877200365\n",
            "\n",
            "   Kaggle Covid19,Normal PA XRay, Test Dataset:\n",
            "            Acc: 0.4607142857142857 , Loss: 2.160974860191345\n"
          ],
          "name": "stdout"
        }
      ]
    },
    {
      "cell_type": "code",
      "metadata": {
        "colab": {
          "base_uri": "https://localhost:8080/"
        },
        "id": "tnp8K6KnBKkm",
        "outputId": "d9c2243a-5918-42f6-a442-3e55edaf82be"
      },
      "source": [
        "print(\"Pretrained Modified Resnet18, 7 Classes:\\n\")\n",
        "print(\"   Kaggle Coronahack Chest XRay, Test Dataset:\\n\", \"           Acc:\", r18_mod_7c_t[0],\",\", \"Loss:\", r18_mod_7c_t[1] )\n",
        "print(\"\")\n",
        "print(\"   Kaggle Covid19,Normal PA XRay, Test Dataset:\\n\", \"           Acc:\", r18_mod_7c_t2[0],\",\", \"Loss:\", r18_mod_7c_t2[1])\n"
      ],
      "execution_count": null,
      "outputs": [
        {
          "output_type": "stream",
          "text": [
            "Pretrained Modified Resnet18, 7 Classes:\n",
            "\n",
            "   Kaggle Coronahack Chest XRay, Test Dataset:\n",
            "            Acc: 0.7129186602870813 , Loss: 0.8207760870456695\n",
            "\n",
            "   Kaggle Covid19,Normal PA XRay, Test Dataset:\n",
            "            Acc: 0.4785714285714286 , Loss: 2.174046198527018\n"
          ],
          "name": "stdout"
        }
      ]
    },
    {
      "cell_type": "code",
      "metadata": {
        "colab": {
          "base_uri": "https://localhost:8080/"
        },
        "id": "SVIs8uK9JFt3",
        "outputId": "1fb4ba5d-f00b-4ff4-a6c6-107b57ab05fb"
      },
      "source": [
        "print(\"Result Model: Modified Resnet18  3c, Test Confusion:\\n\")\n",
        "_ = plot_confusionMatrix(r18_mod_3c_main_t[-1])\n"
      ],
      "execution_count": null,
      "outputs": [
        {
          "output_type": "stream",
          "text": [
            "Result Model: Modified Resnet18  3c, Test Confusion:\n",
            "\n",
            "Ground Truth & Prediction Confusion Matrix\n",
            "[[158  67   9]\n",
            " [ 26 361   3]\n",
            " [  0   0   3]]\n",
            "\n",
            "-- Rows: Ground Truths, \n",
            " | Columns: Predictions\n",
            "\n",
            "Ground Truth test distribution\n",
            " 0: Normal --> 234 \n",
            " 1: Virus&Bacteria --> 390 \n",
            " 2: Covid19 --> 3\n"
          ],
          "name": "stdout"
        }
      ]
    },
    {
      "cell_type": "code",
      "metadata": {
        "colab": {
          "base_uri": "https://localhost:8080/"
        },
        "id": "8QqBs4vYNikK",
        "outputId": "26a3244d-60c3-4539-bb0c-632aa92adfb3"
      },
      "source": [
        "print(\"Result Model: Modified Resnet18 3c Test 2 Confusion:\\n\")\n",
        "_ = plot_confusionMatrix(r18_mod_3c_main_t2[-1])\n"
      ],
      "execution_count": null,
      "outputs": [
        {
          "output_type": "stream",
          "text": [
            "Result Model: Modified Resnet18 3c Test 2 Confusion:\n",
            "\n",
            "Ground Truth & Prediction Confusion Matrix\n",
            "[[138   2   0]\n",
            " [  0   0   0]\n",
            " [  1  21 118]]\n",
            "\n",
            "-- Rows: Ground Truths, \n",
            " | Columns: Predictions\n",
            "\n",
            "Ground Truth test distribution\n",
            " 0: Normal --> 140 \n",
            " 1: Virus&Bacteria --> 0 \n",
            " 2: Covid19 --> 140\n"
          ],
          "name": "stdout"
        }
      ]
    },
    {
      "cell_type": "code",
      "metadata": {
        "colab": {
          "base_uri": "https://localhost:8080/"
        },
        "id": "GNEyUs0nOHnb",
        "outputId": "378a4cba-182b-4f7a-aa4c-249b624510ea"
      },
      "source": [
        "print(\"Result Model: Modified Resnet18, 3 Classes:\\n\")\n",
        "print(\"   Kaggle Coronahack Chest XRay, Test Dataset:\\n\", \"           Acc:\", r18_mod_3c_main_t[0],\",\", \"Loss:\", r18_mod_3c_main_t[1] )\n",
        "print(\"\")\n",
        "print(\"   Kaggle Covid19,Normal PA XRay, Test Dataset:\\n\", \"           Acc:\", r18_mod_3c_main_t2[0],\",\", \"Loss:\", r18_mod_3c_main_t2[1])\n"
      ],
      "execution_count": null,
      "outputs": [
        {
          "output_type": "stream",
          "text": [
            "Result Model: Modified Resnet18, 3 Classes:\n",
            "\n",
            "   Kaggle Coronahack Chest XRay, Test Dataset:\n",
            "            Acc: 0.8325358851674641 , Loss: 0.48769268691539763\n",
            "\n",
            "   Kaggle Covid19,Normal PA XRay, Test Dataset:\n",
            "            Acc: 0.9142857142857143 , Loss: 0.3407146980365117\n"
          ],
          "name": "stdout"
        }
      ]
    },
    {
      "cell_type": "code",
      "metadata": {
        "colab": {
          "base_uri": "https://localhost:8080/",
          "height": 502
        },
        "id": "TISCIF8MOjaS",
        "outputId": "7230caca-6092-42af-f48a-078fe75929ad"
      },
      "source": [
        "print(\"Result Model: Modified Resnet18 3c Test 2:\") \n",
        "print(\"Wrong Prediction Histogram\\n\")\n",
        "\n",
        "plot_wrongPred(r18_mod_3c_main_t2[-1])"
      ],
      "execution_count": null,
      "outputs": [
        {
          "output_type": "stream",
          "text": [
            "Result Model: Modified Resnet18 3c Test 2:\n",
            "Wrong Prediction Histogram\n",
            "\n",
            "[[ 0  2  0]\n",
            " [ 0  0  0]\n",
            " [ 1 21  0]]\n",
            "\n",
            "-- Rows: Ground Truths, \n",
            " | Columns: Only Wrong Predictions\n",
            "\n",
            "Total wrong predictions:  24\n"
          ],
          "name": "stdout"
        },
        {
          "output_type": "display_data",
          "data": {
            "image/png": "[encoded data removed]",
            "text/plain": [
              "<Figure size 432x288 with 1 Axes>"
            ]
          },
          "metadata": {
            "tags": [],
            "needs_background": "light"
          }
        }
      ]
    },
    {
      "cell_type": "code",
      "metadata": {
        "colab": {
          "base_uri": "https://localhost:8080/",
          "height": 502
        },
        "id": "O6Wqw1Lkaaws",
        "outputId": "c62a281a-5950-4921-edfb-65631f99e9b2"
      },
      "source": [
        "print(\"Result Model: Modified Resnet18 3c Test:\") \n",
        "print(\"Wrong Prediction Histogram\\n\")\n",
        "plot_wrongPred(r18_mod_3c_main_t[-1])"
      ],
      "execution_count": null,
      "outputs": [
        {
          "output_type": "stream",
          "text": [
            "Result Model: Modified Resnet18 3c Test:\n",
            "Wrong Prediction Histogram\n",
            "\n",
            "[[ 0 67  9]\n",
            " [26  0  3]\n",
            " [ 0  0  0]]\n",
            "\n",
            "-- Rows: Ground Truths, \n",
            " | Columns: Only Wrong Predictions\n",
            "\n",
            "Total wrong predictions:  105\n"
          ],
          "name": "stdout"
        },
        {
          "output_type": "display_data",
          "data": {
            "image/png": "[encoded data removed]",
            "text/plain": [
              "<Figure size 432x288 with 1 Axes>"
            ]
          },
          "metadata": {
            "tags": [],
            "needs_background": "light"
          }
        }
      ]
    },
    {
      "cell_type": "code",
      "metadata": {
        "colab": {
          "base_uri": "https://localhost:8080/",
          "height": 502
        },
        "id": "8NcIQ58DahSo",
        "outputId": "20fad9a1-48ba-453c-b396-a2eefecb9ece"
      },
      "source": [
        "print(\"Modified Resnet18 3c Test:\") \n",
        "print(\"Wrong Prediction Histogram\\n\")\n",
        "plot_wrongPred(r18_mod_3c_t[-1])"
      ],
      "execution_count": null,
      "outputs": [
        {
          "output_type": "stream",
          "text": [
            "Modified Resnet18 3c Test:\n",
            "Wrong Prediction Histogram\n",
            "\n",
            "[[  0 116   0]\n",
            " [  7   0   0]\n",
            " [  0   3   0]]\n",
            "\n",
            "-- Rows: Ground Truths, \n",
            " | Columns: Only Wrong Predictions\n",
            "\n",
            "Total wrong predictions:  126\n"
          ],
          "name": "stdout"
        },
        {
          "output_type": "display_data",
          "data": {
            "image/png": "[encoded data removed]",
            "text/plain": [
              "<Figure size 432x288 with 1 Axes>"
            ]
          },
          "metadata": {
            "tags": [],
            "needs_background": "light"
          }
        }
      ]
    },
    {
      "cell_type": "code",
      "metadata": {
        "colab": {
          "base_uri": "https://localhost:8080/",
          "height": 502
        },
        "id": "qyFF4h6Paluw",
        "outputId": "a93d9c30-3ef4-4fb4-d534-47745155f32d"
      },
      "source": [
        "print(\"Modified Resnet18 3c Test 2:\") \n",
        "print(\"Wrong Prediction Histogram\\n\")\n",
        "plot_wrongPred(r18_mod_3c_t2[-1])"
      ],
      "execution_count": null,
      "outputs": [
        {
          "output_type": "stream",
          "text": [
            "Modified Resnet18 3c Test 2:\n",
            "Wrong Prediction Histogram\n",
            "\n",
            "[[  0  11   0]\n",
            " [  0   0   0]\n",
            " [  2 138   0]]\n",
            "\n",
            "-- Rows: Ground Truths, \n",
            " | Columns: Only Wrong Predictions\n",
            "\n",
            "Total wrong predictions:  151\n"
          ],
          "name": "stdout"
        },
        {
          "output_type": "display_data",
          "data": {
            "image/png": "[encoded data removed]",
            "text/plain": [
              "<Figure size 432x288 with 1 Axes>"
            ]
          },
          "metadata": {
            "tags": [],
            "needs_background": "light"
          }
        }
      ]
    },
    {
      "cell_type": "code",
      "metadata": {
        "colab": {
          "base_uri": "https://localhost:8080/"
        },
        "id": "FvL0QvFzm_eG",
        "outputId": "197ab104-3c54-4a6f-9fd6-69a6deaf1467"
      },
      "source": [
        "r50_7c_tra =historyLoad(dirname='Pre_Resnet50_7c', naming=\"11epoch\")\n",
        "r50_7c_tra\n",
        "# print last two training accuracy percentage\n",
        "print(\"50 7c:\",r50_7c_tra['train_acc'][-1:-3:-1])"
      ],
      "execution_count": null,
      "outputs": [
        {
          "output_type": "stream",
          "text": [
            "History must be loaded\n",
            "50 7c: [0.7832962138084633, 0.7786191536748329]\n"
          ],
          "name": "stdout"
        }
      ]
    },
    {
      "cell_type": "code",
      "metadata": {
        "colab": {
          "base_uri": "https://localhost:8080/"
        },
        "id": "1vwT_FasbipQ",
        "outputId": "2d9f26ab-5a4e-4a65-883c-d7867696f56b"
      },
      "source": [
        "print(\"50 7c:\",r50_7c_tra['val_acc'][-1:-3:-1])\n",
        "\n",
        "r50_3c_tra =historyLoad(dirname='Pre_Resnet50_3c', naming=\"11epoch\")\n",
        "print(\"50 3c:\",r50_3c_tra['val_acc'][-1:-3:-1])\n",
        "\n",
        "print(\"\")\n",
        "\n",
        "\n",
        "r18_7c_tra =historyLoad(dirname='Pre_Resnet18_7c', naming=\"11epoch\")\n",
        "print(\"18 7c:\",r18_7c_tra['val_acc'][-1:-3:-1])\n",
        "\n",
        "r18_3c_tra =historyLoad(dirname='Pre_Resnet18_3c', naming=\"11epoch\")\n",
        "print(\"18 3c:\",r18_3c_tra['val_acc'][-1:-3:-1])\n",
        "\n",
        "\n",
        "print(\"\")\n",
        "\n",
        "\n",
        "r18_mod_7c_tra =historyLoad(dirname='Pre_Resnet18_Mod_7c', naming=\"11epoch\")\n",
        "print(\"18 mod 7c:\",r18_mod_7c_tra['val_acc'][-1:-3:-1])\n",
        "\n",
        "r18_mod_3c_tra =historyLoad(dirname='Pre_Resnet18_Mod_3c', naming=\"11epoch\")\n",
        "print(\"18 mod 3c:\",r18_mod_3c_tra['val_acc'][-1:-3:-1])\n",
        "\n",
        "\n",
        "\n",
        "\n"
      ],
      "execution_count": null,
      "outputs": [
        {
          "output_type": "stream",
          "text": [
            "History must be loaded\n",
            "50 7c: [0.7515762925598991, 0.7490542244640606]\n",
            "History must be loaded\n",
            "50 3c: [0.926860025220681, 0.9445145018915511]\n",
            "\n",
            "History must be loaded\n",
            "18 7c: [0.6658259773013872, 0.694829760403531]\n",
            "History must be loaded\n",
            "18 3c: [0.9104665825977302, 0.9041614123581336]\n",
            "\n",
            "History must be loaded\n",
            "18 mod 7c: [0.7540983606557377, 0.7377049180327869]\n",
            "History must be loaded\n",
            "18 mod 3c: [0.9508196721311475, 0.9482976040353089]\n"
          ],
          "name": "stdout"
        }
      ]
    }
  ]
}
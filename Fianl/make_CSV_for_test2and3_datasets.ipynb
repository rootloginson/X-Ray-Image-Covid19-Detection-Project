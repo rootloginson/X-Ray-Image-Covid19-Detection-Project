{
  "nbformat": 4,
  "nbformat_minor": 0,
  "metadata": {
    "colab": {
      "name": "make_CSV_for_test2and3_datasets.ipynb",
      "provenance": [],
      "collapsed_sections": [],
      "toc_visible": true,
      "include_colab_link": true
    },
    "kernelspec": {
      "display_name": "Python 3",
      "name": "python3"
    }
  },
  "cells": [
    {
      "cell_type": "markdown",
      "metadata": {
        "id": "view-in-github",
        "colab_type": "text"
      },
      "source": [
        "<a href=\"https://colab.research.google.com/github/rootloginson/X-Ray-Image-Covid19-Detection-Project/blob/master/Fianl/make_CSV_for_test2and3_datasets.ipynb\" target=\"_parent\"><img src=\"https://colab.research.google.com/assets/colab-badge.svg\" alt=\"Open In Colab\"/></a>"
      ]
    },
    {
      "cell_type": "markdown",
      "metadata": {
        "id": "qZ7UwENJ9K85"
      },
      "source": [
        "---\n",
        "## It'll look better and intuitive on Google Colab Environment (◕‿◕✿)\n",
        "\n",
        "---"
      ]
    },
    {
      "cell_type": "code",
      "metadata": {
        "colab": {
          "base_uri": "https://localhost:8080/"
        },
        "id": "ncMFTjTc78Fz",
        "outputId": "b54757c2-ffbd-4737-84c3-0a07aec8f67e"
      },
      "source": [
        "# This part probably will be enough for utilizing Drive in Colab\n",
        "# but examine links above if you encounter with problems.\n",
        "from google.colab import drive\n",
        "drive.mount('/content/drive/', force_remount=True)"
      ],
      "execution_count": null,
      "outputs": [
        {
          "output_type": "stream",
          "text": [
            "Mounted at /content/drive/\n"
          ],
          "name": "stdout"
        }
      ]
    },
    {
      "cell_type": "code",
      "metadata": {
        "colab": {
          "base_uri": "https://localhost:8080/"
        },
        "id": "VWxIq34Y8A9u",
        "outputId": "0c2e8b12-3523-42fa-d619-34c8e2b28d83"
      },
      "source": [
        "!nvidia-smi"
      ],
      "execution_count": null,
      "outputs": [
        {
          "output_type": "stream",
          "text": [
            "NVIDIA-SMI has failed because it couldn't communicate with the NVIDIA driver. Make sure that the latest NVIDIA driver is installed and running.\n",
            "\n"
          ],
          "name": "stdout"
        }
      ]
    },
    {
      "cell_type": "markdown",
      "metadata": {
        "id": "p_cOE3k-ZCba"
      },
      "source": [
        "# *Import Libraries and path"
      ]
    },
    {
      "cell_type": "code",
      "metadata": {
        "id": "MpyQnqNL8Bbk"
      },
      "source": [
        "# All libraries are already presented in Colab Servers, we don't need to install anything with pip\n",
        "import torch\n",
        "import torch.nn as nn\n",
        "import torch.optim as optim\n",
        "from torch.utils.data import DataLoader\n",
        "from torchvision.datasets import ImageFolder\n",
        "import torchvision.transforms as transforms\n",
        "from PIL import Image\n",
        "import os\n",
        "import numpy as np\n",
        "import matplotlib.pyplot as plt\n",
        "%matplotlib inline\n",
        "\n",
        "import pandas as pd\n",
        "from sklearn.model_selection import train_test_split\n",
        "from torchvision import models\n",
        "import os "
      ],
      "execution_count": null,
      "outputs": []
    },
    {
      "cell_type": "code",
      "metadata": {
        "id": "4L_sXp9l8T4j"
      },
      "source": [
        "wd = '/content/drive/MyDrive/Colab Notebooks/Final'"
      ],
      "execution_count": null,
      "outputs": []
    },
    {
      "cell_type": "markdown",
      "metadata": {
        "id": "-qHItCEhPysq"
      },
      "source": [
        "# Creating DataFrame for CustomDataset"
      ]
    },
    {
      "cell_type": "markdown",
      "metadata": {
        "id": "8eDIdx2HhVG4"
      },
      "source": [
        "### Reading .csv, \n",
        "- *Class*(*Labels*) column added (nf: dataframe name )\n",
        "- Image name setted as index name\n",
        "- Image dimension list created (gray, rgb, rgba.)\n",
        "- label_dict (object), for class(label) explanations\n"
      ]
    },
    {
      "cell_type": "markdown",
      "metadata": {
        "id": "K5zpackfljc3"
      },
      "source": [
        "### Image channel dimension list \n",
        "list of (gray, rgb, rgba etc.)\n"
      ]
    },
    {
      "cell_type": "code",
      "metadata": {
        "id": "LRUjPrF-OM1H"
      },
      "source": [
        "from torchvision.datasets import ImageFolder"
      ],
      "execution_count": null,
      "outputs": []
    },
    {
      "cell_type": "code",
      "metadata": {
        "id": "qcYYFjbZOfb_"
      },
      "source": [
        "from os import listdir\n",
        "from os.path import isfile, join\n",
        "\n",
        "mypath0 = wd + '/KaggleCovid/Coronahack-Chest-XRay-Dataset/test3/0'\n",
        "mypath3 = wd + '/KaggleCovid/Coronahack-Chest-XRay-Dataset/test3/3'\n",
        "\n",
        "dir_path = [mypath0, mypath3]\n",
        "name_class = [[f,int(d[-1])] for d in dir_path for f in listdir(d)]"
      ],
      "execution_count": null,
      "outputs": []
    },
    {
      "cell_type": "code",
      "metadata": {
        "id": "r9-9XpykQIMM"
      },
      "source": [
        "ekdata = pd.DataFrame(name_class, columns=['X_ray_image_name', 'Class'])"
      ],
      "execution_count": null,
      "outputs": []
    },
    {
      "cell_type": "code",
      "metadata": {
        "colab": {
          "base_uri": "https://localhost:8080/",
          "height": 206
        },
        "id": "XJPOfwoBJdDR",
        "outputId": "a98e8300-213c-4b04-bd7b-3c8cb47de2dd"
      },
      "source": [
        "ekdata.head()"
      ],
      "execution_count": null,
      "outputs": [
        {
          "output_type": "execute_result",
          "data": {
            "text/html": [
              "<div>\n",
              "<style scoped>\n",
              "    .dataframe tbody tr th:only-of-type {\n",
              "        vertical-align: middle;\n",
              "    }\n",
              "\n",
              "    .dataframe tbody tr th {\n",
              "        vertical-align: top;\n",
              "    }\n",
              "\n",
              "    .dataframe thead th {\n",
              "        text-align: right;\n",
              "    }\n",
              "</style>\n",
              "<table border=\"1\" class=\"dataframe\">\n",
              "  <thead>\n",
              "    <tr style=\"text-align: right;\">\n",
              "      <th></th>\n",
              "      <th>X_ray_image_name</th>\n",
              "      <th>Class</th>\n",
              "    </tr>\n",
              "  </thead>\n",
              "  <tbody>\n",
              "    <tr>\n",
              "      <th>0</th>\n",
              "      <td>IM-0220-0001.jpeg</td>\n",
              "      <td>0</td>\n",
              "    </tr>\n",
              "    <tr>\n",
              "      <th>1</th>\n",
              "      <td>IM-0214-0001.jpeg</td>\n",
              "      <td>0</td>\n",
              "    </tr>\n",
              "    <tr>\n",
              "      <th>2</th>\n",
              "      <td>IM-0264-0001.jpeg</td>\n",
              "      <td>0</td>\n",
              "    </tr>\n",
              "    <tr>\n",
              "      <th>3</th>\n",
              "      <td>IM-0217-0001.jpeg</td>\n",
              "      <td>0</td>\n",
              "    </tr>\n",
              "    <tr>\n",
              "      <th>4</th>\n",
              "      <td>IM-0216-0001.jpeg</td>\n",
              "      <td>0</td>\n",
              "    </tr>\n",
              "  </tbody>\n",
              "</table>\n",
              "</div>"
            ],
            "text/plain": [
              "    X_ray_image_name  Class\n",
              "0  IM-0220-0001.jpeg      0\n",
              "1  IM-0214-0001.jpeg      0\n",
              "2  IM-0264-0001.jpeg      0\n",
              "3  IM-0217-0001.jpeg      0\n",
              "4  IM-0216-0001.jpeg      0"
            ]
          },
          "metadata": {
            "tags": []
          },
          "execution_count": 8
        }
      ]
    },
    {
      "cell_type": "code",
      "metadata": {
        "colab": {
          "base_uri": "https://localhost:8080/"
        },
        "id": "WGJdBnCdJevM",
        "outputId": "742c349f-300a-44b7-e1bd-93391bb2b0d2"
      },
      "source": [
        "ekdata.info()"
      ],
      "execution_count": null,
      "outputs": [
        {
          "output_type": "stream",
          "text": [
            "<class 'pandas.core.frame.DataFrame'>\n",
            "RangeIndex: 98 entries, 0 to 97\n",
            "Data columns (total 2 columns):\n",
            " #   Column            Non-Null Count  Dtype \n",
            "---  ------            --------------  ----- \n",
            " 0   X_ray_image_name  98 non-null     object\n",
            " 1   Class             98 non-null     int64 \n",
            "dtypes: int64(1), object(1)\n",
            "memory usage: 1.7+ KB\n"
          ],
          "name": "stdout"
        }
      ]
    },
    {
      "cell_type": "code",
      "metadata": {
        "colab": {
          "base_uri": "https://localhost:8080/"
        },
        "id": "0DW1YUcCJgqN",
        "outputId": "667fb9e9-1df7-4aca-d329-53b38a8976cf"
      },
      "source": [
        "ekdata.Class.value_counts()"
      ],
      "execution_count": null,
      "outputs": [
        {
          "output_type": "execute_result",
          "data": {
            "text/plain": [
              "3    70\n",
              "0    28\n",
              "Name: Class, dtype: int64"
            ]
          },
          "metadata": {
            "tags": []
          },
          "execution_count": 10
        }
      ]
    },
    {
      "cell_type": "code",
      "metadata": {
        "id": "CnU3H6SwmN15"
      },
      "source": [
        "# create copy of nf dataframe to work with\n",
        "#chdim_df = nf.copy()\n",
        "test_normal = ekdata[ekdata['Class']==0]\n",
        "test_covid = ekdata[ekdata['Class']==3]"
      ],
      "execution_count": null,
      "outputs": []
    },
    {
      "cell_type": "code",
      "metadata": {
        "id": "_g7LAJgRSpPt"
      },
      "source": [
        "train_chdim = test_normal.copy()\n",
        "test_chdim = test_covid.copy()"
      ],
      "execution_count": null,
      "outputs": []
    },
    {
      "cell_type": "code",
      "metadata": {
        "colab": {
          "base_uri": "https://localhost:8080/"
        },
        "id": "0nANaQxSzgcp",
        "outputId": "28e224a8-4d3e-4368-b10d-98d80f940557"
      },
      "source": [
        "channel_dimensions_dict = {}\n",
        "\n",
        "# for train file\n",
        "for i in range(len(train_chdim.index)):\n",
        "  # corresponding image name\n",
        "  img_name = train_chdim.iloc[i]['X_ray_image_name'] \n",
        "  # open image\n",
        "  img = Image.open(wd + '/KaggleCovid/Coronahack-Chest-XRay-Dataset/test3/0'+ '/' + img_name)\n",
        "  # number of channel an image has\n",
        "  dim = img.getbands()\n",
        "\n",
        "  if dim not in channel_dimensions_dict:\n",
        "    channel_dimensions_dict[dim] = []\n",
        "\n",
        "  # add image name and channel dim to a list. \n",
        "  channel_dimensions_dict[dim].append(img_name)\n",
        "  # I deleted the set after using dictionary\n",
        "\n",
        "# for test file\n",
        "for i in range(len(test_chdim.index)):\n",
        "  # corresponding image name\n",
        "  img_name = test_chdim.iloc[i]['X_ray_image_name'] \n",
        "  # open image\n",
        "  img = Image.open(wd + '/KaggleCovid/Coronahack-Chest-XRay-Dataset/test3/3'+ '/' + img_name)\n",
        "  # number of channel an image has\n",
        "  dim = img.getbands()\n",
        "\n",
        "  if dim not in channel_dimensions_dict:\n",
        "    channel_dimensions_dict[dim] = []\n",
        "\n",
        "  # add image name and channel dim to a list. \n",
        "  channel_dimensions_dict[dim].append(img_name)\n",
        "  # I deleted the set after using dictionary\n",
        "\n",
        "\n",
        "# {dim:[img_name, ...], dim:[img_name] ...}\n",
        "print(\"There are >>\", channel_dimensions_dict.keys() , \"<< channel Images\\n\")\n",
        "\n",
        "# img quantity in channels\n",
        "dict_info = [(k, len(v)) for k, v in channel_dimensions_dict.items()]\n",
        "print(\"image quantity of channels\")\n",
        "print(dict_info)\n",
        "print(\"\\ntotal\")\n",
        "print(sum(i[1] for i in dict_info))"
      ],
      "execution_count": null,
      "outputs": [
        {
          "output_type": "stream",
          "text": [
            "There are >> dict_keys([('L',), ('R', 'G', 'B'), ('R', 'G', 'B', 'A')]) << channel Images\n",
            "\n",
            "image quantity of channels\n",
            "[(('L',), 32), (('R', 'G', 'B'), 55), (('R', 'G', 'B', 'A'), 11)]\n",
            "\n",
            "total\n",
            "98\n"
          ],
          "name": "stdout"
        }
      ]
    },
    {
      "cell_type": "code",
      "metadata": {
        "colab": {
          "base_uri": "https://localhost:8080/"
        },
        "id": "tNEq8_EFZ6cA",
        "outputId": "c8bd2ed7-9e38-4104-acbe-de4273ee6e79"
      },
      "source": [
        "# create a dict of{img_name:img_dim}\n",
        "reversed_channel_dict = {v_in:len(k) for (k,v) in channel_dimensions_dict.items() for v_in in v}\n",
        "# create data set of channel dimensions. row: ImageName, column: Channel_dim\n",
        "dataset_channel_dim_df = pd.DataFrame.from_dict(reversed_channel_dict, orient='index', columns=['Channel_dim'])\n",
        "\n",
        "print(dataset_channel_dim_df.value_counts())\n",
        "print(\"\\n size:\",dataset_channel_dim_df.size)"
      ],
      "execution_count": null,
      "outputs": [
        {
          "output_type": "stream",
          "text": [
            "Channel_dim\n",
            "3              55\n",
            "1              32\n",
            "4              11\n",
            "dtype: int64\n",
            "\n",
            " size: 98\n"
          ],
          "name": "stdout"
        }
      ]
    },
    {
      "cell_type": "code",
      "metadata": {
        "id": "bwmixNSHf16L"
      },
      "source": [
        "save_path_of_channel_dim = wd+'/KaggleCovid/Updated_Data_Frames/dataset_channel_dim_of_test3.csv'\n",
        "dataset_channel_dim_df.to_csv(save_path_of_channel_dim, index_label='X_ray_image_name')"
      ],
      "execution_count": null,
      "outputs": []
    },
    {
      "cell_type": "markdown",
      "metadata": {
        "id": "n31ZVMFthAHa"
      },
      "source": [
        "### Adding channel dim"
      ]
    },
    {
      "cell_type": "code",
      "metadata": {
        "id": "SfMGDFTL8z-Q"
      },
      "source": [
        "# sorted channel dim, index is image name\n",
        "channel_dim_list = pd.read_csv(wd+'/KaggleCovid/Updated_Data_Frames/dataset_channel_dim_of_test3.csv', index_col=0).sort_index()"
      ],
      "execution_count": null,
      "outputs": []
    },
    {
      "cell_type": "code",
      "metadata": {
        "id": "-u-WR_ccjfBZ"
      },
      "source": [
        "# kaggle_dataset, index=X_ray_image_name, column=Class\n",
        "nf_temp = ekdata[['X_ray_image_name', 'Class']].set_index('X_ray_image_name').sort_index()"
      ],
      "execution_count": null,
      "outputs": []
    },
    {
      "cell_type": "code",
      "metadata": {
        "colab": {
          "base_uri": "https://localhost:8080/"
        },
        "id": "xPg2KPtZonRM",
        "outputId": "8ea9228c-00f2-4191-b358-b2a5ba543c2d"
      },
      "source": [
        "channel_dim_list.info()"
      ],
      "execution_count": null,
      "outputs": [
        {
          "output_type": "stream",
          "text": [
            "<class 'pandas.core.frame.DataFrame'>\n",
            "Index: 98 entries, IM-0214-0001.jpeg to covid (9).png\n",
            "Data columns (total 1 columns):\n",
            " #   Column       Non-Null Count  Dtype\n",
            "---  ------       --------------  -----\n",
            " 0   Channel_dim  98 non-null     int64\n",
            "dtypes: int64(1)\n",
            "memory usage: 1.5+ KB\n"
          ],
          "name": "stdout"
        }
      ]
    },
    {
      "cell_type": "code",
      "metadata": {
        "colab": {
          "base_uri": "https://localhost:8080/"
        },
        "id": "rJKuB5z4ophE",
        "outputId": "fde06fe8-ec4c-41a5-ea0d-1115bd5e3d97"
      },
      "source": [
        "nf_temp.info()"
      ],
      "execution_count": null,
      "outputs": [
        {
          "output_type": "stream",
          "text": [
            "<class 'pandas.core.frame.DataFrame'>\n",
            "Index: 98 entries, IM-0214-0001.jpeg to covid (9).png\n",
            "Data columns (total 1 columns):\n",
            " #   Column  Non-Null Count  Dtype\n",
            "---  ------  --------------  -----\n",
            " 0   Class   98 non-null     int64\n",
            "dtypes: int64(1)\n",
            "memory usage: 1.5+ KB\n"
          ],
          "name": "stdout"
        }
      ]
    },
    {
      "cell_type": "markdown",
      "metadata": {
        "id": "XdGfZg3JqxIi"
      },
      "source": [
        "---\n",
        "*Adding Channel dims to X_ray_image_name, Class(Label) dataset*\n"
      ]
    },
    {
      "cell_type": "code",
      "metadata": {
        "id": "HVmyIHewqvx1"
      },
      "source": [
        "nf_temp['Channel_dim'] = channel_dim_list['Channel_dim']\n",
        "\n",
        "# Save Processed csv. \n",
        "save_path_of_processed_dataset = wd+'/KaggleCovid/Updated_Data_Frames/processed_dataset_test3.csv'\n",
        "nf_temp.to_csv(save_path_of_processed_dataset, index_label='X_ray_image_name')"
      ],
      "execution_count": null,
      "outputs": []
    },
    {
      "cell_type": "markdown",
      "metadata": {
        "id": "8j4xKcvSsjW6"
      },
      "source": [
        "# *Processed Dataframe (--check point)\n",
        "for processsed dataframe call ***get_processedDataframe()*** function\n",
        "\n",
        "for kaggle dataframe ***get_kaggleDataframe()*** function\n"
      ]
    },
    {
      "cell_type": "code",
      "metadata": {
        "id": "ssN9N8WHMRi6"
      },
      "source": [
        "def get_test3Dataframe():\n",
        "  #already sorted\n",
        "  checkpoint = pd.read_csv(wd+'/KaggleCovid/Updated_Data_Frames/processed_dataset_test3.csv', index_col=0)\n",
        "  return checkpoint\n"
      ],
      "execution_count": null,
      "outputs": []
    },
    {
      "cell_type": "code",
      "metadata": {
        "colab": {
          "base_uri": "https://localhost:8080/",
          "height": 237
        },
        "id": "tQZXDz5isofo",
        "outputId": "25f61609-d255-4261-ddda-056aa1813d79"
      },
      "source": [
        "test3 = get_test3Dataframe()\n",
        "test3.head()"
      ],
      "execution_count": null,
      "outputs": [
        {
          "output_type": "execute_result",
          "data": {
            "text/html": [
              "<div>\n",
              "<style scoped>\n",
              "    .dataframe tbody tr th:only-of-type {\n",
              "        vertical-align: middle;\n",
              "    }\n",
              "\n",
              "    .dataframe tbody tr th {\n",
              "        vertical-align: top;\n",
              "    }\n",
              "\n",
              "    .dataframe thead th {\n",
              "        text-align: right;\n",
              "    }\n",
              "</style>\n",
              "<table border=\"1\" class=\"dataframe\">\n",
              "  <thead>\n",
              "    <tr style=\"text-align: right;\">\n",
              "      <th></th>\n",
              "      <th>Class</th>\n",
              "      <th>Channel_dim</th>\n",
              "    </tr>\n",
              "    <tr>\n",
              "      <th>X_ray_image_name</th>\n",
              "      <th></th>\n",
              "      <th></th>\n",
              "    </tr>\n",
              "  </thead>\n",
              "  <tbody>\n",
              "    <tr>\n",
              "      <th>IM-0214-0001.jpeg</th>\n",
              "      <td>0</td>\n",
              "      <td>1</td>\n",
              "    </tr>\n",
              "    <tr>\n",
              "      <th>IM-0215-0001.jpeg</th>\n",
              "      <td>0</td>\n",
              "      <td>1</td>\n",
              "    </tr>\n",
              "    <tr>\n",
              "      <th>IM-0216-0001.jpeg</th>\n",
              "      <td>0</td>\n",
              "      <td>1</td>\n",
              "    </tr>\n",
              "    <tr>\n",
              "      <th>IM-0217-0001.jpeg</th>\n",
              "      <td>0</td>\n",
              "      <td>1</td>\n",
              "    </tr>\n",
              "    <tr>\n",
              "      <th>IM-0218-0001.jpeg</th>\n",
              "      <td>0</td>\n",
              "      <td>1</td>\n",
              "    </tr>\n",
              "  </tbody>\n",
              "</table>\n",
              "</div>"
            ],
            "text/plain": [
              "                   Class  Channel_dim\n",
              "X_ray_image_name                     \n",
              "IM-0214-0001.jpeg      0            1\n",
              "IM-0215-0001.jpeg      0            1\n",
              "IM-0216-0001.jpeg      0            1\n",
              "IM-0217-0001.jpeg      0            1\n",
              "IM-0218-0001.jpeg      0            1"
            ]
          },
          "metadata": {
            "tags": []
          },
          "execution_count": 30
        }
      ]
    },
    {
      "cell_type": "code",
      "metadata": {
        "colab": {
          "base_uri": "https://localhost:8080/"
        },
        "id": "69PFP5q6Zs7D",
        "outputId": "5a3a5703-a1e3-4482-fe92-7b5af379c0fa"
      },
      "source": [
        "# check if there is a null \"Label\"\n",
        "test3['Channel_dim'].isnull().sum()"
      ],
      "execution_count": null,
      "outputs": [
        {
          "output_type": "execute_result",
          "data": {
            "text/plain": [
              "0"
            ]
          },
          "metadata": {
            "tags": []
          },
          "execution_count": 31
        }
      ]
    },
    {
      "cell_type": "code",
      "metadata": {
        "colab": {
          "base_uri": "https://localhost:8080/"
        },
        "id": "770JiVAMYLDh",
        "outputId": "82fcd820-e9ff-4448-b938-eed8e9b77482"
      },
      "source": [
        "test3.Channel_dim.value_counts()"
      ],
      "execution_count": null,
      "outputs": [
        {
          "output_type": "execute_result",
          "data": {
            "text/plain": [
              "3    55\n",
              "1    32\n",
              "4    11\n",
              "Name: Channel_dim, dtype: int64"
            ]
          },
          "metadata": {
            "tags": []
          },
          "execution_count": 32
        }
      ]
    },
    {
      "cell_type": "code",
      "metadata": {
        "colab": {
          "base_uri": "https://localhost:8080/"
        },
        "id": "Q_vbzBeUYZWi",
        "outputId": "f1d5e0a0-0d92-4d98-c597-62f470f34fa5"
      },
      "source": [
        "len(test3.index)"
      ],
      "execution_count": null,
      "outputs": [
        {
          "output_type": "execute_result",
          "data": {
            "text/plain": [
              "98"
            ]
          },
          "metadata": {
            "tags": []
          },
          "execution_count": 33
        }
      ]
    },
    {
      "cell_type": "markdown",
      "metadata": {
        "id": "Au-aXzb1mBE4"
      },
      "source": [
        "---\n",
        "Covid19 Images \n",
        "\n",
        "><font color='gray'>**GRAY**</font>  = **32**\n",
        "\n",
        "><font color='PaleVioletRed'>**R**</font><font color='90EE90'>**G**</font><font color='00BFFF'>**B**</font> = **55**\n",
        "\n",
        "><font color='PaleVioletRed'>**R**</font><font color='90EE90'>**G**</font><font color='00BFFF'>**B**</font>\n",
        "<font color='Black'>- A</font> = **11**"
      ]
    },
    {
      "cell_type": "code",
      "metadata": {
        "colab": {
          "base_uri": "https://localhost:8080/"
        },
        "id": "MxPqRxo9qZ1n",
        "outputId": "10bef0b4-2804-4c72-fd66-e3ab10947ec2"
      },
      "source": [
        "test3.loc[test3['Class']==3].value_counts('Channel_dim')"
      ],
      "execution_count": null,
      "outputs": [
        {
          "output_type": "execute_result",
          "data": {
            "text/plain": [
              "Channel_dim\n",
              "3    55\n",
              "4    11\n",
              "1     4\n",
              "dtype: int64"
            ]
          },
          "metadata": {
            "tags": []
          },
          "execution_count": 34
        }
      ]
    },
    {
      "cell_type": "markdown",
      "metadata": {
        "id": "afdtEIKYhhvT"
      },
      "source": [
        "# *Move images to directory (--all in one function)\n",
        "\n"
      ]
    },
    {
      "cell_type": "code",
      "metadata": {
        "colab": {
          "base_uri": "https://localhost:8080/",
          "height": 35
        },
        "id": "gK-d-glgfdng",
        "outputId": "3ebbd5d2-fedb-4b39-ba9c-77977b86bf2c"
      },
      "source": [
        "wdt"
      ],
      "execution_count": null,
      "outputs": [
        {
          "output_type": "execute_result",
          "data": {
            "application/vnd.google.colaboratory.intrinsic+json": {
              "type": "string"
            },
            "text/plain": [
              "'/content/drive/MyDrive/Colab Notebooks/Final/KaggleCovid/Coronahack-Chest-XRay-Dataset/test2'"
            ]
          },
          "metadata": {
            "tags": []
          },
          "execution_count": 180
        }
      ]
    },
    {
      "cell_type": "code",
      "metadata": {
        "colab": {
          "base_uri": "https://localhost:8080/"
        },
        "id": "d-q4MYp_fbZJ",
        "outputId": "03f41a67-162e-4400-bb07-551d5eb28c8c"
      },
      "source": [
        "!mv  -v /content/drive/MyDrive/Colab\\ Notebooks/Final/KaggleCovid/Coronahack-Chest-XRay-Dataset/test3/3/* /content/drive/MyDrive/Colab\\ Notebooks/Final/KaggleCovid/Coronahack-Chest-XRay-Dataset/test3 "
      ],
      "execution_count": null,
      "outputs": [
        {
          "output_type": "stream",
          "text": [
            "renamed '/content/drive/MyDrive/Colab Notebooks/Final/KaggleCovid/Coronahack-Chest-XRay-Dataset/test3/3/covid (10).jpeg' -> '/content/drive/MyDrive/Colab Notebooks/Final/KaggleCovid/Coronahack-Chest-XRay-Dataset/test3/covid (10).jpeg'\n",
            "renamed '/content/drive/MyDrive/Colab Notebooks/Final/KaggleCovid/Coronahack-Chest-XRay-Dataset/test3/3/covid (10).jpg' -> '/content/drive/MyDrive/Colab Notebooks/Final/KaggleCovid/Coronahack-Chest-XRay-Dataset/test3/covid (10).jpg'\n",
            "renamed '/content/drive/MyDrive/Colab Notebooks/Final/KaggleCovid/Coronahack-Chest-XRay-Dataset/test3/3/covid (10).png' -> '/content/drive/MyDrive/Colab Notebooks/Final/KaggleCovid/Coronahack-Chest-XRay-Dataset/test3/covid (10).png'\n",
            "renamed '/content/drive/MyDrive/Colab Notebooks/Final/KaggleCovid/Coronahack-Chest-XRay-Dataset/test3/3/covid (11).jpeg' -> '/content/drive/MyDrive/Colab Notebooks/Final/KaggleCovid/Coronahack-Chest-XRay-Dataset/test3/covid (11).jpeg'\n",
            "renamed '/content/drive/MyDrive/Colab Notebooks/Final/KaggleCovid/Coronahack-Chest-XRay-Dataset/test3/3/covid (11).jpg' -> '/content/drive/MyDrive/Colab Notebooks/Final/KaggleCovid/Coronahack-Chest-XRay-Dataset/test3/covid (11).jpg'\n",
            "renamed '/content/drive/MyDrive/Colab Notebooks/Final/KaggleCovid/Coronahack-Chest-XRay-Dataset/test3/3/covid (11).png' -> '/content/drive/MyDrive/Colab Notebooks/Final/KaggleCovid/Coronahack-Chest-XRay-Dataset/test3/covid (11).png'\n",
            "renamed '/content/drive/MyDrive/Colab Notebooks/Final/KaggleCovid/Coronahack-Chest-XRay-Dataset/test3/3/covid (12).jpeg' -> '/content/drive/MyDrive/Colab Notebooks/Final/KaggleCovid/Coronahack-Chest-XRay-Dataset/test3/covid (12).jpeg'\n",
            "renamed '/content/drive/MyDrive/Colab Notebooks/Final/KaggleCovid/Coronahack-Chest-XRay-Dataset/test3/3/covid (12).jpg' -> '/content/drive/MyDrive/Colab Notebooks/Final/KaggleCovid/Coronahack-Chest-XRay-Dataset/test3/covid (12).jpg'\n",
            "renamed '/content/drive/MyDrive/Colab Notebooks/Final/KaggleCovid/Coronahack-Chest-XRay-Dataset/test3/3/covid (13).jpeg' -> '/content/drive/MyDrive/Colab Notebooks/Final/KaggleCovid/Coronahack-Chest-XRay-Dataset/test3/covid (13).jpeg'\n",
            "renamed '/content/drive/MyDrive/Colab Notebooks/Final/KaggleCovid/Coronahack-Chest-XRay-Dataset/test3/3/covid (13).jpg' -> '/content/drive/MyDrive/Colab Notebooks/Final/KaggleCovid/Coronahack-Chest-XRay-Dataset/test3/covid (13).jpg'\n",
            "renamed '/content/drive/MyDrive/Colab Notebooks/Final/KaggleCovid/Coronahack-Chest-XRay-Dataset/test3/3/covid (14).jpeg' -> '/content/drive/MyDrive/Colab Notebooks/Final/KaggleCovid/Coronahack-Chest-XRay-Dataset/test3/covid (14).jpeg'\n",
            "renamed '/content/drive/MyDrive/Colab Notebooks/Final/KaggleCovid/Coronahack-Chest-XRay-Dataset/test3/3/covid (14).jpg' -> '/content/drive/MyDrive/Colab Notebooks/Final/KaggleCovid/Coronahack-Chest-XRay-Dataset/test3/covid (14).jpg'\n",
            "renamed '/content/drive/MyDrive/Colab Notebooks/Final/KaggleCovid/Coronahack-Chest-XRay-Dataset/test3/3/covid (15).jpeg' -> '/content/drive/MyDrive/Colab Notebooks/Final/KaggleCovid/Coronahack-Chest-XRay-Dataset/test3/covid (15).jpeg'\n",
            "renamed '/content/drive/MyDrive/Colab Notebooks/Final/KaggleCovid/Coronahack-Chest-XRay-Dataset/test3/3/covid (15).jpg' -> '/content/drive/MyDrive/Colab Notebooks/Final/KaggleCovid/Coronahack-Chest-XRay-Dataset/test3/covid (15).jpg'\n",
            "renamed '/content/drive/MyDrive/Colab Notebooks/Final/KaggleCovid/Coronahack-Chest-XRay-Dataset/test3/3/covid (16).jpeg' -> '/content/drive/MyDrive/Colab Notebooks/Final/KaggleCovid/Coronahack-Chest-XRay-Dataset/test3/covid (16).jpeg'\n",
            "renamed '/content/drive/MyDrive/Colab Notebooks/Final/KaggleCovid/Coronahack-Chest-XRay-Dataset/test3/3/covid (16).jpg' -> '/content/drive/MyDrive/Colab Notebooks/Final/KaggleCovid/Coronahack-Chest-XRay-Dataset/test3/covid (16).jpg'\n",
            "renamed '/content/drive/MyDrive/Colab Notebooks/Final/KaggleCovid/Coronahack-Chest-XRay-Dataset/test3/3/covid (17).jpeg' -> '/content/drive/MyDrive/Colab Notebooks/Final/KaggleCovid/Coronahack-Chest-XRay-Dataset/test3/covid (17).jpeg'\n",
            "renamed '/content/drive/MyDrive/Colab Notebooks/Final/KaggleCovid/Coronahack-Chest-XRay-Dataset/test3/3/covid (17).jpg' -> '/content/drive/MyDrive/Colab Notebooks/Final/KaggleCovid/Coronahack-Chest-XRay-Dataset/test3/covid (17).jpg'\n",
            "renamed '/content/drive/MyDrive/Colab Notebooks/Final/KaggleCovid/Coronahack-Chest-XRay-Dataset/test3/3/covid (18).jpeg' -> '/content/drive/MyDrive/Colab Notebooks/Final/KaggleCovid/Coronahack-Chest-XRay-Dataset/test3/covid (18).jpeg'\n",
            "renamed '/content/drive/MyDrive/Colab Notebooks/Final/KaggleCovid/Coronahack-Chest-XRay-Dataset/test3/3/covid (18).jpg' -> '/content/drive/MyDrive/Colab Notebooks/Final/KaggleCovid/Coronahack-Chest-XRay-Dataset/test3/covid (18).jpg'\n",
            "renamed '/content/drive/MyDrive/Colab Notebooks/Final/KaggleCovid/Coronahack-Chest-XRay-Dataset/test3/3/covid (19).jpeg' -> '/content/drive/MyDrive/Colab Notebooks/Final/KaggleCovid/Coronahack-Chest-XRay-Dataset/test3/covid (19).jpeg'\n",
            "renamed '/content/drive/MyDrive/Colab Notebooks/Final/KaggleCovid/Coronahack-Chest-XRay-Dataset/test3/3/covid (19).jpg' -> '/content/drive/MyDrive/Colab Notebooks/Final/KaggleCovid/Coronahack-Chest-XRay-Dataset/test3/covid (19).jpg'\n",
            "renamed '/content/drive/MyDrive/Colab Notebooks/Final/KaggleCovid/Coronahack-Chest-XRay-Dataset/test3/3/covid (1).jpeg' -> '/content/drive/MyDrive/Colab Notebooks/Final/KaggleCovid/Coronahack-Chest-XRay-Dataset/test3/covid (1).jpeg'\n",
            "renamed '/content/drive/MyDrive/Colab Notebooks/Final/KaggleCovid/Coronahack-Chest-XRay-Dataset/test3/3/covid (1).jpg' -> '/content/drive/MyDrive/Colab Notebooks/Final/KaggleCovid/Coronahack-Chest-XRay-Dataset/test3/covid (1).jpg'\n",
            "renamed '/content/drive/MyDrive/Colab Notebooks/Final/KaggleCovid/Coronahack-Chest-XRay-Dataset/test3/3/covid (1).png' -> '/content/drive/MyDrive/Colab Notebooks/Final/KaggleCovid/Coronahack-Chest-XRay-Dataset/test3/covid (1).png'\n",
            "renamed '/content/drive/MyDrive/Colab Notebooks/Final/KaggleCovid/Coronahack-Chest-XRay-Dataset/test3/3/covid (20).jpeg' -> '/content/drive/MyDrive/Colab Notebooks/Final/KaggleCovid/Coronahack-Chest-XRay-Dataset/test3/covid (20).jpeg'\n",
            "renamed '/content/drive/MyDrive/Colab Notebooks/Final/KaggleCovid/Coronahack-Chest-XRay-Dataset/test3/3/covid (20).jpg' -> '/content/drive/MyDrive/Colab Notebooks/Final/KaggleCovid/Coronahack-Chest-XRay-Dataset/test3/covid (20).jpg'\n",
            "renamed '/content/drive/MyDrive/Colab Notebooks/Final/KaggleCovid/Coronahack-Chest-XRay-Dataset/test3/3/covid (21).jpeg' -> '/content/drive/MyDrive/Colab Notebooks/Final/KaggleCovid/Coronahack-Chest-XRay-Dataset/test3/covid (21).jpeg'\n",
            "renamed '/content/drive/MyDrive/Colab Notebooks/Final/KaggleCovid/Coronahack-Chest-XRay-Dataset/test3/3/covid (21).jpg' -> '/content/drive/MyDrive/Colab Notebooks/Final/KaggleCovid/Coronahack-Chest-XRay-Dataset/test3/covid (21).jpg'\n",
            "renamed '/content/drive/MyDrive/Colab Notebooks/Final/KaggleCovid/Coronahack-Chest-XRay-Dataset/test3/3/covid (22).jpeg' -> '/content/drive/MyDrive/Colab Notebooks/Final/KaggleCovid/Coronahack-Chest-XRay-Dataset/test3/covid (22).jpeg'\n",
            "renamed '/content/drive/MyDrive/Colab Notebooks/Final/KaggleCovid/Coronahack-Chest-XRay-Dataset/test3/3/covid (22).jpg' -> '/content/drive/MyDrive/Colab Notebooks/Final/KaggleCovid/Coronahack-Chest-XRay-Dataset/test3/covid (22).jpg'\n",
            "renamed '/content/drive/MyDrive/Colab Notebooks/Final/KaggleCovid/Coronahack-Chest-XRay-Dataset/test3/3/covid (23).jpeg' -> '/content/drive/MyDrive/Colab Notebooks/Final/KaggleCovid/Coronahack-Chest-XRay-Dataset/test3/covid (23).jpeg'\n",
            "renamed '/content/drive/MyDrive/Colab Notebooks/Final/KaggleCovid/Coronahack-Chest-XRay-Dataset/test3/3/covid (23).jpg' -> '/content/drive/MyDrive/Colab Notebooks/Final/KaggleCovid/Coronahack-Chest-XRay-Dataset/test3/covid (23).jpg'\n",
            "renamed '/content/drive/MyDrive/Colab Notebooks/Final/KaggleCovid/Coronahack-Chest-XRay-Dataset/test3/3/covid (24).jpeg' -> '/content/drive/MyDrive/Colab Notebooks/Final/KaggleCovid/Coronahack-Chest-XRay-Dataset/test3/covid (24).jpeg'\n",
            "renamed '/content/drive/MyDrive/Colab Notebooks/Final/KaggleCovid/Coronahack-Chest-XRay-Dataset/test3/3/covid (25).jpeg' -> '/content/drive/MyDrive/Colab Notebooks/Final/KaggleCovid/Coronahack-Chest-XRay-Dataset/test3/covid (25).jpeg'\n",
            "renamed '/content/drive/MyDrive/Colab Notebooks/Final/KaggleCovid/Coronahack-Chest-XRay-Dataset/test3/3/covid (26).jpeg' -> '/content/drive/MyDrive/Colab Notebooks/Final/KaggleCovid/Coronahack-Chest-XRay-Dataset/test3/covid (26).jpeg'\n",
            "renamed '/content/drive/MyDrive/Colab Notebooks/Final/KaggleCovid/Coronahack-Chest-XRay-Dataset/test3/3/covid (27).jpeg' -> '/content/drive/MyDrive/Colab Notebooks/Final/KaggleCovid/Coronahack-Chest-XRay-Dataset/test3/covid (27).jpeg'\n",
            "renamed '/content/drive/MyDrive/Colab Notebooks/Final/KaggleCovid/Coronahack-Chest-XRay-Dataset/test3/3/covid (28).jpeg' -> '/content/drive/MyDrive/Colab Notebooks/Final/KaggleCovid/Coronahack-Chest-XRay-Dataset/test3/covid (28).jpeg'\n",
            "renamed '/content/drive/MyDrive/Colab Notebooks/Final/KaggleCovid/Coronahack-Chest-XRay-Dataset/test3/3/covid (29).jpeg' -> '/content/drive/MyDrive/Colab Notebooks/Final/KaggleCovid/Coronahack-Chest-XRay-Dataset/test3/covid (29).jpeg'\n",
            "renamed '/content/drive/MyDrive/Colab Notebooks/Final/KaggleCovid/Coronahack-Chest-XRay-Dataset/test3/3/covid (2).jpeg' -> '/content/drive/MyDrive/Colab Notebooks/Final/KaggleCovid/Coronahack-Chest-XRay-Dataset/test3/covid (2).jpeg'\n",
            "renamed '/content/drive/MyDrive/Colab Notebooks/Final/KaggleCovid/Coronahack-Chest-XRay-Dataset/test3/3/covid (2).jpg' -> '/content/drive/MyDrive/Colab Notebooks/Final/KaggleCovid/Coronahack-Chest-XRay-Dataset/test3/covid (2).jpg'\n",
            "renamed '/content/drive/MyDrive/Colab Notebooks/Final/KaggleCovid/Coronahack-Chest-XRay-Dataset/test3/3/covid (2).png' -> '/content/drive/MyDrive/Colab Notebooks/Final/KaggleCovid/Coronahack-Chest-XRay-Dataset/test3/covid (2).png'\n",
            "renamed '/content/drive/MyDrive/Colab Notebooks/Final/KaggleCovid/Coronahack-Chest-XRay-Dataset/test3/3/covid (30).jpeg' -> '/content/drive/MyDrive/Colab Notebooks/Final/KaggleCovid/Coronahack-Chest-XRay-Dataset/test3/covid (30).jpeg'\n",
            "renamed '/content/drive/MyDrive/Colab Notebooks/Final/KaggleCovid/Coronahack-Chest-XRay-Dataset/test3/3/covid (31).jpeg' -> '/content/drive/MyDrive/Colab Notebooks/Final/KaggleCovid/Coronahack-Chest-XRay-Dataset/test3/covid (31).jpeg'\n",
            "renamed '/content/drive/MyDrive/Colab Notebooks/Final/KaggleCovid/Coronahack-Chest-XRay-Dataset/test3/3/covid (32).jpeg' -> '/content/drive/MyDrive/Colab Notebooks/Final/KaggleCovid/Coronahack-Chest-XRay-Dataset/test3/covid (32).jpeg'\n",
            "renamed '/content/drive/MyDrive/Colab Notebooks/Final/KaggleCovid/Coronahack-Chest-XRay-Dataset/test3/3/covid (33).jpeg' -> '/content/drive/MyDrive/Colab Notebooks/Final/KaggleCovid/Coronahack-Chest-XRay-Dataset/test3/covid (33).jpeg'\n",
            "renamed '/content/drive/MyDrive/Colab Notebooks/Final/KaggleCovid/Coronahack-Chest-XRay-Dataset/test3/3/covid (34).jpeg' -> '/content/drive/MyDrive/Colab Notebooks/Final/KaggleCovid/Coronahack-Chest-XRay-Dataset/test3/covid (34).jpeg'\n",
            "renamed '/content/drive/MyDrive/Colab Notebooks/Final/KaggleCovid/Coronahack-Chest-XRay-Dataset/test3/3/covid (35).jpeg' -> '/content/drive/MyDrive/Colab Notebooks/Final/KaggleCovid/Coronahack-Chest-XRay-Dataset/test3/covid (35).jpeg'\n",
            "renamed '/content/drive/MyDrive/Colab Notebooks/Final/KaggleCovid/Coronahack-Chest-XRay-Dataset/test3/3/covid (36).jpeg' -> '/content/drive/MyDrive/Colab Notebooks/Final/KaggleCovid/Coronahack-Chest-XRay-Dataset/test3/covid (36).jpeg'\n",
            "renamed '/content/drive/MyDrive/Colab Notebooks/Final/KaggleCovid/Coronahack-Chest-XRay-Dataset/test3/3/covid (3).jpeg' -> '/content/drive/MyDrive/Colab Notebooks/Final/KaggleCovid/Coronahack-Chest-XRay-Dataset/test3/covid (3).jpeg'\n",
            "renamed '/content/drive/MyDrive/Colab Notebooks/Final/KaggleCovid/Coronahack-Chest-XRay-Dataset/test3/3/covid (3).jpg' -> '/content/drive/MyDrive/Colab Notebooks/Final/KaggleCovid/Coronahack-Chest-XRay-Dataset/test3/covid (3).jpg'\n",
            "renamed '/content/drive/MyDrive/Colab Notebooks/Final/KaggleCovid/Coronahack-Chest-XRay-Dataset/test3/3/covid (3).png' -> '/content/drive/MyDrive/Colab Notebooks/Final/KaggleCovid/Coronahack-Chest-XRay-Dataset/test3/covid (3).png'\n",
            "renamed '/content/drive/MyDrive/Colab Notebooks/Final/KaggleCovid/Coronahack-Chest-XRay-Dataset/test3/3/covid (4).jpeg' -> '/content/drive/MyDrive/Colab Notebooks/Final/KaggleCovid/Coronahack-Chest-XRay-Dataset/test3/covid (4).jpeg'\n",
            "renamed '/content/drive/MyDrive/Colab Notebooks/Final/KaggleCovid/Coronahack-Chest-XRay-Dataset/test3/3/covid (4).jpg' -> '/content/drive/MyDrive/Colab Notebooks/Final/KaggleCovid/Coronahack-Chest-XRay-Dataset/test3/covid (4).jpg'\n",
            "renamed '/content/drive/MyDrive/Colab Notebooks/Final/KaggleCovid/Coronahack-Chest-XRay-Dataset/test3/3/covid (4).png' -> '/content/drive/MyDrive/Colab Notebooks/Final/KaggleCovid/Coronahack-Chest-XRay-Dataset/test3/covid (4).png'\n",
            "renamed '/content/drive/MyDrive/Colab Notebooks/Final/KaggleCovid/Coronahack-Chest-XRay-Dataset/test3/3/covid (5).jpeg' -> '/content/drive/MyDrive/Colab Notebooks/Final/KaggleCovid/Coronahack-Chest-XRay-Dataset/test3/covid (5).jpeg'\n",
            "renamed '/content/drive/MyDrive/Colab Notebooks/Final/KaggleCovid/Coronahack-Chest-XRay-Dataset/test3/3/covid (5).jpg' -> '/content/drive/MyDrive/Colab Notebooks/Final/KaggleCovid/Coronahack-Chest-XRay-Dataset/test3/covid (5).jpg'\n",
            "renamed '/content/drive/MyDrive/Colab Notebooks/Final/KaggleCovid/Coronahack-Chest-XRay-Dataset/test3/3/covid (5).png' -> '/content/drive/MyDrive/Colab Notebooks/Final/KaggleCovid/Coronahack-Chest-XRay-Dataset/test3/covid (5).png'\n",
            "renamed '/content/drive/MyDrive/Colab Notebooks/Final/KaggleCovid/Coronahack-Chest-XRay-Dataset/test3/3/covid (6).jpeg' -> '/content/drive/MyDrive/Colab Notebooks/Final/KaggleCovid/Coronahack-Chest-XRay-Dataset/test3/covid (6).jpeg'\n",
            "renamed '/content/drive/MyDrive/Colab Notebooks/Final/KaggleCovid/Coronahack-Chest-XRay-Dataset/test3/3/covid (6).jpg' -> '/content/drive/MyDrive/Colab Notebooks/Final/KaggleCovid/Coronahack-Chest-XRay-Dataset/test3/covid (6).jpg'\n",
            "renamed '/content/drive/MyDrive/Colab Notebooks/Final/KaggleCovid/Coronahack-Chest-XRay-Dataset/test3/3/covid (6).png' -> '/content/drive/MyDrive/Colab Notebooks/Final/KaggleCovid/Coronahack-Chest-XRay-Dataset/test3/covid (6).png'\n",
            "renamed '/content/drive/MyDrive/Colab Notebooks/Final/KaggleCovid/Coronahack-Chest-XRay-Dataset/test3/3/covid (7).jpeg' -> '/content/drive/MyDrive/Colab Notebooks/Final/KaggleCovid/Coronahack-Chest-XRay-Dataset/test3/covid (7).jpeg'\n",
            "renamed '/content/drive/MyDrive/Colab Notebooks/Final/KaggleCovid/Coronahack-Chest-XRay-Dataset/test3/3/covid (7).jpg' -> '/content/drive/MyDrive/Colab Notebooks/Final/KaggleCovid/Coronahack-Chest-XRay-Dataset/test3/covid (7).jpg'\n",
            "renamed '/content/drive/MyDrive/Colab Notebooks/Final/KaggleCovid/Coronahack-Chest-XRay-Dataset/test3/3/covid (7).png' -> '/content/drive/MyDrive/Colab Notebooks/Final/KaggleCovid/Coronahack-Chest-XRay-Dataset/test3/covid (7).png'\n",
            "renamed '/content/drive/MyDrive/Colab Notebooks/Final/KaggleCovid/Coronahack-Chest-XRay-Dataset/test3/3/covid (8).jpeg' -> '/content/drive/MyDrive/Colab Notebooks/Final/KaggleCovid/Coronahack-Chest-XRay-Dataset/test3/covid (8).jpeg'\n",
            "renamed '/content/drive/MyDrive/Colab Notebooks/Final/KaggleCovid/Coronahack-Chest-XRay-Dataset/test3/3/covid (8).jpg' -> '/content/drive/MyDrive/Colab Notebooks/Final/KaggleCovid/Coronahack-Chest-XRay-Dataset/test3/covid (8).jpg'\n",
            "renamed '/content/drive/MyDrive/Colab Notebooks/Final/KaggleCovid/Coronahack-Chest-XRay-Dataset/test3/3/covid (8).png' -> '/content/drive/MyDrive/Colab Notebooks/Final/KaggleCovid/Coronahack-Chest-XRay-Dataset/test3/covid (8).png'\n",
            "renamed '/content/drive/MyDrive/Colab Notebooks/Final/KaggleCovid/Coronahack-Chest-XRay-Dataset/test3/3/covid (9).jpeg' -> '/content/drive/MyDrive/Colab Notebooks/Final/KaggleCovid/Coronahack-Chest-XRay-Dataset/test3/covid (9).jpeg'\n",
            "renamed '/content/drive/MyDrive/Colab Notebooks/Final/KaggleCovid/Coronahack-Chest-XRay-Dataset/test3/3/covid (9).jpg' -> '/content/drive/MyDrive/Colab Notebooks/Final/KaggleCovid/Coronahack-Chest-XRay-Dataset/test3/covid (9).jpg'\n",
            "renamed '/content/drive/MyDrive/Colab Notebooks/Final/KaggleCovid/Coronahack-Chest-XRay-Dataset/test3/3/covid (9).png' -> '/content/drive/MyDrive/Colab Notebooks/Final/KaggleCovid/Coronahack-Chest-XRay-Dataset/test3/covid (9).png'\n"
          ],
          "name": "stdout"
        }
      ]
    },
    {
      "cell_type": "code",
      "metadata": {
        "colab": {
          "base_uri": "https://localhost:8080/"
        },
        "id": "Pq3XW5TigIAx",
        "outputId": "07ddc0d5-ba0a-4a7b-ac1c-f17077f6b669"
      },
      "source": [
        "!mv  -v /content/drive/MyDrive/Colab\\ Notebooks/Final/KaggleCovid/Coronahack-Chest-XRay-Dataset/test3/0/* /content/drive/MyDrive/Colab\\ Notebooks/Final/KaggleCovid/Coronahack-Chest-XRay-Dataset/test3"
      ],
      "execution_count": null,
      "outputs": [
        {
          "output_type": "stream",
          "text": [
            "renamed '/content/drive/MyDrive/Colab Notebooks/Final/KaggleCovid/Coronahack-Chest-XRay-Dataset/test3/0/IM-0214-0001.jpeg' -> '/content/drive/MyDrive/Colab Notebooks/Final/KaggleCovid/Coronahack-Chest-XRay-Dataset/test3/IM-0214-0001.jpeg'\n",
            "renamed '/content/drive/MyDrive/Colab Notebooks/Final/KaggleCovid/Coronahack-Chest-XRay-Dataset/test3/0/IM-0215-0001.jpeg' -> '/content/drive/MyDrive/Colab Notebooks/Final/KaggleCovid/Coronahack-Chest-XRay-Dataset/test3/IM-0215-0001.jpeg'\n",
            "renamed '/content/drive/MyDrive/Colab Notebooks/Final/KaggleCovid/Coronahack-Chest-XRay-Dataset/test3/0/IM-0216-0001.jpeg' -> '/content/drive/MyDrive/Colab Notebooks/Final/KaggleCovid/Coronahack-Chest-XRay-Dataset/test3/IM-0216-0001.jpeg'\n",
            "renamed '/content/drive/MyDrive/Colab Notebooks/Final/KaggleCovid/Coronahack-Chest-XRay-Dataset/test3/0/IM-0217-0001.jpeg' -> '/content/drive/MyDrive/Colab Notebooks/Final/KaggleCovid/Coronahack-Chest-XRay-Dataset/test3/IM-0217-0001.jpeg'\n",
            "renamed '/content/drive/MyDrive/Colab Notebooks/Final/KaggleCovid/Coronahack-Chest-XRay-Dataset/test3/0/IM-0218-0001.jpeg' -> '/content/drive/MyDrive/Colab Notebooks/Final/KaggleCovid/Coronahack-Chest-XRay-Dataset/test3/IM-0218-0001.jpeg'\n",
            "renamed '/content/drive/MyDrive/Colab Notebooks/Final/KaggleCovid/Coronahack-Chest-XRay-Dataset/test3/0/IM-0219-0001.jpeg' -> '/content/drive/MyDrive/Colab Notebooks/Final/KaggleCovid/Coronahack-Chest-XRay-Dataset/test3/IM-0219-0001.jpeg'\n",
            "renamed '/content/drive/MyDrive/Colab Notebooks/Final/KaggleCovid/Coronahack-Chest-XRay-Dataset/test3/0/IM-0220-0001.jpeg' -> '/content/drive/MyDrive/Colab Notebooks/Final/KaggleCovid/Coronahack-Chest-XRay-Dataset/test3/IM-0220-0001.jpeg'\n",
            "renamed '/content/drive/MyDrive/Colab Notebooks/Final/KaggleCovid/Coronahack-Chest-XRay-Dataset/test3/0/IM-0221-0001.jpeg' -> '/content/drive/MyDrive/Colab Notebooks/Final/KaggleCovid/Coronahack-Chest-XRay-Dataset/test3/IM-0221-0001.jpeg'\n",
            "renamed '/content/drive/MyDrive/Colab Notebooks/Final/KaggleCovid/Coronahack-Chest-XRay-Dataset/test3/0/IM-0222-0001.jpeg' -> '/content/drive/MyDrive/Colab Notebooks/Final/KaggleCovid/Coronahack-Chest-XRay-Dataset/test3/IM-0222-0001.jpeg'\n",
            "renamed '/content/drive/MyDrive/Colab Notebooks/Final/KaggleCovid/Coronahack-Chest-XRay-Dataset/test3/0/IM-0223-0001.jpeg' -> '/content/drive/MyDrive/Colab Notebooks/Final/KaggleCovid/Coronahack-Chest-XRay-Dataset/test3/IM-0223-0001.jpeg'\n",
            "renamed '/content/drive/MyDrive/Colab Notebooks/Final/KaggleCovid/Coronahack-Chest-XRay-Dataset/test3/0/IM-0225-0001.jpeg' -> '/content/drive/MyDrive/Colab Notebooks/Final/KaggleCovid/Coronahack-Chest-XRay-Dataset/test3/IM-0225-0001.jpeg'\n",
            "renamed '/content/drive/MyDrive/Colab Notebooks/Final/KaggleCovid/Coronahack-Chest-XRay-Dataset/test3/0/IM-0226-0001.jpeg' -> '/content/drive/MyDrive/Colab Notebooks/Final/KaggleCovid/Coronahack-Chest-XRay-Dataset/test3/IM-0226-0001.jpeg'\n",
            "renamed '/content/drive/MyDrive/Colab Notebooks/Final/KaggleCovid/Coronahack-Chest-XRay-Dataset/test3/0/IM-0227-0001.jpeg' -> '/content/drive/MyDrive/Colab Notebooks/Final/KaggleCovid/Coronahack-Chest-XRay-Dataset/test3/IM-0227-0001.jpeg'\n",
            "renamed '/content/drive/MyDrive/Colab Notebooks/Final/KaggleCovid/Coronahack-Chest-XRay-Dataset/test3/0/IM-0228-0001.jpeg' -> '/content/drive/MyDrive/Colab Notebooks/Final/KaggleCovid/Coronahack-Chest-XRay-Dataset/test3/IM-0228-0001.jpeg'\n",
            "renamed '/content/drive/MyDrive/Colab Notebooks/Final/KaggleCovid/Coronahack-Chest-XRay-Dataset/test3/0/IM-0230-0001.jpeg' -> '/content/drive/MyDrive/Colab Notebooks/Final/KaggleCovid/Coronahack-Chest-XRay-Dataset/test3/IM-0230-0001.jpeg'\n",
            "renamed '/content/drive/MyDrive/Colab Notebooks/Final/KaggleCovid/Coronahack-Chest-XRay-Dataset/test3/0/IM-0234-0001.jpeg' -> '/content/drive/MyDrive/Colab Notebooks/Final/KaggleCovid/Coronahack-Chest-XRay-Dataset/test3/IM-0234-0001.jpeg'\n",
            "renamed '/content/drive/MyDrive/Colab Notebooks/Final/KaggleCovid/Coronahack-Chest-XRay-Dataset/test3/0/IM-0235-0001.jpeg' -> '/content/drive/MyDrive/Colab Notebooks/Final/KaggleCovid/Coronahack-Chest-XRay-Dataset/test3/IM-0235-0001.jpeg'\n",
            "renamed '/content/drive/MyDrive/Colab Notebooks/Final/KaggleCovid/Coronahack-Chest-XRay-Dataset/test3/0/IM-0236-0001.jpeg' -> '/content/drive/MyDrive/Colab Notebooks/Final/KaggleCovid/Coronahack-Chest-XRay-Dataset/test3/IM-0236-0001.jpeg'\n",
            "renamed '/content/drive/MyDrive/Colab Notebooks/Final/KaggleCovid/Coronahack-Chest-XRay-Dataset/test3/0/IM-0238-0001.jpeg' -> '/content/drive/MyDrive/Colab Notebooks/Final/KaggleCovid/Coronahack-Chest-XRay-Dataset/test3/IM-0238-0001.jpeg'\n",
            "renamed '/content/drive/MyDrive/Colab Notebooks/Final/KaggleCovid/Coronahack-Chest-XRay-Dataset/test3/0/IM-0239-0001.jpeg' -> '/content/drive/MyDrive/Colab Notebooks/Final/KaggleCovid/Coronahack-Chest-XRay-Dataset/test3/IM-0239-0001.jpeg'\n",
            "renamed '/content/drive/MyDrive/Colab Notebooks/Final/KaggleCovid/Coronahack-Chest-XRay-Dataset/test3/0/IM-0243-0001.jpeg' -> '/content/drive/MyDrive/Colab Notebooks/Final/KaggleCovid/Coronahack-Chest-XRay-Dataset/test3/IM-0243-0001.jpeg'\n",
            "renamed '/content/drive/MyDrive/Colab Notebooks/Final/KaggleCovid/Coronahack-Chest-XRay-Dataset/test3/0/IM-0248-0001.jpeg' -> '/content/drive/MyDrive/Colab Notebooks/Final/KaggleCovid/Coronahack-Chest-XRay-Dataset/test3/IM-0248-0001.jpeg'\n",
            "renamed '/content/drive/MyDrive/Colab Notebooks/Final/KaggleCovid/Coronahack-Chest-XRay-Dataset/test3/0/IM-0253-0001.jpeg' -> '/content/drive/MyDrive/Colab Notebooks/Final/KaggleCovid/Coronahack-Chest-XRay-Dataset/test3/IM-0253-0001.jpeg'\n",
            "renamed '/content/drive/MyDrive/Colab Notebooks/Final/KaggleCovid/Coronahack-Chest-XRay-Dataset/test3/0/IM-0255-0001.jpeg' -> '/content/drive/MyDrive/Colab Notebooks/Final/KaggleCovid/Coronahack-Chest-XRay-Dataset/test3/IM-0255-0001.jpeg'\n",
            "renamed '/content/drive/MyDrive/Colab Notebooks/Final/KaggleCovid/Coronahack-Chest-XRay-Dataset/test3/0/IM-0256-0001.jpeg' -> '/content/drive/MyDrive/Colab Notebooks/Final/KaggleCovid/Coronahack-Chest-XRay-Dataset/test3/IM-0256-0001.jpeg'\n",
            "renamed '/content/drive/MyDrive/Colab Notebooks/Final/KaggleCovid/Coronahack-Chest-XRay-Dataset/test3/0/IM-0264-0001.jpeg' -> '/content/drive/MyDrive/Colab Notebooks/Final/KaggleCovid/Coronahack-Chest-XRay-Dataset/test3/IM-0264-0001.jpeg'\n",
            "renamed '/content/drive/MyDrive/Colab Notebooks/Final/KaggleCovid/Coronahack-Chest-XRay-Dataset/test3/0/IM-0265-0001.jpeg' -> '/content/drive/MyDrive/Colab Notebooks/Final/KaggleCovid/Coronahack-Chest-XRay-Dataset/test3/IM-0265-0001.jpeg'\n",
            "renamed '/content/drive/MyDrive/Colab Notebooks/Final/KaggleCovid/Coronahack-Chest-XRay-Dataset/test3/0/IM-0266-0001.jpeg' -> '/content/drive/MyDrive/Colab Notebooks/Final/KaggleCovid/Coronahack-Chest-XRay-Dataset/test3/IM-0266-0001.jpeg'\n"
          ],
          "name": "stdout"
        }
      ]
    }
  ]
}